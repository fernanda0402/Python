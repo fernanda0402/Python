{
  "nbformat": 4,
  "nbformat_minor": 0,
  "metadata": {
    "colab": {
      "name": "circular_source.ipynb",
      "provenance": [],
      "authorship_tag": "ABX9TyMWIWbg8GcPKif29LNz5czZ",
      "include_colab_link": true
    },
    "kernelspec": {
      "name": "python3",
      "display_name": "Python 3"
    }
  },
  "cells": [
    {
      "cell_type": "markdown",
      "metadata": {
        "id": "view-in-github",
        "colab_type": "text"
      },
      "source": [
        "<a href=\"https://colab.research.google.com/github/fernanda0402/Python/blob/master/circular_source.ipynb\" target=\"_parent\"><img src=\"https://colab.research.google.com/assets/colab-badge.svg\" alt=\"Open In Colab\"/></a>"
      ]
    },
    {
      "cell_type": "code",
      "metadata": {
        "id": "Xdj9ke78KYFB"
      },
      "source": [
        "!unzip analytic-sl-solutions-main.zip"
      ],
      "execution_count": null,
      "outputs": []
    },
    {
      "cell_type": "code",
      "metadata": {
        "id": "Al8pmfAIKkO0"
      },
      "source": [
        "import sys\r\n",
        "sys.path.append(\"analytic-sl-solutions-main/src/circular_source\")"
      ],
      "execution_count": null,
      "outputs": []
    },
    {
      "cell_type": "code",
      "metadata": {
        "id": "8lSIrqMhKmiO"
      },
      "source": [
        "import Arcs\r\n",
        "import matplotlib.pyplot as plt\r\n",
        "import numpy as np"
      ],
      "execution_count": null,
      "outputs": []
    },
    {
      "cell_type": "code",
      "metadata": {
        "id": "vfAoRLjUKrI-"
      },
      "source": [
        "r0 = 0.1\r\n",
        "s =  0.3 # 0.01\r\n",
        "theta_e = 1\r\n",
        "phi_0 = 0"
      ],
      "execution_count": null,
      "outputs": []
    },
    {
      "cell_type": "code",
      "metadata": {
        "id": "FTAYNt5XKvKt"
      },
      "source": [
        "x_out = []    # Posição das imagens fora do raio de Einstein\r\n",
        "y_out = []\r\n",
        "\r\n",
        "x_in = []   # Posição das imagens dentro do raio de Einstein\r\n",
        "y_in = []\r\n",
        "\r\n",
        "x_source = []   # Posição da fonte\r\n",
        "y_source = []\r\n",
        "\r\n",
        "x_e = []  # Posição do anel de Einstein\r\n",
        "y_e = []\r\n",
        "\r\n",
        "if(s<r0):\r\n",
        "\r\n",
        "\tphi = 0\r\n",
        "\r\n",
        "\twhile(phi <= 2*np.pi):\r\n",
        "\r\n",
        "\t\tbeta = Arcs.betaplus(phi, phi_0, r0, s)\r\n",
        "\t\ttheta1 = Arcs.thetaplus_plus(phi, phi_0, r0, s, theta_e)\r\n",
        "\t\ttheta2 = Arcs.thetaminus_plus(phi, phi_0, r0, s, theta_e)\r\n",
        "\r\n",
        "\t\tx_source.append(beta*np.cos(phi))\r\n",
        "\t\ty_source.append(beta*np.sin(phi))\r\n",
        "\t\tx_out.append(theta1*np.cos(phi))\r\n",
        "\t\ty_out.append(theta1*np.sin(phi))\r\n",
        "\t\tx_in.append(theta2*np.cos(phi))\r\n",
        "\t\ty_in.append(theta2*np.sin(phi))\r\n",
        "\r\n",
        "\t\tphi = phi + 0.001\r\n",
        "\r\n",
        "#__________________________________________________________________________________\r\n",
        "else:\r\n",
        "\r\n",
        "\tphi = phi_0 - np.arcsin(r0/s) #asin(r0/s)\r\n",
        "\r\n",
        "\t#loop para theta1 com beta+\r\n",
        "\twhile(phi <= phi_0 + np.arcsin(r0/s)):\r\n",
        "\r\n",
        "\t\tbeta_ext = Arcs.betaplus(phi, phi_0, r0, s) \r\n",
        "\t\ttheta1_ext =  Arcs.thetaplus_plus(phi, phi_0, r0, s, theta_e)\r\n",
        "\r\n",
        "\t\t#adcionamos os valores as listas criadas\r\n",
        "\t\tx_source.append(beta_ext*np.cos(phi))\r\n",
        "\t\ty_source.append(beta_ext*np.sin(phi))\r\n",
        "\t\tx_out.append(theta1_ext*np.cos(phi))\r\n",
        "\t\ty_out.append(theta1_ext*np.sin(phi))\r\n",
        "\r\n",
        "\t\tphi = phi + 0.001 #somamos angulos\r\n",
        "\r\n",
        "\t#o angulo agora eh maximo. inserimos a condicao para rodar ate o angulo minimo\r\n",
        "#______________________________________________________________________________________________\r\n",
        "\t#loop para theta1 com beta-\r\n",
        "\twhile(phi >= phi_0 - np.arcsin(r0/s)):\r\n",
        "\r\n",
        "\t\tbeta_int = Arcs.betaminus(phi, phi_0, r0, s) #beta-\r\n",
        "\t\ttheta1_int = Arcs.thetaplus_minus(phi, phi_0, r0, s, theta_e)\r\n",
        "\r\n",
        "\t\tx_source.append(beta_int*np.cos(phi))\r\n",
        "\t\ty_source.append(beta_int*np.sin(phi))\r\n",
        "\t\tx_out.append(theta1_int*np.cos(phi))\r\n",
        "\t\ty_out.append(theta1_int*np.sin(phi))\r\n",
        "\r\n",
        "\t\tphi = phi - 0.001 #subtraimos angulos\r\n",
        "\r\n",
        "\tphi = phi_0 - np.arcsin(r0/s) + np.pi\r\n",
        "#______________________________________________________________________________________________________\r\n",
        "\t#loop para theta2 com beta+\r\n",
        "\twhile(phi <= phi_0 + np.arcsin(r0/s) + np.pi):\r\n",
        "\r\n",
        "\t\tbeta_ext = s*np.cos(phi - phi_0) + np.sqrt((r0**2 - (s**2)*(np.sin(phi - phi_0))**2)) #beta+  #Arcs.betaplus(phi, phi_0, r0, s)    #beta+\r\n",
        "\t\tbeta_ext2 = beta_ext**2\r\n",
        "\t\ttheta2_ext = (beta_ext/2 + np.sqrt(beta_ext2/4 + theta_e**2))  #Arcs.thetaplus_plus(phi, phi_0, r0, s, theta_e)            \r\n",
        "\r\n",
        "\t\tx_in.append(theta2_ext*np.cos(phi))\r\n",
        "\t\ty_in.append(theta2_ext*np.sin(phi))\t\r\n",
        "\r\n",
        "\t\tphi = phi + 0.001\r\n",
        "#_______________________________________________________________________________________________________\r\n",
        "\r\n",
        "\t#loop para theta2 com beta- \r\n",
        "\twhile(phi >= phi_0 - np.arcsin(r0/s) + np.pi):\r\n",
        "\r\n",
        "\t\tbeta_int = Arcs.betaminus(phi, phi_0, r0, s) #beta-\r\n",
        "\t\ttheta2_int = Arcs.thetaplus_minus(phi, phi_0, r0, s, theta_e)\r\n",
        "\r\n",
        "\r\n",
        "\t\tx_in.append(theta2_int*np.cos(phi))\r\n",
        "\t\ty_in.append(theta2_int*np.sin(phi))\r\n",
        "\r\n",
        "\t\tphi = phi - 0.001\r\n",
        "#_______________________________________________________________________________________________________\r\n",
        "\r\n",
        "i = 0\r\n",
        "while(i<=2*np.pi):\r\n",
        "\tx_e.append(theta_e*np.cos(i))\r\n",
        "\ty_e.append(theta_e*np.sin(i))\r\n",
        "\ti+=0.01"
      ],
      "execution_count": null,
      "outputs": []
    },
    {
      "cell_type": "code",
      "metadata": {
        "colab": {
          "base_uri": "https://localhost:8080/",
          "height": 421
        },
        "id": "JVYp7ERlKxkh",
        "outputId": "932bf143-6f78-4d0e-b8e2-92bd6a1ed10d"
      },
      "source": [
        "# plotamos os graficos\r\n",
        "plt.figure(figsize=(6,6))    \r\n",
        "plt.plot(x_source, y_source,\"c\")  # círculo da fonte\r\n",
        "plt.plot(x_e, y_e, \"k--\") # círculo de Einstein?\r\n",
        "plt.plot(x_out, y_out, \"y\") #Imagem de fora\r\n",
        "plt.plot(x_in, y_in, \"m\") # Imagem de dentro\r\n",
        "\r\n",
        "plt.plot([-3, 3],[0, 0], \"k:\")\r\n",
        "plt.plot([0,0],[-3, 3], \"k:\")\r\n",
        "plt.axis([-1.5, 1.5, -1.5, 1.5])\r\n",
        "\r\n",
        "plt.title(\"Point-like lens \\n  Circular source \\n R = 0.1, s = 0.2, $\\phi_0$ = 0\")\r\n",
        "plt.legend([\"Source\", r'$\\theta_E$', r'$\\theta_1$',r'$\\theta_2$'])\r\n",
        "#plt.savefig(\"grafico1.png\")\r\n",
        "plt.grid(True)\r\n",
        "plt.show()  "
      ],
      "execution_count": null,
      "outputs": [
        {
          "output_type": "display_data",
          "data": {
            "image/png": "[encoded data removed]",
            "text/plain": [
              "<Figure size 432x432 with 1 Axes>"
            ]
          },
          "metadata": {
            "tags": [],
            "needs_background": "light"
          }
        }
      ]
    },
    {
      "cell_type": "code",
      "metadata": {
        "colab": {
          "base_uri": "https://localhost:8080/",
          "height": 282
        },
        "id": "pLQ_4oq9LOxE",
        "outputId": "d7b1e2db-d3d2-4d20-e56a-c9c23dec9a58"
      },
      "source": [
        "plt.plot(x_source, y_source)"
      ],
      "execution_count": null,
      "outputs": [
        {
          "output_type": "execute_result",
          "data": {
            "text/plain": [
              "[<matplotlib.lines.Line2D at 0x7fb660914a58>]"
            ]
          },
          "metadata": {
            "tags": []
          },
          "execution_count": 20
        },
        {
          "output_type": "display_data",
          "data": {
            "image/png": "[encoded data removed]",
            "text/plain": [
              "<Figure size 432x288 with 1 Axes>"
            ]
          },
          "metadata": {
            "tags": [],
            "needs_background": "light"
          }
        }
      ]
    },
    {
      "cell_type": "markdown",
      "metadata": {
        "id": "RkJyQByPVutm"
      },
      "source": [
        "Estão aparecendo alguns erros na formação do gráfico, como o caso da fonte parecer uma vírgula e a linha horizontal em $\\theta_2$. "
      ]
    }
  ]
}