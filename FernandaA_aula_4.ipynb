{
  "nbformat": 4,
  "nbformat_minor": 0,
  "metadata": {
    "colab": {
      "name": "FernandaA_aula_4.ipynb",
      "provenance": [],
      "authorship_tag": "ABX9TyM9k8v77KehQocuz862lKMg",
      "include_colab_link": true
    },
    "kernelspec": {
      "name": "python3",
      "display_name": "Python 3"
    }
  },
  "cells": [
    {
      "cell_type": "markdown",
      "metadata": {
        "id": "view-in-github",
        "colab_type": "text"
      },
      "source": [
        "<a href=\"https://colab.research.google.com/github/fernanda0402/Python/blob/master/FernandaA_aula_4.ipynb\" target=\"_parent\"><img src=\"https://colab.research.google.com/assets/colab-badge.svg\" alt=\"Open In Colab\"/></a>"
      ]
    },
    {
      "cell_type": "markdown",
      "metadata": {
        "id": "PSjBhv5cFGj6"
      },
      "source": [
        "Escreva uma versão mais geral de print_spam (exemplo da aula 4), chamada print_twice, que use uma string como parâmetro e imprima duas vezes. Use a versão modificada de do_twice para chamar print_twice duas vezes, passando 'spam' como um argumento. Defina uma nova função chamada do_four que recebe um objeto de função e um valor e chama a função quatro vezes, passando o valor como um parâmetro. Deve haver apenas duas declarações no corpo desta função, não quatro.\n"
      ]
    },
    {
      "cell_type": "code",
      "metadata": {
        "id": "N8E_EfHxFM1k",
        "outputId": "59c1e7ed-c75f-41e7-eb20-71c86ab56869",
        "colab": {
          "base_uri": "https://localhost:8080/",
          "height": 51
        }
      },
      "source": [
        "def do_twice (f):\n",
        "    f ()\n",
        "    f ()\n",
        "\n",
        "def print_spam ():\n",
        "    print('spam')\n",
        "\n",
        "do_twice(print_spam)"
      ],
      "execution_count": 6,
      "outputs": [
        {
          "output_type": "stream",
          "text": [
            "spam\n",
            "spam\n"
          ],
          "name": "stdout"
        }
      ]
    },
    {
      "cell_type": "code",
      "metadata": {
        "id": "Rnt14G5LGE5x",
        "outputId": "fe0bc983-89af-47a6-ee24-31625fbb0bf7",
        "colab": {
          "base_uri": "https://localhost:8080/",
          "height": 51
        }
      },
      "source": [
        "def do_twice(f,x):\n",
        "\t  f(x)\n",
        "\t  f(x)\n",
        "   \n",
        "def print_spam(x):\n",
        "\t  print(x)\n",
        "   \n",
        "x = 'spam modificado'\n",
        "do_twice(print_spam, x)"
      ],
      "execution_count": 8,
      "outputs": [
        {
          "output_type": "stream",
          "text": [
            "spam modificado\n",
            "spam modificado\n"
          ],
          "name": "stdout"
        }
      ]
    },
    {
      "cell_type": "code",
      "metadata": {
        "id": "L649XOPwGTqG",
        "outputId": "a764f445-7d2a-4e4f-f2e4-fdab62d32c8d",
        "colab": {
          "base_uri": "https://localhost:8080/",
          "height": 85
        }
      },
      "source": [
        "def print_twice(y):\n",
        "\t  print(y)\n",
        "\t  print(y)\n",
        "\n",
        "y = 'spam geral'\n",
        "do_twice(print_twice, y)"
      ],
      "execution_count": 9,
      "outputs": [
        {
          "output_type": "stream",
          "text": [
            "spam geral\n",
            "spam geral\n",
            "spam geral\n",
            "spam geral\n"
          ],
          "name": "stdout"
        }
      ]
    },
    {
      "cell_type": "code",
      "metadata": {
        "id": "nSmmJ0A6Gaqi",
        "outputId": "b576f02a-9ebc-489e-a05a-edb56fca5f5d",
        "colab": {
          "base_uri": "https://localhost:8080/",
          "height": 51
        }
      },
      "source": [
        "def do_four(f,x):\n",
        "\t  print(f,x)\n",
        "\t  print(f,x)\n",
        "\n",
        "z = 'spam'\n",
        "do_twice(print_spam,z)"
      ],
      "execution_count": 13,
      "outputs": [
        {
          "output_type": "stream",
          "text": [
            "spam\n",
            "spam\n"
          ],
          "name": "stdout"
        }
      ]
    }
  ]
}