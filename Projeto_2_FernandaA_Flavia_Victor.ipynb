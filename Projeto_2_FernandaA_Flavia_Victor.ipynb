{
  "nbformat": 4,
  "nbformat_minor": 0,
  "metadata": {
    "colab": {
      "name": "Projeto_2_FernandaA_Flavia_Victor.ipynb",
      "provenance": [],
      "collapsed_sections": [],
      "include_colab_link": true
    },
    "kernelspec": {
      "name": "python3",
      "display_name": "Python 3"
    }
  },
  "cells": [
    {
      "cell_type": "markdown",
      "metadata": {
        "id": "view-in-github",
        "colab_type": "text"
      },
      "source": [
        "<a href=\"https://colab.research.google.com/github/fernanda0402/Python/blob/master/Projeto_2_FernandaA_Flavia_Victor.ipynb\" target=\"_parent\"><img src=\"https://colab.research.google.com/assets/colab-badge.svg\" alt=\"Open In Colab\"/></a>"
      ]
    },
    {
      "cell_type": "markdown",
      "metadata": {
        "id": "CWVfNAWILG7s"
      },
      "source": [
        "# **Projeto 2 de Introdução à Python**"
      ]
    },
    {
      "cell_type": "markdown",
      "metadata": {
        "id": "OxsAd1EELSf_"
      },
      "source": [
        "Alunos: Fernanda Araujo, Flávia Fialho e Victor Assis."
      ]
    },
    {
      "cell_type": "markdown",
      "metadata": {
        "id": "B040NGtFz9oc"
      },
      "source": [
        "Questão 1: Criar uma Classe Perceptron em Python. Seguimos o esqueleto de Classe apresentado em aula pelos professores."
      ]
    },
    {
      "cell_type": "code",
      "metadata": {
        "id": "XbJEO_aLLaBG"
      },
      "source": [
        "#Definindo as bibliotecas\r\n",
        "\r\n",
        "import numpy as np\r\n",
        "from sklearn.datasets import load_iris\r\n",
        "from sklearn.linear_model import Perceptron\r\n",
        "iris = load_iris()"
      ],
      "execution_count": 23,
      "outputs": []
    },
    {
      "cell_type": "code",
      "metadata": {
        "id": "n5Kw1Y-dOTfT"
      },
      "source": [
        "#Questão 1\r\n",
        "\r\n",
        "class Nosso_perceptron():\r\n",
        "\r\n",
        "    def __init__(self, no_of_inputs, threshold=100, learning_rate=0.01):\r\n",
        "        '''\r\n",
        "        método de inicialização que tem os seguintes atributos:\r\n",
        "        no_of_inputs: número de features passadas como input ao perceptron\r\n",
        "        threshold: número de iterações de atualização do peso\r\n",
        "        learning_rate: taxa com a qual os pesos são atualizados a cada iteração\r\n",
        "        weights: inicialização dos pesos (dica: pode inicializar com método np.zeros). Não se esquecer que o vetor dos pesos\r\n",
        "        terá no_of_inputs + 1 elementos por conta do bias que é o primeiro elemento.\r\n",
        "        '''\r\n",
        "        self.b = 0\r\n",
        "        self.weights = np.zeros(no_of_inputs)              \r\n",
        "        self.threshold = threshold\r\n",
        "        self.learning_rate = learning_rate\r\n",
        "           \r\n",
        "    def predict(self, inputs):\r\n",
        "      '''\r\n",
        "      método de implementação da função de ativação.\r\n",
        "      inputs: array com o conjunto de inputs (features). No projeto pedimos que considerassem o comprimento e largura da pétala da Iris.\r\n",
        "      Não se esquecer que o produto da função de ativação é um produto escalar e pode ser calculado pelo método np.dot\r\n",
        "      '''         \r\n",
        "      f = np.heaviside(np.dot(self.weights, inputs) + self.b, 0)\r\n",
        "      return f\r\n",
        "\r\n",
        "    def train(self, training_inputs, labels):\r\n",
        "      '''\r\n",
        "      método de treino. É aqui que os pesos são atualizados um certo número de vezes (determinado pelo valor do threshold).\r\n",
        "      Nesse método é feita a comparação entre o resultado da função de ativação (predição) e\r\n",
        "      o resultado esperado (label).\r\n",
        "      O método deve atualizar tanto os pesos quanto o bias (lembre que o bias é o primeiro valor do vetor peso e tem input 1.)\r\n",
        "      A atualização é feita iterativamente um número (threshold) de vezes.\r\n",
        "      '''\r\n",
        "      for i in range(self.threshold):\r\n",
        "          for j in range(len(training_inputs)):\r\n",
        "            prediction = self.predict(training_inputs[j])\r\n",
        "            erro = labels[j] - prediction\r\n",
        "            self.weights += self.learning_rate * erro * training_inputs[j]\r\n",
        "            self.b += self.learning_rate * erro * 1      # seu input é 1"
      ],
      "execution_count": 24,
      "outputs": []
    },
    {
      "cell_type": "markdown",
      "metadata": {
        "id": "kbJGWneg14IO"
      },
      "source": [
        "Imprimindo os tipos de flores Iris e suas características:"
      ]
    },
    {
      "cell_type": "code",
      "metadata": {
        "colab": {
          "base_uri": "https://localhost:8080/"
        },
        "id": "UdZAwZNmOV6q",
        "outputId": "37527630-0d3b-4c74-9cc7-ac789a268053"
      },
      "source": [
        "print(iris.target_names)    # target = label\r\n",
        "print(iris.feature_names)"
      ],
      "execution_count": 25,
      "outputs": [
        {
          "output_type": "stream",
          "text": [
            "['setosa' 'versicolor' 'virginica']\n",
            "['sepal length (cm)', 'sepal width (cm)', 'petal length (cm)', 'petal width (cm)']\n"
          ],
          "name": "stdout"
        }
      ]
    },
    {
      "cell_type": "markdown",
      "metadata": {
        "id": "8IgYD3Zi3-v0"
      },
      "source": [
        "Pelo segundo print acima, as features são: 0: sepal length, 1: sepal width, 2: petal length, 3: petal width."
      ]
    },
    {
      "cell_type": "markdown",
      "metadata": {
        "id": "ZTOkmOLJz21p"
      },
      "source": [
        "Questão 2: Aplique essa classe nos dados das flores Iris para determinar se uma Iris com um certo comprimento e largura da pétala é uma Iris Setosa."
      ]
    },
    {
      "cell_type": "code",
      "metadata": {
        "colab": {
          "base_uri": "https://localhost:8080/"
        },
        "id": "yyIGPU0NOXrq",
        "outputId": "223cf3ca-a300-4b93-bd08-bee2e2083446"
      },
      "source": [
        "#Questão 2\r\n",
        "\r\n",
        "perceptron = Nosso_perceptron(2)\r\n",
        "\r\n",
        "#Vamos selecionar somente as features comprimento e largura da pétala:\r\n",
        "X = iris.data[:, (2,3)]             # inputs\r\n",
        "y = (iris.target == 0).astype(int)  # label = iris setosa. Retorna uma lista com os labels da Iris-Setosa. 0: não, 1: sim   \r\n",
        "\r\n",
        "treino = perceptron.train(X,y)\r\n",
        "pred = perceptron.predict([1, 0.5])\r\n",
        "print(pred)"
      ],
      "execution_count": 42,
      "outputs": [
        {
          "output_type": "stream",
          "text": [
            "1.0\n"
          ],
          "name": "stdout"
        }
      ]
    },
    {
      "cell_type": "markdown",
      "metadata": {
        "id": "I1GdyuW7zwVv"
      },
      "source": [
        "Questão 3: Compare o resultado da nossa classe com a classe Peceptron do módulo do scikit-learn linear_model."
      ]
    },
    {
      "cell_type": "code",
      "metadata": {
        "colab": {
          "base_uri": "https://localhost:8080/"
        },
        "id": "XeujsKf2Oauk",
        "outputId": "cbf766fe-a9e3-41e7-b58f-d57c44fad87c"
      },
      "source": [
        "#Questão 3\r\n",
        "\r\n",
        "#A partir do módulo do scikit-learn linear_model.\r\n",
        "\r\n",
        "perceptron_clf = Perceptron()      # dois inputs: comprimento e largura da pétala\r\n",
        "perceptron_clf.fit(X,y)            # Train\r\n",
        "\r\n",
        "y_pred = perceptron_clf.predict([[1,0.5]]) \r\n",
        "\r\n",
        "print(y_pred)"
      ],
      "execution_count": 39,
      "outputs": [
        {
          "output_type": "stream",
          "text": [
            "[1]\n"
          ],
          "name": "stdout"
        }
      ]
    },
    {
      "cell_type": "markdown",
      "metadata": {
        "id": "zpiQG3qJzn2s"
      },
      "source": [
        "Fazendo as comparações entre nossa classe e o módulo scikit-learn linear_model:"
      ]
    },
    {
      "cell_type": "code",
      "metadata": {
        "colab": {
          "base_uri": "https://localhost:8080/"
        },
        "id": "UTnpwOcuOdHu",
        "outputId": "9062f806-b960-4014-9a2d-289ed1cd2e20"
      },
      "source": [
        "# Teste 1\r\n",
        "\r\n",
        "y_pred = perceptron_clf.predict([[1,0.5]])  \r\n",
        "nosso = perceptron.predict([1,0.5])\r\n",
        "print(y_pred)\r\n",
        "print(nosso)"
      ],
      "execution_count": 37,
      "outputs": [
        {
          "output_type": "stream",
          "text": [
            "[1]\n",
            "1.0\n"
          ],
          "name": "stdout"
        }
      ]
    },
    {
      "cell_type": "markdown",
      "metadata": {
        "id": "CMQsGQZ723CF"
      },
      "source": [
        "Obtivemos o mesmo resultado utilizando a nossa classe e o método do scikit-learn linear_model.\r\n",
        "\r\n",
        "Abaixo, testamos para mais valores de comprimento e largura da pétala."
      ]
    },
    {
      "cell_type": "code",
      "metadata": {
        "colab": {
          "base_uri": "https://localhost:8080/"
        },
        "id": "Umn5jQjuOd4m",
        "outputId": "3e9a226e-763b-4c4c-88dd-10f76cc2a067"
      },
      "source": [
        "# Teste 2\r\n",
        "\r\n",
        "y_pred = perceptron_clf.predict([[4,0.5]])  \r\n",
        "nosso = perceptron.predict([4,0.5])\r\n",
        "print(y_pred)\r\n",
        "print(nosso)"
      ],
      "execution_count": 29,
      "outputs": [
        {
          "output_type": "stream",
          "text": [
            "[0]\n",
            "0.0\n"
          ],
          "name": "stdout"
        }
      ]
    },
    {
      "cell_type": "markdown",
      "metadata": {
        "id": "ZhcgwsYt6SjD"
      },
      "source": [
        "Imprimindo os valores de X e y:"
      ]
    },
    {
      "cell_type": "code",
      "metadata": {
        "colab": {
          "base_uri": "https://localhost:8080/"
        },
        "id": "2xh6Aem_6QDC",
        "outputId": "b8233542-0cca-4429-9b91-396e239775e8"
      },
      "source": [
        "print(X)  # Para entendermos melhor os resultados do Perceptron referente ao módulo do scikit-learn linear_model, nós imprimimos os dados.\r\n",
        "print(y)  # Para sabemos quais são as Iris Setosas, conhecendo X."
      ],
      "execution_count": 44,
      "outputs": [
        {
          "output_type": "stream",
          "text": [
            "[[1.4 0.2]\n",
            " [1.4 0.2]\n",
            " [1.3 0.2]\n",
            " [1.5 0.2]\n",
            " [1.4 0.2]\n",
            " [1.7 0.4]\n",
            " [1.4 0.3]\n",
            " [1.5 0.2]\n",
            " [1.4 0.2]\n",
            " [1.5 0.1]\n",
            " [1.5 0.2]\n",
            " [1.6 0.2]\n",
            " [1.4 0.1]\n",
            " [1.1 0.1]\n",
            " [1.2 0.2]\n",
            " [1.5 0.4]\n",
            " [1.3 0.4]\n",
            " [1.4 0.3]\n",
            " [1.7 0.3]\n",
            " [1.5 0.3]\n",
            " [1.7 0.2]\n",
            " [1.5 0.4]\n",
            " [1.  0.2]\n",
            " [1.7 0.5]\n",
            " [1.9 0.2]\n",
            " [1.6 0.2]\n",
            " [1.6 0.4]\n",
            " [1.5 0.2]\n",
            " [1.4 0.2]\n",
            " [1.6 0.2]\n",
            " [1.6 0.2]\n",
            " [1.5 0.4]\n",
            " [1.5 0.1]\n",
            " [1.4 0.2]\n",
            " [1.5 0.2]\n",
            " [1.2 0.2]\n",
            " [1.3 0.2]\n",
            " [1.4 0.1]\n",
            " [1.3 0.2]\n",
            " [1.5 0.2]\n",
            " [1.3 0.3]\n",
            " [1.3 0.3]\n",
            " [1.3 0.2]\n",
            " [1.6 0.6]\n",
            " [1.9 0.4]\n",
            " [1.4 0.3]\n",
            " [1.6 0.2]\n",
            " [1.4 0.2]\n",
            " [1.5 0.2]\n",
            " [1.4 0.2]\n",
            " [4.7 1.4]\n",
            " [4.5 1.5]\n",
            " [4.9 1.5]\n",
            " [4.  1.3]\n",
            " [4.6 1.5]\n",
            " [4.5 1.3]\n",
            " [4.7 1.6]\n",
            " [3.3 1. ]\n",
            " [4.6 1.3]\n",
            " [3.9 1.4]\n",
            " [3.5 1. ]\n",
            " [4.2 1.5]\n",
            " [4.  1. ]\n",
            " [4.7 1.4]\n",
            " [3.6 1.3]\n",
            " [4.4 1.4]\n",
            " [4.5 1.5]\n",
            " [4.1 1. ]\n",
            " [4.5 1.5]\n",
            " [3.9 1.1]\n",
            " [4.8 1.8]\n",
            " [4.  1.3]\n",
            " [4.9 1.5]\n",
            " [4.7 1.2]\n",
            " [4.3 1.3]\n",
            " [4.4 1.4]\n",
            " [4.8 1.4]\n",
            " [5.  1.7]\n",
            " [4.5 1.5]\n",
            " [3.5 1. ]\n",
            " [3.8 1.1]\n",
            " [3.7 1. ]\n",
            " [3.9 1.2]\n",
            " [5.1 1.6]\n",
            " [4.5 1.5]\n",
            " [4.5 1.6]\n",
            " [4.7 1.5]\n",
            " [4.4 1.3]\n",
            " [4.1 1.3]\n",
            " [4.  1.3]\n",
            " [4.4 1.2]\n",
            " [4.6 1.4]\n",
            " [4.  1.2]\n",
            " [3.3 1. ]\n",
            " [4.2 1.3]\n",
            " [4.2 1.2]\n",
            " [4.2 1.3]\n",
            " [4.3 1.3]\n",
            " [3.  1.1]\n",
            " [4.1 1.3]\n",
            " [6.  2.5]\n",
            " [5.1 1.9]\n",
            " [5.9 2.1]\n",
            " [5.6 1.8]\n",
            " [5.8 2.2]\n",
            " [6.6 2.1]\n",
            " [4.5 1.7]\n",
            " [6.3 1.8]\n",
            " [5.8 1.8]\n",
            " [6.1 2.5]\n",
            " [5.1 2. ]\n",
            " [5.3 1.9]\n",
            " [5.5 2.1]\n",
            " [5.  2. ]\n",
            " [5.1 2.4]\n",
            " [5.3 2.3]\n",
            " [5.5 1.8]\n",
            " [6.7 2.2]\n",
            " [6.9 2.3]\n",
            " [5.  1.5]\n",
            " [5.7 2.3]\n",
            " [4.9 2. ]\n",
            " [6.7 2. ]\n",
            " [4.9 1.8]\n",
            " [5.7 2.1]\n",
            " [6.  1.8]\n",
            " [4.8 1.8]\n",
            " [4.9 1.8]\n",
            " [5.6 2.1]\n",
            " [5.8 1.6]\n",
            " [6.1 1.9]\n",
            " [6.4 2. ]\n",
            " [5.6 2.2]\n",
            " [5.1 1.5]\n",
            " [5.6 1.4]\n",
            " [6.1 2.3]\n",
            " [5.6 2.4]\n",
            " [5.5 1.8]\n",
            " [4.8 1.8]\n",
            " [5.4 2.1]\n",
            " [5.6 2.4]\n",
            " [5.1 2.3]\n",
            " [5.1 1.9]\n",
            " [5.9 2.3]\n",
            " [5.7 2.5]\n",
            " [5.2 2.3]\n",
            " [5.  1.9]\n",
            " [5.2 2. ]\n",
            " [5.4 2.3]\n",
            " [5.1 1.8]]\n",
            "[1 1 1 1 1 1 1 1 1 1 1 1 1 1 1 1 1 1 1 1 1 1 1 1 1 1 1 1 1 1 1 1 1 1 1 1 1\n",
            " 1 1 1 1 1 1 1 1 1 1 1 1 1 0 0 0 0 0 0 0 0 0 0 0 0 0 0 0 0 0 0 0 0 0 0 0 0\n",
            " 0 0 0 0 0 0 0 0 0 0 0 0 0 0 0 0 0 0 0 0 0 0 0 0 0 0 0 0 0 0 0 0 0 0 0 0 0\n",
            " 0 0 0 0 0 0 0 0 0 0 0 0 0 0 0 0 0 0 0 0 0 0 0 0 0 0 0 0 0 0 0 0 0 0 0 0 0\n",
            " 0 0]\n"
          ],
          "name": "stdout"
        }
      ]
    },
    {
      "cell_type": "code",
      "metadata": {
        "colab": {
          "base_uri": "https://localhost:8080/"
        },
        "id": "K52MVtTbOiZX",
        "outputId": "68e802eb-d2c9-4f27-ed6b-2dc97773211e"
      },
      "source": [
        "# Teste 3\r\n",
        "\r\n",
        "y_pred = perceptron_clf.predict([[3.3,0.5]])  \r\n",
        "nosso = perceptron.predict([3.3,0.5])\r\n",
        "print(y_pred)\r\n",
        "print(nosso)"
      ],
      "execution_count": 45,
      "outputs": [
        {
          "output_type": "stream",
          "text": [
            "[0]\n",
            "0.0\n"
          ],
          "name": "stdout"
        }
      ]
    },
    {
      "cell_type": "code",
      "metadata": {
        "colab": {
          "base_uri": "https://localhost:8080/"
        },
        "id": "GSUlF67eOkyA",
        "outputId": "90d0c24a-3ce1-429f-ca80-91d631b95d9c"
      },
      "source": [
        "# Teste 4\r\n",
        "\r\n",
        "y_pred = perceptron_clf.predict([[3.2,0.5]])  \r\n",
        "nosso = perceptron.predict([3.2,0.5])\r\n",
        "print(y_pred)\r\n",
        "print(nosso)"
      ],
      "execution_count": 31,
      "outputs": [
        {
          "output_type": "stream",
          "text": [
            "[0]\n",
            "0.0\n"
          ],
          "name": "stdout"
        }
      ]
    },
    {
      "cell_type": "code",
      "metadata": {
        "colab": {
          "base_uri": "https://localhost:8080/"
        },
        "id": "gowEBLjIOnCh",
        "outputId": "d5d700d5-70c7-4b33-a997-23156751b7c5"
      },
      "source": [
        "# Teste 5\r\n",
        "\r\n",
        "y_pred = perceptron_clf.predict([[3.1,0.5]])  \r\n",
        "nosso = perceptron.predict([3.1,0.5])\r\n",
        "print(y_pred)\r\n",
        "print(nosso)"
      ],
      "execution_count": 32,
      "outputs": [
        {
          "output_type": "stream",
          "text": [
            "[0]\n",
            "1.0\n"
          ],
          "name": "stdout"
        }
      ]
    },
    {
      "cell_type": "code",
      "metadata": {
        "colab": {
          "base_uri": "https://localhost:8080/"
        },
        "id": "OVMPvslgxYLv",
        "outputId": "ac210c4a-6372-4d98-aea6-4f1f50758652"
      },
      "source": [
        "# Teste 6\r\n",
        "\r\n",
        "y_pred = perceptron_clf.predict([[2,0.5]])  \r\n",
        "nosso = perceptron.predict([2,0.5])\r\n",
        "print(y_pred)\r\n",
        "print(nosso)"
      ],
      "execution_count": 33,
      "outputs": [
        {
          "output_type": "stream",
          "text": [
            "[0]\n",
            "1.0\n"
          ],
          "name": "stdout"
        }
      ]
    },
    {
      "cell_type": "code",
      "metadata": {
        "colab": {
          "base_uri": "https://localhost:8080/"
        },
        "id": "26Ig7ebIxsvU",
        "outputId": "e2132d94-ed06-4799-caf0-0ff12c62fa88"
      },
      "source": [
        "# Teste 7\r\n",
        "\r\n",
        "y_pred = perceptron_clf.predict([[2,0.4]])  \r\n",
        "nosso = perceptron.predict([2,0.4])\r\n",
        "print(y_pred)\r\n",
        "print(nosso)"
      ],
      "execution_count": 34,
      "outputs": [
        {
          "output_type": "stream",
          "text": [
            "[1]\n",
            "1.0\n"
          ],
          "name": "stdout"
        }
      ]
    },
    {
      "cell_type": "code",
      "metadata": {
        "colab": {
          "base_uri": "https://localhost:8080/"
        },
        "id": "NffxjA6uy3o-",
        "outputId": "f7750223-735a-4cb1-deae-fc57e83e8209"
      },
      "source": [
        "# Teste 8\r\n",
        "\r\n",
        "y_pred = perceptron_clf.predict([[2,1.3]]) \r\n",
        "nosso = perceptron.predict([2,1.3])\r\n",
        "print(y_pred)\r\n",
        "print(nosso)"
      ],
      "execution_count": 35,
      "outputs": [
        {
          "output_type": "stream",
          "text": [
            "[0]\n",
            "0.0\n"
          ],
          "name": "stdout"
        }
      ]
    },
    {
      "cell_type": "markdown",
      "metadata": {
        "id": "-7skurEwOpma"
      },
      "source": [
        "Questão 4: Você pode pensar em algum outro exemplo em que possa aplica o modelo do Perceptron? Quando esse modelo falha?\r\n",
        "\r\n",
        "Podemos aplicar o modelo do Perceptron para todo sistema binário, que nos devolva as respostas \"sim\" ou \"não\". \r\n",
        "\r\n",
        "Esse método falha quando queremos obter um dado que está muito próximo do limite da diferença das duas categorias, como podemos ver nos Testes 5 e 6, ou que talvez não exista no conjunto de dados, como vemos nos Testes 7 e 8. Este conjunto de dados está listado acima da célula do Teste 3."
      ]
    }
  ]
}