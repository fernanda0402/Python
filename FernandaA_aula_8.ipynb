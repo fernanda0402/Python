{
  "nbformat": 4,
  "nbformat_minor": 0,
  "metadata": {
    "colab": {
      "name": "FernandaA_aula_8.ipynb",
      "provenance": [],
      "authorship_tag": "ABX9TyM+viqPjfZ+dV5CWQ5mu0Ye",
      "include_colab_link": true
    },
    "kernelspec": {
      "name": "python3",
      "display_name": "Python 3"
    }
  },
  "cells": [
    {
      "cell_type": "markdown",
      "metadata": {
        "id": "view-in-github",
        "colab_type": "text"
      },
      "source": [
        "<a href=\"https://colab.research.google.com/github/fernanda0402/Python/blob/master/FernandaA_aula_8.ipynb\" target=\"_parent\"><img src=\"https://colab.research.google.com/assets/colab-badge.svg\" alt=\"Open In Colab\"/></a>"
      ]
    },
    {
      "cell_type": "markdown",
      "metadata": {
        "id": "5Wg-ZudoqSYr"
      },
      "source": [
        "**Exercícios feitos em aula**: \n",
        "\n",
        "Exercício 1: Percorra toda a 'string' banana, utilizando as interações apresentadas nas aulas anteriores, e imprima na tela uma letra por linha como se fosse em uma escada.\n",
        "\n",
        "Exercício 2: Escreva uma função que receba uma string como argumento e exiba as letras de trás para a frente, uma por linha."
      ]
    },
    {
      "cell_type": "code",
      "metadata": {
        "id": "YRJaR-Y7qq7e",
        "outputId": "a393b70d-c0f9-401a-aacf-5274a9ad86cf",
        "colab": {
          "base_uri": "https://localhost:8080/",
          "height": 119
        }
      },
      "source": [
        "#Exercício 1\n",
        "fruta = \"banana\"\n",
        "for i in range(len(fruta)):\n",
        "    print(\" \"*i + fruta[i])"
      ],
      "execution_count": 4,
      "outputs": [
        {
          "output_type": "stream",
          "text": [
            "b\n",
            " a\n",
            "  n\n",
            "   a\n",
            "    n\n",
            "     a\n"
          ],
          "name": "stdout"
        }
      ]
    },
    {
      "cell_type": "code",
      "metadata": {
        "id": "Ixi9dAQYrXzb",
        "outputId": "1cae8861-e9d8-4a6e-a19a-f5995ea716b6",
        "colab": {
          "base_uri": "https://localhost:8080/",
          "height": 119
        }
      },
      "source": [
        "#Exercício 2\n",
        "counter = len(fruta)\n",
        "for i in range(len(fruta)):\n",
        "    print(fruta[counter - i - 1])"
      ],
      "execution_count": 5,
      "outputs": [
        {
          "output_type": "stream",
          "text": [
            "a\n",
            "n\n",
            "a\n",
            "n\n",
            "a\n",
            "b\n"
          ],
          "name": "stdout"
        }
      ]
    },
    {
      "cell_type": "markdown",
      "metadata": {
        "id": "WKVCQOeuu7sp"
      },
      "source": [
        "**Exercícios para casa:**"
      ]
    },
    {
      "cell_type": "markdown",
      "metadata": {
        "id": "n2tzD3pZFiCw"
      },
      "source": [
        "Exercício 1: Resolução numérica de equações diferenciais. Imagine que tem um/a maratonista treinando num trecho de $5 km$ com velocidade quase constante de $12 km/h$. Produza uma lista de distância percorrida em intervalos de 1 minuto."
      ]
    },
    {
      "cell_type": "code",
      "metadata": {
        "id": "iMnZnKbkGaeD"
      },
      "source": [
        "#Condições iniciais\n",
        "d_i = 0\n",
        "d_f = 5\n",
        "v = 12\n",
        "t_i = 0\n",
        "dt = 1       #intervalo temporal em minutos\n",
        "\n",
        "#Precisamos passar a velocidade de km/h para km/min\n",
        "def h_para_min(v_h):              \n",
        "\t  v_min = v_h/60\n",
        "\t  return v_min\n",
        "\n",
        "v = h_para_min(v)\n",
        "\n",
        "tempo = []\n",
        "d_percorrida = []\n",
        "\n",
        "while d_i != d_f:\n",
        "\t        tempo.append(dt)\n",
        "\t        d_i = v*t_i\n",
        "\t        t_i = t_i + dt\n",
        "\t        d_percorrida.append(d_i)\n",
        " \n",
        "print('Lista com o intervalo de tempo de 1 minuto:', tempo)\n",
        "print('Lista com a distância percorrida no intervalo de tempo:', d_percorrida)"
      ],
      "execution_count": null,
      "outputs": []
    },
    {
      "cell_type": "markdown",
      "metadata": {
        "id": "pnXLeepoIv0M"
      },
      "source": [
        "Exercício 2: O/A mesmo/a atleta no seguinte trecho acelera por $200$ metros até chegar em $15 km/h$ por $2 km$. Queremos obter uma tabela ou gráfico da distância percorrida en função do tempo e o tempo total para chegar em $7 km$. Faça isto utilizando listas."
      ]
    },
    {
      "cell_type": "code",
      "metadata": {
        "id": "NxWdUCioJ58P"
      },
      "source": [
        ""
      ],
      "execution_count": null,
      "outputs": []
    },
    {
      "cell_type": "markdown",
      "metadata": {
        "id": "Vg3mefeiJ6Ma"
      },
      "source": [
        "Exercício 3: Considere um péndulo simples num plano. O comprimento da linha é $1$ metro, a massa é $0,2 kg$ e a aceleração de gravidade $9,8 m/s^2$. Faça um gráfico ou crie uma tabela para a posição em coordenadas cartesianas em função do tempo, utilizando listas."
      ]
    },
    {
      "cell_type": "code",
      "metadata": {
        "id": "jRNNxPAKKCQy",
        "outputId": "05b4889c-397e-41f1-a2c4-ba35f077cffa",
        "colab": {
          "base_uri": "https://localhost:8080/",
          "height": 299
        }
      },
      "source": [
        "import math\n",
        "import matplotlib.pyplot as plt\n",
        "\n",
        "#Dados do problema\n",
        "l = 1                                             \n",
        "m = 0.2                                           \n",
        "g = 9.8                                           \n",
        "\n",
        "#Condições iniciais\n",
        "theta = math.radians(30)                               #ângulo inicial de 30 graus\n",
        "vx = 0                                           \n",
        "vy = 0                                            \n",
        "w = 0                                             #velocidade angular inicial em (rad/s)\n",
        "t = 0                                            #tempo inicial\n",
        "t_f = 30                                         \n",
        "dt = 0.0001                                       #intervalo temporal em segundos\n",
        "\n",
        "#Posições cartesianas iniciais\n",
        "x = l*math.sin(theta)                                  \n",
        "y = -l*math.cos(theta)                                 \n",
        "\n",
        "#Criando as listas vazias\n",
        "t_list = []                                      \n",
        "x_list = []                                      \n",
        "y_list = []                                       \n",
        "\n",
        "#Atualizando os valores do movimento\n",
        "while t <= t_f:\n",
        "\tx = l*math.sin(theta)                             \n",
        "\ty = -l*math.cos(theta)                             \n",
        "\talfa = -(g/l)*math.sin(theta)                      #alpha é a aceleração angular\n",
        "\tw = w + alfa*dt                             \n",
        "\ttheta = theta + w*dt                          \n",
        "\tt = t + dt                                    \n",
        "\n",
        "#Acrescentando às listas os valores atualizados\n",
        "\tt_list.append(t)                              \n",
        "\tx_list.append(x)                              \n",
        "\ty_list.append(y)                             \n",
        "\n",
        "def plot_gráfico(x,f,x_label,f_label):            \n",
        "\tplt.plot(x,f)                                 \n",
        "\tplt.xlabel(x_label)                          \n",
        "\tplt.ylabel(f_label)                          \n",
        "\n",
        "\n",
        "print('Gráfico da posição x(m) com relação a y(m) do pêndulo simples.')\n",
        "plot_gráfico(x_list,y_list,'Posição x (m)','Posição y (m)')                         "
      ],
      "execution_count": null,
      "outputs": [
        {
          "output_type": "stream",
          "text": [
            "Gráfico da posição x(m) com relação a y(m) do pêndulo simples.\n"
          ],
          "name": "stdout"
        },
        {
          "output_type": "display_data",
          "data": {
            "image/png": "[encoded data removed]",
            "text/plain": [
              "<Figure size 432x288 with 1 Axes>"
            ]
          },
          "metadata": {
            "tags": [],
            "needs_background": "light"
          }
        }
      ]
    }
  ]
}