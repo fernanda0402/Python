{
  "nbformat": 4,
  "nbformat_minor": 0,
  "metadata": {
    "colab": {
      "name": "FernandaA_aula_8.ipynb",
      "provenance": [],
      "authorship_tag": "ABX9TyMo437gGOv6hpMyHsVAtEgw",
      "include_colab_link": true
    },
    "kernelspec": {
      "name": "python3",
      "display_name": "Python 3"
    }
  },
  "cells": [
    {
      "cell_type": "markdown",
      "metadata": {
        "id": "view-in-github",
        "colab_type": "text"
      },
      "source": [
        "<a href=\"https://colab.research.google.com/github/fernanda0402/Python/blob/master/FernandaA_aula_8.ipynb\" target=\"_parent\"><img src=\"https://colab.research.google.com/assets/colab-badge.svg\" alt=\"Open In Colab\"/></a>"
      ]
    },
    {
      "cell_type": "markdown",
      "metadata": {
        "id": "5Wg-ZudoqSYr"
      },
      "source": [
        "**Exercícios feitos em aula**: \n",
        "\n",
        "Exercício 1: Percorra toda a 'string' banana, utilizando as interações apresentadas nas aulas anteriores, e imprima na tela uma letra por linha como se fosse em uma escada.\n",
        "\n",
        "Exercício 2: Escreva uma função que receba uma string como argumento e exiba as letras de trás para a frente, uma por linha."
      ]
    },
    {
      "cell_type": "code",
      "metadata": {
        "id": "YRJaR-Y7qq7e",
        "outputId": "a393b70d-c0f9-401a-aacf-5274a9ad86cf",
        "colab": {
          "base_uri": "https://localhost:8080/",
          "height": 119
        }
      },
      "source": [
        "#Exercício 1\n",
        "fruta = \"banana\"\n",
        "for i in range(len(fruta)):\n",
        "    print(\" \"*i + fruta[i])"
      ],
      "execution_count": null,
      "outputs": [
        {
          "output_type": "stream",
          "text": [
            "b\n",
            " a\n",
            "  n\n",
            "   a\n",
            "    n\n",
            "     a\n"
          ],
          "name": "stdout"
        }
      ]
    },
    {
      "cell_type": "code",
      "metadata": {
        "id": "Ixi9dAQYrXzb",
        "outputId": "1cae8861-e9d8-4a6e-a19a-f5995ea716b6",
        "colab": {
          "base_uri": "https://localhost:8080/",
          "height": 119
        }
      },
      "source": [
        "#Exercício 2\n",
        "counter = len(fruta)\n",
        "for i in range(len(fruta)):\n",
        "    print(fruta[counter - i - 1])"
      ],
      "execution_count": null,
      "outputs": [
        {
          "output_type": "stream",
          "text": [
            "a\n",
            "n\n",
            "a\n",
            "n\n",
            "a\n",
            "b\n"
          ],
          "name": "stdout"
        }
      ]
    },
    {
      "cell_type": "markdown",
      "metadata": {
        "id": "WKVCQOeuu7sp"
      },
      "source": [
        "**Exercícios para casa:**"
      ]
    },
    {
      "cell_type": "markdown",
      "metadata": {
        "id": "n2tzD3pZFiCw"
      },
      "source": [
        "Exercício 1: Resolução numérica de equações diferenciais. Imagine que tem um/a maratonista treinando num trecho de $5 km$ com velocidade quase constante de $12 km/h$. Produza uma lista de distância percorrida em intervalos de 1 minuto."
      ]
    },
    {
      "cell_type": "code",
      "metadata": {
        "id": "iMnZnKbkGaeD",
        "outputId": "431d7a7f-1cc6-4533-ba8f-f224a5c1ebd9",
        "colab": {
          "base_uri": "https://localhost:8080/",
          "height": 71
        }
      },
      "source": [
        "#Condições iniciais\n",
        "d_i = 0\n",
        "d_f = 5\n",
        "v = 12\n",
        "t_0 = 0\n",
        "dt = 1       #intervalo temporal em minutos\n",
        "\n",
        "#Precisamos passar a velocidade de km/h para km/min\n",
        "def h_para_min(v_h):              \n",
        "\t  v_min = v_h/60\n",
        "\t  return v_min\n",
        "\n",
        "v = h_para_min(v)\n",
        "\n",
        "t = []\n",
        "d_percorrida = []\n",
        "\n",
        "while d_i != d_f:\n",
        "\t        t.append(dt)\n",
        "\t        d_i = v*t_0\n",
        "\t        t_0 = t_0 + dt\n",
        "\t        d_percorrida.append(d_i)\n",
        " \n",
        "print('Lista com o intervalo de tempo de 1 minuto:', t)\n",
        "print('Lista com a distância percorrida no intervalo de tempo:', d_percorrida)"
      ],
      "execution_count": 25,
      "outputs": [
        {
          "output_type": "stream",
          "text": [
            "Lista com o intervalo de tempo de 1 minuto: [1, 1, 1, 1, 1, 1, 1, 1, 1, 1, 1, 1, 1, 1, 1, 1, 1, 1, 1, 1, 1, 1, 1, 1, 1, 1]\n",
            "Lista com a distância percorrida no intervalo de tempo: [0.0, 0.2, 0.4, 0.6000000000000001, 0.8, 1.0, 1.2000000000000002, 1.4000000000000001, 1.6, 1.8, 2.0, 2.2, 2.4000000000000004, 2.6, 2.8000000000000003, 3.0, 3.2, 3.4000000000000004, 3.6, 3.8000000000000003, 4.0, 4.2, 4.4, 4.6000000000000005, 4.800000000000001, 5.0]\n"
          ],
          "name": "stdout"
        }
      ]
    },
    {
      "cell_type": "markdown",
      "metadata": {
        "id": "pnXLeepoIv0M"
      },
      "source": [
        "Exercício 2: O/A mesmo/a atleta no seguinte trecho acelera por $200$ metros até chegar em $15 km/h$ por $2 km$. Queremos obter uma tabela ou gráfico da distância percorrida em função do tempo e o tempo total para chegar em $7 km$. Faça isto utilizando listas."
      ]
    },
    {
      "cell_type": "code",
      "metadata": {
        "id": "NxWdUCioJ58P",
        "outputId": "022f4feb-c105-4ca9-98e3-a9e6436722ec",
        "colab": {
          "base_uri": "https://localhost:8080/",
          "height": 153
        }
      },
      "source": [
        "import math as m\n",
        "import matplotlib.pyplot as plt\n",
        "\n",
        "#Dados do problema\n",
        "v0 = 12             \n",
        "vf = 15\n",
        "s0 = 0\n",
        "sf = 0.2\n",
        "t_02 = 0\n",
        "dt2 = 1\n",
        "\n",
        "#Conversão de km/h para km/min\n",
        "v0_conv = v0/60 \n",
        "vf_conv = vf/60 \n",
        "\n",
        "vdiferequad = (vf**2 - v0**2)\n",
        "print(vdiferequad)\n",
        "variação_2 = (2*sf)\n",
        "print(variação_2)\n",
        "\n",
        "#Cálculo da aceleração\n",
        "ac = round(((vf**2 - v0**2)/(2*sf)),3)                     #km/h^2\n",
        "ac_min = round(((vf_conv**2 - v0_conv**2)/(2*sf)),3)            #km/min^2\n",
        "print(ac, 'é a aceleração em km por h^2')\n",
        "print(ac_min, 'é a acerelação em km por min^2')\n",
        "ac_s = ac*3600\n",
        "print(ac_s, 'é a aceleração em km/s^2') \n",
        "\n",
        "#Listas vazias\n",
        "t2 = []\n",
        "d_percorrida2 = []\n",
        "\n",
        "tempo200m = (vf-v0)/ac\n",
        "print(tempo200m, 'h')\n",
        "print(round(tempo200m*60,2), 'min é tempo trancorrido em 200 m')\n",
        "print(round(tempo200m*3600,2), 's é o tempo trancorrido em 200 m')\n",
        "\n",
        "t200 = [25.89]\n",
        "d200m = [5.2]"
      ],
      "execution_count": 26,
      "outputs": [
        {
          "output_type": "stream",
          "text": [
            "81\n",
            "0.4\n",
            "202.5 é a aceleração em km por h^2\n",
            "0.056 é a acerelação em km por min^2\n",
            "729000.0 é a aceleração em km/s^2\n",
            "0.014814814814814815 h\n",
            "0.89 min é tempo trancorrido em 200 m\n",
            "53.33 s é o tempo trancorrido em 200 m\n"
          ],
          "name": "stdout"
        }
      ]
    },
    {
      "cell_type": "code",
      "metadata": {
        "id": "iWv40facve8g",
        "outputId": "5565f11a-8db9-41e9-c623-5baf6a717dfa",
        "colab": {
          "base_uri": "https://localhost:8080/",
          "height": 384
        }
      },
      "source": [
        "#Listas vazias\n",
        "t2 = []\n",
        "d_percorrida2 = []\n",
        "\n",
        "s02 = 5.2\n",
        "sf2 = 7 \n",
        "v1 = 15 \n",
        "t02 = 26 \n",
        "dt3 = 1 \n",
        "\n",
        "#Conversão de km/h para km/min\n",
        "v_conv = v1/60 \n",
        "\n",
        "while s02 != sf2:\n",
        "  t2.append(t02)\n",
        "  s02 = v_conv*t02\n",
        "  t02 = round(t02 + dt3)\n",
        "  d_percorrida2.append(round(s02,2))\n",
        "\n",
        "#Valores atualizados\n",
        "print(t2)\n",
        "print(d_percorrida2)\n",
        "mylist = t + t200 +t2\n",
        "mylistd = d_percorrida + d200m + d_percorrida2\n",
        "print(mylist)\n",
        "print(mylistd)\n",
        "\n",
        "#Gráfico\n",
        "t=mylist\n",
        "x=mylistd\n",
        "\n",
        "plt.plot(t,x)\n",
        "plt.xlabel(\"tempo (min)\")\n",
        "plt.ylabel(\"distância (m)\")"
      ],
      "execution_count": 27,
      "outputs": [
        {
          "output_type": "stream",
          "text": [
            "[26, 27, 28]\n",
            "[6.5, 6.75, 7.0]\n",
            "[1, 1, 1, 1, 1, 1, 1, 1, 1, 1, 1, 1, 1, 1, 1, 1, 1, 1, 1, 1, 1, 1, 1, 1, 1, 1, 25.89, 26, 27, 28]\n",
            "[0.0, 0.2, 0.4, 0.6000000000000001, 0.8, 1.0, 1.2000000000000002, 1.4000000000000001, 1.6, 1.8, 2.0, 2.2, 2.4000000000000004, 2.6, 2.8000000000000003, 3.0, 3.2, 3.4000000000000004, 3.6, 3.8000000000000003, 4.0, 4.2, 4.4, 4.6000000000000005, 4.800000000000001, 5.0, 5.2, 6.5, 6.75, 7.0]\n"
          ],
          "name": "stdout"
        },
        {
          "output_type": "execute_result",
          "data": {
            "text/plain": [
              "Text(0, 0.5, 'distância (m)')"
            ]
          },
          "metadata": {
            "tags": []
          },
          "execution_count": 27
        },
        {
          "output_type": "display_data",
          "data": {
            "image/png": "[encoded data removed]",
            "text/plain": [
              "<Figure size 432x288 with 1 Axes>"
            ]
          },
          "metadata": {
            "tags": [],
            "needs_background": "light"
          }
        }
      ]
    },
    {
      "cell_type": "markdown",
      "metadata": {
        "id": "Vg3mefeiJ6Ma"
      },
      "source": [
        "Exercício 3: Considere um péndulo simples num plano. O comprimento da linha é $1$ metro, a massa é $0,2 kg$ e a aceleração de gravidade $9,8 m/s^2$. Faça um gráfico ou crie uma tabela para a posição em coordenadas cartesianas em função do tempo, utilizando listas."
      ]
    },
    {
      "cell_type": "code",
      "metadata": {
        "id": "jRNNxPAKKCQy",
        "outputId": "05b4889c-397e-41f1-a2c4-ba35f077cffa",
        "colab": {
          "base_uri": "https://localhost:8080/",
          "height": 299
        }
      },
      "source": [
        "import math\n",
        "import matplotlib.pyplot as plt\n",
        "\n",
        "#Dados do problema\n",
        "l = 1                                             \n",
        "m = 0.2                                           \n",
        "g = 9.8                                           \n",
        "\n",
        "#Condições iniciais\n",
        "theta = math.radians(30)                               #ângulo inicial de 30 graus\n",
        "vx = 0                                           \n",
        "vy = 0                                            \n",
        "w = 0                                             #velocidade angular inicial em (rad/s)\n",
        "t = 0                                            #tempo inicial\n",
        "t_f = 30                                         \n",
        "dt = 0.0001                                       #intervalo temporal em segundos\n",
        "\n",
        "#Posições cartesianas iniciais\n",
        "x = l*math.sin(theta)                                  \n",
        "y = -l*math.cos(theta)                                 \n",
        "\n",
        "#Criando as listas vazias\n",
        "t_list = []                                      \n",
        "x_list = []                                      \n",
        "y_list = []                                       \n",
        "\n",
        "#Atualizando os valores do movimento\n",
        "while t <= t_f:\n",
        "\tx = l*math.sin(theta)                             \n",
        "\ty = -l*math.cos(theta)                             \n",
        "\talfa = -(g/l)*math.sin(theta)                      #alpha é a aceleração angular\n",
        "\tw = w + alfa*dt                             \n",
        "\ttheta = theta + w*dt                          \n",
        "\tt = t + dt                                    \n",
        "\n",
        "#Acrescentando às listas os valores atualizados\n",
        "\tt_list.append(t)                              \n",
        "\tx_list.append(x)                              \n",
        "\ty_list.append(y)                             \n",
        "\n",
        "def plot_gráfico(x,f,x_label,f_label):            \n",
        "\tplt.plot(x,f)                                 \n",
        "\tplt.xlabel(x_label)                          \n",
        "\tplt.ylabel(f_label)                          \n",
        "\n",
        "\n",
        "print('Gráfico da posição x(m) com relação a y(m) do pêndulo simples.')\n",
        "plot_gráfico(x_list,y_list,'Posição x (m)','Posição y (m)')                         "
      ],
      "execution_count": null,
      "outputs": [
        {
          "output_type": "stream",
          "text": [
            "Gráfico da posição x(m) com relação a y(m) do pêndulo simples.\n"
          ],
          "name": "stdout"
        },
        {
          "output_type": "display_data",
          "data": {
            "image/png": "[encoded data removed]",
            "text/plain": [
              "<Figure size 432x288 with 1 Axes>"
            ]
          },
          "metadata": {
            "tags": [],
            "needs_background": "light"
          }
        }
      ]
    }
  ]
}