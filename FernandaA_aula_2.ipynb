{
  "nbformat": 4,
  "nbformat_minor": 0,
  "metadata": {
    "colab": {
      "name": "FernandaA_aula_2.ipynb",
      "provenance": [],
      "authorship_tag": "ABX9TyP8qZLAEjK2jrclFHdS3MFM",
      "include_colab_link": true
    },
    "kernelspec": {
      "name": "python3",
      "display_name": "Python 3"
    }
  },
  "cells": [
    {
      "cell_type": "markdown",
      "metadata": {
        "id": "view-in-github",
        "colab_type": "text"
      },
      "source": [
        "<a href=\"https://colab.research.google.com/github/fernanda0402/Python/blob/master/FernandaA_aula_2.ipynb\" target=\"_parent\"><img src=\"https://colab.research.google.com/assets/colab-badge.svg\" alt=\"Open In Colab\"/></a>"
      ]
    },
    {
      "cell_type": "markdown",
      "metadata": {
        "id": "Lcg20bI1mHBR",
        "colab_type": "text"
      },
      "source": [
        "Exercício 1: Considere as seguintes declarações de atribuições:\n",
        "\n",
        "\n",
        "*   largura = 17\n",
        "*   altura = 12.0\n",
        "*   delimitador = \".\"\n",
        "\n",
        "Para cada uma das expressões a seguir, escreva o valor das expressões e o tipo (do valor da expressão):\n",
        "\n",
        "\n",
        "1.   largura/2\n",
        "2.   largura/2.0\n",
        "3.   altura/3\n",
        "4.   1 + 2 * 5\n",
        "5.   delimitador*5\n"
      ]
    },
    {
      "cell_type": "code",
      "metadata": {
        "id": "VzJi2ylzmLGZ",
        "colab_type": "code",
        "colab": {
          "base_uri": "https://localhost:8080/",
          "height": 34
        },
        "outputId": "f5533f3f-0db6-43d9-917d-d031a0c31b2d"
      },
      "source": [
        "1.\n",
        "largura = 17\n",
        "largura/2"
      ],
      "execution_count": 1,
      "outputs": [
        {
          "output_type": "execute_result",
          "data": {
            "text/plain": [
              "8.5"
            ]
          },
          "metadata": {
            "tags": []
          },
          "execution_count": 1
        }
      ]
    },
    {
      "cell_type": "code",
      "metadata": {
        "id": "ckjFB0O0nFDN",
        "colab_type": "code",
        "colab": {
          "base_uri": "https://localhost:8080/",
          "height": 34
        },
        "outputId": "92048fa8-5553-48bd-b086-56aaae8e338e"
      },
      "source": [
        "2.\n",
        "largura/2.0"
      ],
      "execution_count": 2,
      "outputs": [
        {
          "output_type": "execute_result",
          "data": {
            "text/plain": [
              "8.5"
            ]
          },
          "metadata": {
            "tags": []
          },
          "execution_count": 2
        }
      ]
    },
    {
      "cell_type": "code",
      "metadata": {
        "id": "1fKwsjy5nH1s",
        "colab_type": "code",
        "colab": {
          "base_uri": "https://localhost:8080/",
          "height": 34
        },
        "outputId": "0cf4194c-a6f2-410c-f846-6377c93552d6"
      },
      "source": [
        "3.\n",
        "altura = 12.0\n",
        "altura/3"
      ],
      "execution_count": 3,
      "outputs": [
        {
          "output_type": "execute_result",
          "data": {
            "text/plain": [
              "4.0"
            ]
          },
          "metadata": {
            "tags": []
          },
          "execution_count": 3
        }
      ]
    },
    {
      "cell_type": "code",
      "metadata": {
        "id": "L9Cy0Ip7nNLt",
        "colab_type": "code",
        "colab": {
          "base_uri": "https://localhost:8080/",
          "height": 34
        },
        "outputId": "659cf159-02dd-47c6-e70a-419bad79cf27"
      },
      "source": [
        "4.\n",
        "1 + 2*5"
      ],
      "execution_count": 4,
      "outputs": [
        {
          "output_type": "execute_result",
          "data": {
            "text/plain": [
              "11"
            ]
          },
          "metadata": {
            "tags": []
          },
          "execution_count": 4
        }
      ]
    },
    {
      "cell_type": "code",
      "metadata": {
        "id": "4EW4GUdjnTao",
        "colab_type": "code",
        "colab": {
          "base_uri": "https://localhost:8080/",
          "height": 35
        },
        "outputId": "36a8e784-0800-41ac-da41-c1f5b901b528"
      },
      "source": [
        "5.\n",
        "delimitador = \".\"\n",
        "delimitador*5"
      ],
      "execution_count": 5,
      "outputs": [
        {
          "output_type": "execute_result",
          "data": {
            "application/vnd.google.colaboratory.intrinsic+json": {
              "type": "string"
            },
            "text/plain": [
              "'.....'"
            ]
          },
          "metadata": {
            "tags": []
          },
          "execution_count": 5
        }
      ]
    },
    {
      "cell_type": "markdown",
      "metadata": {
        "id": "OSTEZkosna4j",
        "colab_type": "text"
      },
      "source": [
        "Exercício 2: O volume de uma esfera de raio r é $\\frac{4}{3} \\pi r^{3}$\n",
        "\n",
        "Qual é o volume de uma esfera de raio 5?"
      ]
    },
    {
      "cell_type": "code",
      "metadata": {
        "id": "LyCVwNlAnfFk",
        "colab_type": "code",
        "colab": {
          "base_uri": "https://localhost:8080/",
          "height": 34
        },
        "outputId": "162d9aa7-2e1b-4b5d-c7e6-75117ba84c8b"
      },
      "source": [
        "r = 5\n",
        "pi = 3.14\n",
        "volume = round((4*pi*r**3)/3, 3)\n",
        "print(volume)"
      ],
      "execution_count": 20,
      "outputs": [
        {
          "output_type": "stream",
          "text": [
            "523.333\n"
          ],
          "name": "stdout"
        }
      ]
    },
    {
      "cell_type": "markdown",
      "metadata": {
        "id": "VCcvQmKUoFQM",
        "colab_type": "text"
      },
      "source": [
        "Exercício 3: Suponha que o preço de um livro seja 24.95 reais, porém as livrarias têm desconto de 40%. Os custos de envio são de 3.00 reais para o primeiro livro e 0.75 reais para os livros adicionais. Qual é o custo total da compra de 60 livros?"
      ]
    },
    {
      "cell_type": "code",
      "metadata": {
        "id": "p8hiO6TSoIXs",
        "colab_type": "code",
        "colab": {
          "base_uri": "https://localhost:8080/",
          "height": 34
        },
        "outputId": "450344a3-451b-4e2d-f2d6-6c5e84280e33"
      },
      "source": [
        "livro = 24.95\n",
        "desconto = 0.4\n",
        "custo1 = 3.0\n",
        "custo2 = 0.75\n",
        "\n",
        "#Na compra de 60 livros, teremos:\n",
        "total = round(livro*desconto + custo1 + 59*custo2, 2)\n",
        "print(total, 'reais')"
      ],
      "execution_count": 14,
      "outputs": [
        {
          "output_type": "stream",
          "text": [
            "57.23 reais\n"
          ],
          "name": "stdout"
        }
      ]
    },
    {
      "cell_type": "markdown",
      "metadata": {
        "id": "2Epua3vspcHy",
        "colab_type": "text"
      },
      "source": [
        "Exercício 4: Um laser vermelho (com comprimento de onda $\\lambda = 632.8$ nm) incide em uma fenda dupla produzindo um padrão de interferência com franjas claras e escuras, em um anteparo situado a uma distância D = 1.98 m da fenda. Calcule a distância $\\Delta y$ entre dois máximos consecutivos de interferência. Considere o espaçamento entre as fendas, $d$, como sendo igual a 0.250 mm. <em>Dica: a distância entre dois máximos de interferência consecutivos pode ser aproximada por $\\Delta y = \\frac{\\lambda D}{d}$."
      ]
    },
    {
      "cell_type": "code",
      "metadata": {
        "id": "7byxHjxZpfL-",
        "colab_type": "code",
        "colab": {
          "base_uri": "https://localhost:8080/",
          "height": 34
        },
        "outputId": "767dd79f-2cde-4ed0-e8b6-8a5a8eb06f4d"
      },
      "source": [
        "vermelho = 632.8*(10**(-9))\n",
        "D = 1.98\n",
        "d = 0.25*(10**(-3))\n",
        "\n",
        "#A distância entre dois máximos consecutivos é:\n",
        "y = (vermelho*D)/d\n",
        "print(y, 'metros')"
      ],
      "execution_count": 17,
      "outputs": [
        {
          "output_type": "stream",
          "text": [
            "0.005011776 metros\n"
          ],
          "name": "stdout"
        }
      ]
    }
  ]
}