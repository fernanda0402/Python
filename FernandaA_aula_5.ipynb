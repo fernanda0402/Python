{
  "nbformat": 4,
  "nbformat_minor": 0,
  "metadata": {
    "colab": {
      "name": "FernandaA_aula_5.ipynb",
      "provenance": [],
      "collapsed_sections": [],
      "authorship_tag": "ABX9TyP6bLjaHX/bMAF1b7YgNAss",
      "include_colab_link": true
    },
    "kernelspec": {
      "name": "python3",
      "display_name": "Python 3"
    }
  },
  "cells": [
    {
      "cell_type": "markdown",
      "metadata": {
        "id": "view-in-github",
        "colab_type": "text"
      },
      "source": [
        "<a href=\"https://colab.research.google.com/github/fernanda0402/Python/blob/master/FernandaA_aula_5.ipynb\" target=\"_parent\"><img src=\"https://colab.research.google.com/assets/colab-badge.svg\" alt=\"Open In Colab\"/></a>"
      ]
    },
    {
      "cell_type": "markdown",
      "metadata": {
        "id": "hikrz_E1pGM9"
      },
      "source": [
        "### **Exercícios - Parte 1**"
      ]
    },
    {
      "cell_type": "markdown",
      "metadata": {
        "id": "u2yHCL0LgfpA"
      },
      "source": [
        "Exercício 2: Faça modificações similares para permitir que o usuário mude a cor da tartaruga durante a execução do programa.\n",
        "\n",
        "Faça o mesmo para a largura da caneta da tartaruga. Dica: seu diálogo com o usuário retornará uma string, mas o método pensize (width no Google Colab) espera que seu argumento seja um int. Então, você precisará converter a string em um int antes de passá-la para pensize."
      ]
    },
    {
      "cell_type": "code",
      "metadata": {
        "id": "NQeqSNu3gnvj"
      },
      "source": [
        "!pip3 install ColabTurtle\n",
        "import ColabTurtle"
      ],
      "execution_count": null,
      "outputs": []
    },
    {
      "cell_type": "code",
      "metadata": {
        "id": "twjMMjBIhHZa"
      },
      "source": [
        "import ColabTurtle.Turtle as pipa\n",
        "pipa.initializeTurtle()\n",
        "cor = input('Qual a cor da tartaruga? ')\n",
        "pipa.color(cor)\n",
        "largura = int(input('Qual a largura da tartaruga? '))\n",
        "pipa.width(largura)\n",
        "\n",
        "for i in range(4):\n",
        "    pipa.forward(200)\n",
        "    pipa.left(90)\n",
        "    pipa.speed(5)"
      ],
      "execution_count": null,
      "outputs": []
    },
    {
      "cell_type": "markdown",
      "metadata": {
        "id": "AeNBS5LwiosF"
      },
      "source": [
        "Exercício 4: Desenhe um quadrado, usando a forma de tartaruga, ao invés da flecha, para desenhar (caso esteja no Google Colab, não precisa mudar a forma). Mude a velocidade com que a tartaruga faz o desenho."
      ]
    },
    {
      "cell_type": "code",
      "metadata": {
        "id": "ZKlnRTiliwOr"
      },
      "source": [
        "import ColabTurtle.Turtle\n",
        "pipa = ColabTurtle.Turtle\n",
        "pipa.initializeTurtle()\n",
        "pipa.color(\"red\")\n",
        "pipa.width(15)\n",
        "pipa.bgcolor(\"white\")\n",
        "for i in range(4):\n",
        "    pipa.forward(200)\n",
        "    pipa.left(90)\n",
        "    pipa.speed(5)"
      ],
      "execution_count": null,
      "outputs": []
    },
    {
      "cell_type": "markdown",
      "metadata": {
        "id": "C07ZsEJhlJEv"
      },
      "source": [
        "Exercício 5: Sabendo que o ângulo interno da ponta de uma estrela de 5 pontas é de 36 graus, desenhe uma estrela."
      ]
    },
    {
      "cell_type": "code",
      "metadata": {
        "id": "Lupk0-87lOAd"
      },
      "source": [
        "import ColabTurtle.Turtle\n",
        "star = ColabTurtle.Turtle\n",
        "star.initializeTurtle()\n",
        "\n",
        "star.left(36)\n",
        "star.forward(200)\n",
        "star.left(144)\n",
        "star.forward(200)\n",
        "star.left(144)\n",
        "star.forward(200)\n",
        "star.left(144)\n",
        "star.forward(200)\n",
        "star.left(144)\n",
        "star.forward(200)\n",
        "star.left(144)\n",
        "\n",
        "star.speed(10)"
      ],
      "execution_count": null,
      "outputs": []
    },
    {
      "cell_type": "code",
      "metadata": {
        "id": "Tw3e6pM5e67d"
      },
      "source": [
        "import ColabTurtle.Turtle\n",
        "estrela = ColabTurtle.Turtle\n",
        "estrela.initializeTurtle()\n",
        "estrela.color(\"yellow\")\n",
        "\n",
        "estrela.left(18)\n",
        "for i in range(5):\n",
        "    estrela.forward(200)\n",
        "    estrela.left(144)\n"
      ],
      "execution_count": null,
      "outputs": []
    },
    {
      "cell_type": "markdown",
      "metadata": {
        "id": "MxFlDde4fwrW"
      },
      "source": [
        "Exercício 6: Sabendo o ângulo interno da ponta de uma estrela, desenhe quatro estrelas em uma janela, com uma certa distância entre elas. Dica: use a função penup() e pendown() do módulo turtle."
      ]
    },
    {
      "cell_type": "code",
      "metadata": {
        "id": "6K4S67tAf5lE"
      },
      "source": [
        "import ColabTurtle.Turtle\n",
        "leo = ColabTurtle.Turtle\n",
        "leo.initializeTurtle()\n",
        "leo.color(\"blue\")\n",
        "\n",
        "leo.left(36)\n",
        "for i in range(5):\n",
        "    leo.forward(100)\n",
        "    leo.left(144)\n",
        "\n",
        "leo.penup()\n",
        "leo.goto(200,250) #mudar posicao de inicio \n",
        "leo.pendown()\n",
        "leo.left(36)\n",
        "for i in range(5):\n",
        "    leo.forward(100)\n",
        "    leo.left(144)\n",
        "\n",
        "leo.penup()\n",
        "leo.goto(550,250) #mudar posicao de inicio \n",
        "leo.pendown()\n",
        "leo.left(36)\n",
        "for i in range(5):\n",
        "    leo.forward(100)\n",
        "    leo.left(144)\n",
        "\n",
        "leo.penup()\n",
        "leo.goto(700,250) #mudar posicao de inicio \n",
        "leo.pendown()\n",
        "leo.left(36)\n",
        "for i in range(5):\n",
        "    leo.forward(100)\n",
        "    leo.left(144)"
      ],
      "execution_count": null,
      "outputs": []
    },
    {
      "cell_type": "markdown",
      "metadata": {
        "id": "aaJ98sp28Dkn"
      },
      "source": [
        "## **Exercícios - Parte 2**"
      ]
    },
    {
      "cell_type": "markdown",
      "metadata": {
        "id": "VK8TxaGt8H2W"
      },
      "source": [
        "Exercício 1: Escreva um conjunto apropriadamente geral de funções que possam desenhar flores."
      ]
    },
    {
      "cell_type": "code",
      "metadata": {
        "id": "VgTR_grx8_Wp"
      },
      "source": [
        "import math\n",
        "import ColabTurtle.Turtle\n",
        "alice = ColabTurtle.Turtle\n",
        "alice.initializeTurtle()\n",
        "alice.speed(10)\n",
        "alice.bgcolor(\"white\")\n",
        "alice.color(\"red\")\n",
        "\n",
        "def polygon(turtle, length, n, circle_fraction):\n",
        "    alfa = 360*circle_fraction/n\n",
        "    for i in range(n):\n",
        "        turtle.forward(length)\n",
        "        turtle.left(alfa)\n",
        "\n",
        "def circle(turtle, r, circle_fraction = 1):\n",
        "    circumference = 2*math.pi*r\n",
        "    n = 10\n",
        "    length = int(circumference/n)\n",
        "    polygon(turtle, length, n, circle_fraction)\n",
        "\n",
        "def petala(turtle, circle_fraction):\n",
        "    r = 15\n",
        "    angle = 180 - circle_fraction*360\n",
        "\n",
        "    circle(turtle, r, circle_fraction)\n",
        "    turtle.left(angle)\n",
        "    circle(turtle, r, circle_fraction)\n",
        "    turtle.left(angle)\n",
        "\n",
        "def flor(turtle, petalas, circle_fraction):\n",
        "    for i in range(petalas):\n",
        "        petala(turtle, circle_fraction)\n",
        "        turtle.left(360/petalas)\n",
        "\n",
        "#Flor da esquerda (5 pétalas)\n",
        "alice.penup()\n",
        "alice.left(90)\n",
        "alice.forward(200)\n",
        "alice.pendown()\n",
        "flor(alice, 5, 1/5)\n",
        "\n",
        "#Flor do meio (10 pétalas)\n",
        "alice.penup()\n",
        "alice.left(180)\n",
        "alice.forward(200)\n",
        "alice.pendown()\n",
        "flor(alice, 10, 1/5)\n",
        "\n",
        "#Flor da direita (15 pétalas)\n",
        "alice.penup()\n",
        "alice.forward(200)\n",
        "alice.pendown()\n",
        "flor(alice, 15, 1/10)"
      ],
      "execution_count": null,
      "outputs": []
    },
    {
      "cell_type": "markdown",
      "metadata": {
        "id": "qdV0Q4GW6Lxs"
      },
      "source": [
        "Exercício 2: Escreva um conjunto apropriadamente geral de funções que podem desenhar formas como na figura."
      ]
    },
    {
      "cell_type": "code",
      "metadata": {
        "id": "ZBSYbHPK6QZr"
      },
      "source": [
        "import math\n",
        "import ColabTurtle.Turtle\n",
        "bia = ColabTurtle.Turtle\n",
        "bia.initializeTurtle()\n",
        "bia.speed(10)\n",
        "bia.bgcolor(\"white\")\n",
        "bia.color(\"black\")\n",
        "\n",
        "def isosceles(turtle, angulo, tamanho):\n",
        "    turn_angle = 180 - (180 - angulo)/2\n",
        "    base_size = int(math.tan(math.radians(angulo/2))*tamanho)*2\n",
        "    cathetus_size = int(tamanho/math.cos(math.radians(angulo/2)))\n",
        "\n",
        "    turtle.forward(cathetus_size)\n",
        "    turtle.left(turn_angle)\n",
        "    turtle.forward(base_size)\n",
        "    turtle.left(turn_angle)\n",
        "    turtle.forward(cathetus_size)\n",
        "    turtle.left(180)\n",
        "\n",
        "def forma(lados, tamanho):\n",
        "    for i in range(lados):\n",
        "        isosceles(bia, 360/lados, tamanho)\n",
        "\n",
        "#Esquerda\n",
        "bia.penup()\n",
        "bia.left(90)\n",
        "bia.forward(200)\n",
        "bia.pendown()\n",
        "forma(5, 45)\n",
        "\n",
        "#Meio\n",
        "bia.penup()\n",
        "bia.left(180)\n",
        "bia.forward(200)\n",
        "bia.left(90)\n",
        "bia.pendown()\n",
        "forma(6, 65)\n",
        "\n",
        "#Direita\n",
        "bia.penup()\n",
        "bia.right(90)\n",
        "bia.forward(200)\n",
        "bia.pendown()\n",
        "forma(7, 85)"
      ],
      "execution_count": null,
      "outputs": []
    },
    {
      "cell_type": "markdown",
      "metadata": {
        "id": "bqVT77Vx8xFU"
      },
      "source": [
        "Exercício 3: Adicione instruções para desenhar o talo e folha da flor. Faça a refatoração apropriada para a interface da flor completa ficar \"limpa\"."
      ]
    },
    {
      "cell_type": "code",
      "metadata": {
        "id": "fSrDrQOo82-l",
        "outputId": "db57e1de-1d30-4189-da6b-d511708b3216",
        "colab": {
          "base_uri": "https://localhost:8080/",
          "height": 521
        }
      },
      "source": [
        "import math\n",
        "import ColabTurtle.Turtle\n",
        "joana = ColabTurtle.Turtle\n",
        "joana.initializeTurtle()\n",
        "joana.speed(10)\n",
        "joana.bgcolor(\"white\")\n",
        "joana.color(\"blue\")\n",
        "\n",
        "def polygon(turtle, length, n, circle_fraction):\n",
        "    alfa = 360*circle_fraction/n\n",
        "    for i in range(n):\n",
        "        turtle.forward(length)\n",
        "        turtle.left(alfa)\n",
        "\n",
        "def circle(turtle, r, circle_fraction = 1):\n",
        "    circumference = 2*math.pi*r\n",
        "    n = 10\n",
        "    length = int(circumference/n)\n",
        "    polygon(turtle, length, n, circle_fraction)\n",
        "\n",
        "def petala(turtle, circle_fraction):\n",
        "    r = 10\n",
        "    angle = 180 - circle_fraction*360\n",
        "\n",
        "    circle(turtle, r, circle_fraction)\n",
        "    turtle.left(angle)\n",
        "    circle(turtle, r, circle_fraction)\n",
        "    turtle.left(angle)\n",
        "\n",
        "def flor(turtle, petalas, circle_fraction):\n",
        "    for i in range(petalas):\n",
        "        petala(turtle, circle_fraction)\n",
        "        turtle.left(360/petalas)\n",
        "\n",
        "def talo(turtle, height):\n",
        "    turtle.forward(int(height*2/3))\n",
        "    joana.left(100)\n",
        "    petala(turtle, 1/5)\n",
        "    joana.right(100)\n",
        "    turtle.forward(int(height*1/3))\n",
        "\n",
        "#Flor com caule\n",
        "joana.left(180)\n",
        "talo(joana, 150)\n",
        "joana.backward(250)\n",
        "joana.left(180)\n",
        "\n",
        "flor(joana, 6, 1/5)"
      ],
      "execution_count": 20,
      "outputs": [
        {
          "output_type": "display_data",
          "data": {
            "text/html": [
              "\n",
              "      <svg width=\"800\" height=\"500\">\n",
              "        <rect width=\"100%\" height=\"100%\" fill=\"white\"/>\n",
              "        <line x1=\"400\" y1=\"250\" x2=\"400.0\" y2=\"350.0\" stroke-linecap=\"round\" style=\"stroke:blue;stroke-width:4\"/><line x1=\"400.0\" y1=\"350.0\" x2=\"405.90884651807323\" y2=\"348.9581109339984\" stroke-linecap=\"round\" style=\"stroke:blue;stroke-width:4\"/><line x1=\"405.90884651807323\" y1=\"348.9581109339984\" x2=\"411.6405166908073\" y2=\"347.1838626337341\" stroke-linecap=\"round\" style=\"stroke:blue;stroke-width:4\"/><line x1=\"411.6405166908073\" y1=\"347.1838626337341\" x2=\"417.1046186556444\" y2=\"344.7052360547869\" stroke-linecap=\"round\" style=\"stroke:blue;stroke-width:4\"/><line x1=\"417.1046186556444\" y1=\"344.7052360547869\" x2=\"422.21498026050267\" y2=\"341.5613206189664\" stroke-linecap=\"round\" style=\"stroke:blue;stroke-width:4\"/><line x1=\"422.21498026050267\" y1=\"341.5613206189664\" x2=\"426.8910080500915\" y2=\"337.8016977507797\" stroke-linecap=\"round\" style=\"stroke:blue;stroke-width:4\"/><line x1=\"426.8910080500915\" y1=\"337.8016977507797\" x2=\"431.0589582728455\" y2=\"333.48565894874775\" stroke-linecap=\"round\" style=\"stroke:blue;stroke-width:4\"/><line x1=\"431.0589582728455\" y1=\"333.48565894874775\" x2=\"434.653099863939\" y2=\"328.6812707230554\" stroke-linecap=\"round\" style=\"stroke:blue;stroke-width:4\"/><line x1=\"434.653099863939\" y1=\"328.6812707230554\" x2=\"437.61675106344444\" y2=\"323.46430114602407\" stroke-linecap=\"round\" style=\"stroke:blue;stroke-width:4\"/><line x1=\"437.61675106344444\" y1=\"323.46430114602407\" x2=\"439.9031733215461\" y2=\"317.9170249443502\" stroke-linecap=\"round\" style=\"stroke:blue;stroke-width:4\"/><line x1=\"439.9031733215461\" y1=\"317.9170249443502\" x2=\"441.47630839339126\" y2=\"312.12692597751635\" stroke-linecap=\"round\" style=\"stroke:blue;stroke-width:4\"/><line x1=\"441.47630839339126\" y1=\"312.12692597751635\" x2=\"435.56746187531803\" y2=\"313.1688150435179\" stroke-linecap=\"round\" style=\"stroke:blue;stroke-width:4\"/><line x1=\"435.56746187531803\" y1=\"313.1688150435179\" x2=\"429.83579170258395\" y2=\"314.94306334378217\" stroke-linecap=\"round\" style=\"stroke:blue;stroke-width:4\"/><line x1=\"429.83579170258395\" y1=\"314.94306334378217\" x2=\"424.37168973774686\" y2=\"317.4216899227294\" stroke-linecap=\"round\" style=\"stroke:blue;stroke-width:4\"/><line x1=\"424.37168973774686\" y1=\"317.4216899227294\" x2=\"419.2613281328886\" y2=\"320.5656053585499\" stroke-linecap=\"round\" style=\"stroke:blue;stroke-width:4\"/><line x1=\"419.2613281328886\" y1=\"320.5656053585499\" x2=\"414.58530034329976\" y2=\"324.3252282267366\" stroke-linecap=\"round\" style=\"stroke:blue;stroke-width:4\"/><line x1=\"414.58530034329976\" y1=\"324.3252282267366\" x2=\"410.4173501205458\" y2=\"328.6412670287685\" stroke-linecap=\"round\" style=\"stroke:blue;stroke-width:4\"/><line x1=\"410.4173501205458\" y1=\"328.6412670287685\" x2=\"406.82320852945224\" y2=\"333.44565525446086\" stroke-linecap=\"round\" style=\"stroke:blue;stroke-width:4\"/><line x1=\"406.82320852945224\" y1=\"333.44565525446086\" x2=\"403.8595573299468\" y2=\"338.66262483149217\" stroke-linecap=\"round\" style=\"stroke:blue;stroke-width:4\"/><line x1=\"403.8595573299468\" y1=\"338.66262483149217\" x2=\"401.5731350718452\" y2=\"344.20990103316603\" stroke-linecap=\"round\" style=\"stroke:blue;stroke-width:4\"/><line x1=\"401.5731350718452\" y1=\"344.20990103316603\" x2=\"399.99999999999994\" y2=\"349.9999999999999\" stroke-linecap=\"round\" style=\"stroke:blue;stroke-width:4\"/><line x1=\"399.99999999999994\" y1=\"349.9999999999999\" x2=\"399.9999999999998\" y2=\"399.9999999999999\" stroke-linecap=\"round\" style=\"stroke:blue;stroke-width:4\"/><line x1=\"399.9999999999998\" y1=\"399.9999999999999\" x2=\"400.0000000000005\" y2=\"149.9999999999999\" stroke-linecap=\"round\" style=\"stroke:blue;stroke-width:4\"/><line x1=\"400.0000000000005\" y1=\"149.9999999999999\" x2=\"400.0000000000005\" y2=\"143.9999999999999\" stroke-linecap=\"round\" style=\"stroke:blue;stroke-width:4\"/><line x1=\"400.0000000000005\" y1=\"143.9999999999999\" x2=\"399.2480005986147\" y2=\"138.04731179211302\" stroke-linecap=\"round\" style=\"stroke:blue;stroke-width:4\"/><line x1=\"399.2480005986147\" y1=\"138.04731179211302\" x2=\"397.7558612756256\" y2=\"132.23581282534124\" stroke-linecap=\"round\" style=\"stroke:blue;stroke-width:4\"/><line x1=\"397.7558612756256\" y1=\"132.23581282534124\" x2=\"395.54711395951756\" y2=\"126.65715391001173\" stroke-linecap=\"round\" style=\"stroke:blue;stroke-width:4\"/><line x1=\"395.54711395951756\" y1=\"126.65715391001173\" x2=\"392.65659191490727\" y2=\"121.39931382974854\" stroke-linecap=\"round\" style=\"stroke:blue;stroke-width:4\"/><line x1=\"392.65659191490727\" y1=\"121.39931382974854\" x2=\"389.12988040115243\" y2=\"116.54521186349884\" stroke-linecap=\"round\" style=\"stroke:blue;stroke-width:4\"/><line x1=\"389.12988040115243\" y1=\"116.54521186349884\" x2=\"385.0225977655803\" y2=\"112.17140009897035\" stroke-linecap=\"round\" style=\"stroke:blue;stroke-width:4\"/><line x1=\"385.0225977655803\" y1=\"112.17140009897035\" x2=\"380.3995183089256\" y2=\"108.3468561604782\" stroke-linecap=\"round\" style=\"stroke:blue;stroke-width:4\"/><line x1=\"380.3995183089256\" y1=\"108.3468561604782\" x2=\"375.33355075591356\" y2=\"105.1318953906042\" stroke-linecap=\"round\" style=\"stroke:blue;stroke-width:4\"/><line x1=\"375.33355075591356\" y1=\"105.1318953906042\" x2=\"369.9045884411175\" y2=\"102.57721964121373\" stroke-linecap=\"round\" style=\"stroke:blue;stroke-width:4\"/><line x1=\"369.9045884411175\" y1=\"102.57721964121373\" x2=\"369.9045884411174\" y2=\"108.57721964121373\" stroke-linecap=\"round\" style=\"stroke:blue;stroke-width:4\"/><line x1=\"369.9045884411174\" y1=\"108.57721964121373\" x2=\"370.6565878425032\" y2=\"114.5299078491006\" stroke-linecap=\"round\" style=\"stroke:blue;stroke-width:4\"/><line x1=\"370.6565878425032\" y1=\"114.5299078491006\" x2=\"372.1487271654923\" y2=\"120.34140681587239\" stroke-linecap=\"round\" style=\"stroke:blue;stroke-width:4\"/><line x1=\"372.1487271654923\" y1=\"120.34140681587239\" x2=\"374.3574744816003\" y2=\"125.9200657312019\" stroke-linecap=\"round\" style=\"stroke:blue;stroke-width:4\"/><line x1=\"374.3574744816003\" y1=\"125.9200657312019\" x2=\"377.2479965262106\" y2=\"131.1779058114651\" stroke-linecap=\"round\" style=\"stroke:blue;stroke-width:4\"/><line x1=\"377.2479965262106\" y1=\"131.1779058114651\" x2=\"380.77470803996545\" y2=\"136.03200777771482\" stroke-linecap=\"round\" style=\"stroke:blue;stroke-width:4\"/><line x1=\"380.77470803996545\" y1=\"136.03200777771482\" x2=\"384.88199067553757\" y2=\"140.4058195422433\" stroke-linecap=\"round\" style=\"stroke:blue;stroke-width:4\"/><line x1=\"384.88199067553757\" y1=\"140.4058195422433\" x2=\"389.50507013219226\" y2=\"144.23036348073546\" stroke-linecap=\"round\" style=\"stroke:blue;stroke-width:4\"/><line x1=\"389.50507013219226\" y1=\"144.23036348073546\" x2=\"394.5710376852043\" y2=\"147.44532425060947\" stroke-linecap=\"round\" style=\"stroke:blue;stroke-width:4\"/><line x1=\"394.5710376852043\" y1=\"147.44532425060947\" x2=\"400.0000000000004\" y2=\"149.99999999999994\" stroke-linecap=\"round\" style=\"stroke:blue;stroke-width:4\"/><line x1=\"400.0000000000004\" y1=\"149.99999999999994\" x2=\"394.80384757729377\" y2=\"146.99999999999991\" stroke-linecap=\"round\" style=\"stroke:blue;stroke-width:4\"/><line x1=\"394.80384757729377\" y1=\"146.99999999999991\" x2=\"389.2726686677628\" y2=\"144.67490648128728\" stroke-linecap=\"round\" style=\"stroke:blue;stroke-width:4\"/><line x1=\"389.2726686677628\" y1=\"144.67490648128728\" x2=\"383.49369326697683\" y2=\"143.06138755759565\" stroke-linecap=\"round\" style=\"stroke:blue;stroke-width:4\"/><line x1=\"383.49369326697683\" y1=\"143.06138755759565\" x2=\"377.5580592691989\" y2=\"142.18488938622116\" stroke-linecap=\"round\" style=\"stroke:blue;stroke-width:4\"/><line x1=\"377.5580592691989\" y1=\"142.18488938622116\" x2=\"371.55937516834985\" y2=\"142.05923486692097\" stroke-linecap=\"round\" style=\"stroke:blue;stroke-width:4\"/><line x1=\"371.55937516834985\" y1=\"142.05923486692097\" x2=\"365.5922437961402\" y2=\"142.68640564652688\" stroke-linecap=\"round\" style=\"stroke:blue;stroke-width:4\"/><line x1=\"365.5922437961402\" y1=\"142.68640564652688\" x2=\"359.7507703789013\" y2=\"144.05651086719078\" stroke-linecap=\"round\" style=\"stroke:blue;stroke-width:4\"/><line x1=\"359.7507703789013\" y1=\"144.05651086719078\" x2=\"354.12707844194995\" y2=\"146.14794315112164\" stroke-linecap=\"round\" style=\"stroke:blue;stroke-width:4\"/><line x1=\"354.12707844194995\" y1=\"146.14794315112164\" x2=\"348.8098569665626\" y2=\"148.9277193618408\" stroke-linecap=\"round\" style=\"stroke:blue;stroke-width:4\"/><line x1=\"348.8098569665626\" y1=\"148.9277193618408\" x2=\"343.8829617117604\" y2=\"152.35200076794735\" stroke-linecap=\"round\" style=\"stroke:blue;stroke-width:4\"/><line x1=\"343.8829617117604\" y1=\"152.35200076794735\" x2=\"349.07911413446703\" y2=\"155.35200076794737\" stroke-linecap=\"round\" style=\"stroke:blue;stroke-width:4\"/><line x1=\"349.07911413446703\" y1=\"155.35200076794737\" x2=\"354.610293043998\" y2=\"157.67709428666004\" stroke-linecap=\"round\" style=\"stroke:blue;stroke-width:4\"/><line x1=\"354.610293043998\" y1=\"157.67709428666004\" x2=\"360.38926844478397\" y2=\"159.29061321035167\" stroke-linecap=\"round\" style=\"stroke:blue;stroke-width:4\"/><line x1=\"360.38926844478397\" y1=\"159.29061321035167\" x2=\"366.3249024425619\" y2=\"160.16711138172616\" stroke-linecap=\"round\" style=\"stroke:blue;stroke-width:4\"/><line x1=\"366.3249024425619\" y1=\"160.16711138172616\" x2=\"372.32358654341095\" y2=\"160.29276590102634\" stroke-linecap=\"round\" style=\"stroke:blue;stroke-width:4\"/><line x1=\"372.32358654341095\" y1=\"160.29276590102634\" x2=\"378.2907179156206\" y2=\"159.66559512142047\" stroke-linecap=\"round\" style=\"stroke:blue;stroke-width:4\"/><line x1=\"378.2907179156206\" y1=\"159.66559512142047\" x2=\"384.1321913328595\" y2=\"158.29548990075656\" stroke-linecap=\"round\" style=\"stroke:blue;stroke-width:4\"/><line x1=\"384.1321913328595\" y1=\"158.29548990075656\" x2=\"389.7558832698109\" y2=\"156.2040576168257\" stroke-linecap=\"round\" style=\"stroke:blue;stroke-width:4\"/><line x1=\"389.7558832698109\" y1=\"156.2040576168257\" x2=\"395.07310474519824\" y2=\"153.42428140610656\" stroke-linecap=\"round\" style=\"stroke:blue;stroke-width:4\"/><line x1=\"395.07310474519824\" y1=\"153.42428140610656\" x2=\"400.00000000000045\" y2=\"150.0\" stroke-linecap=\"round\" style=\"stroke:blue;stroke-width:4\"/><line x1=\"400.00000000000045\" y1=\"150.0\" x2=\"394.8038475772938\" y2=\"152.99999999999997\" stroke-linecap=\"round\" style=\"stroke:blue;stroke-width:4\"/><line x1=\"394.8038475772938\" y1=\"152.99999999999997\" x2=\"390.0246680691486\" y2=\"156.62759468917417\" stroke-linecap=\"round\" style=\"stroke:blue;stroke-width:4\"/><line x1=\"390.0246680691486\" y1=\"156.62759468917417\" x2=\"385.73783199135175\" y2=\"160.82557473225432\" stroke-linecap=\"round\" style=\"stroke:blue;stroke-width:4\"/><line x1=\"385.73783199135175\" y1=\"160.82557473225432\" x2=\"382.01094530968186\" y2=\"165.52773547620933\" stroke-linecap=\"round\" style=\"stroke:blue;stroke-width:4\"/><line x1=\"382.01094530968186\" y1=\"165.52773547620933\" x2=\"378.90278325344303\" y2=\"170.65992103717235\" stroke-linecap=\"round\" style=\"stroke:blue;stroke-width:4\"/><line x1=\"378.90278325344303\" y1=\"170.65992103717235\" x2=\"376.4623633949882\" y2=\"176.14119378302794\" stroke-linecap=\"round\" style=\"stroke:blue;stroke-width:4\"/><line x1=\"376.4623633949882\" y1=\"176.14119378302794\" x2=\"374.7281726133213\" y2=\"181.88511076822033\" stroke-linecap=\"round\" style=\"stroke:blue;stroke-width:4\"/><line x1=\"374.7281726133213\" y1=\"181.88511076822033\" x2=\"373.72756013302467\" y2=\"187.80108699064334\" stroke-linecap=\"round\" style=\"stroke:blue;stroke-width:4\"/><line x1=\"373.72756013302467\" y1=\"187.80108699064334\" x2=\"373.4763062106494\" y2=\"193.7958239712365\" stroke-linecap=\"round\" style=\"stroke:blue;stroke-width:4\"/><line x1=\"373.4763062106494\" y1=\"193.7958239712365\" x2=\"373.97837327064326\" y2=\"199.77478112673353\" stroke-linecap=\"round\" style=\"stroke:blue;stroke-width:4\"/><line x1=\"373.97837327064326\" y1=\"199.77478112673353\" x2=\"379.1745256933499\" y2=\"196.77478112673356\" stroke-linecap=\"round\" style=\"stroke:blue;stroke-width:4\"/><line x1=\"379.1745256933499\" y1=\"196.77478112673356\" x2=\"383.9537052014951\" y2=\"193.14718643755936\" stroke-linecap=\"round\" style=\"stroke:blue;stroke-width:4\"/><line x1=\"383.9537052014951\" y1=\"193.14718643755936\" x2=\"388.24054127929196\" y2=\"188.9492063944792\" stroke-linecap=\"round\" style=\"stroke:blue;stroke-width:4\"/><line x1=\"388.24054127929196\" y1=\"188.9492063944792\" x2=\"391.96742796096186\" y2=\"184.2470456505242\" stroke-linecap=\"round\" style=\"stroke:blue;stroke-width:4\"/><line x1=\"391.96742796096186\" y1=\"184.2470456505242\" x2=\"395.0755900172007\" y2=\"179.11486008956118\" stroke-linecap=\"round\" style=\"stroke:blue;stroke-width:4\"/><line x1=\"395.0755900172007\" y1=\"179.11486008956118\" x2=\"397.5160098756555\" y2=\"173.63358734370559\" stroke-linecap=\"round\" style=\"stroke:blue;stroke-width:4\"/><line x1=\"397.5160098756555\" y1=\"173.63358734370559\" x2=\"399.2502006573224\" y2=\"167.8896703585132\" stroke-linecap=\"round\" style=\"stroke:blue;stroke-width:4\"/><line x1=\"399.2502006573224\" y1=\"167.8896703585132\" x2=\"400.25081313761905\" y2=\"161.9736941360902\" stroke-linecap=\"round\" style=\"stroke:blue;stroke-width:4\"/><line x1=\"400.25081313761905\" y1=\"161.9736941360902\" x2=\"400.5020670599943\" y2=\"155.97895715549703\" stroke-linecap=\"round\" style=\"stroke:blue;stroke-width:4\"/><line x1=\"400.5020670599943\" y1=\"155.97895715549703\" x2=\"400.00000000000045\" y2=\"150.0\" stroke-linecap=\"round\" style=\"stroke:blue;stroke-width:4\"/><line x1=\"400.00000000000045\" y1=\"150.0\" x2=\"400.0000000000004\" y2=\"156.0\" stroke-linecap=\"round\" style=\"stroke:blue;stroke-width:4\"/><line x1=\"400.0000000000004\" y1=\"156.0\" x2=\"400.7519994013862\" y2=\"161.95268820788687\" stroke-linecap=\"round\" style=\"stroke:blue;stroke-width:4\"/><line x1=\"400.7519994013862\" y1=\"161.95268820788687\" x2=\"402.24413872437526\" y2=\"167.76418717465867\" stroke-linecap=\"round\" style=\"stroke:blue;stroke-width:4\"/><line x1=\"402.24413872437526\" y1=\"167.76418717465867\" x2=\"404.4528860404833\" y2=\"173.3428460899882\" stroke-linecap=\"round\" style=\"stroke:blue;stroke-width:4\"/><line x1=\"404.4528860404833\" y1=\"173.3428460899882\" x2=\"407.34340808509353\" y2=\"178.6006861702514\" stroke-linecap=\"round\" style=\"stroke:blue;stroke-width:4\"/><line x1=\"407.34340808509353\" y1=\"178.6006861702514\" x2=\"410.8701195988483\" y2=\"183.45478813650112\" stroke-linecap=\"round\" style=\"stroke:blue;stroke-width:4\"/><line x1=\"410.8701195988483\" y1=\"183.45478813650112\" x2=\"414.9774022344204\" y2=\"187.82859990102963\" stroke-linecap=\"round\" style=\"stroke:blue;stroke-width:4\"/><line x1=\"414.9774022344204\" y1=\"187.82859990102963\" x2=\"419.6004816910751\" y2=\"191.65314383952182\" stroke-linecap=\"round\" style=\"stroke:blue;stroke-width:4\"/><line x1=\"419.6004816910751\" y1=\"191.65314383952182\" x2=\"424.6664492440872\" y2=\"194.86810460939583\" stroke-linecap=\"round\" style=\"stroke:blue;stroke-width:4\"/><line x1=\"424.6664492440872\" y1=\"194.86810460939583\" x2=\"430.09541155888326\" y2=\"197.4227803587863\" stroke-linecap=\"round\" style=\"stroke:blue;stroke-width:4\"/><line x1=\"430.09541155888326\" y1=\"197.4227803587863\" x2=\"430.0954115588833\" y2=\"191.4227803587863\" stroke-linecap=\"round\" style=\"stroke:blue;stroke-width:4\"/><line x1=\"430.0954115588833\" y1=\"191.4227803587863\" x2=\"429.34341215749754\" y2=\"185.47009215089943\" stroke-linecap=\"round\" style=\"stroke:blue;stroke-width:4\"/><line x1=\"429.34341215749754\" y1=\"185.47009215089943\" x2=\"427.85127283450845\" y2=\"179.65859318412762\" stroke-linecap=\"round\" style=\"stroke:blue;stroke-width:4\"/><line x1=\"427.85127283450845\" y1=\"179.65859318412762\" x2=\"425.6425255184004\" y2=\"174.0799342687981\" stroke-linecap=\"round\" style=\"stroke:blue;stroke-width:4\"/><line x1=\"425.6425255184004\" y1=\"174.0799342687981\" x2=\"422.7520034737902\" y2=\"168.8220941885349\" stroke-linecap=\"round\" style=\"stroke:blue;stroke-width:4\"/><line x1=\"422.7520034737902\" y1=\"168.8220941885349\" x2=\"419.2252919600354\" y2=\"163.96799222228518\" stroke-linecap=\"round\" style=\"stroke:blue;stroke-width:4\"/><line x1=\"419.2252919600354\" y1=\"163.96799222228518\" x2=\"415.1180093244633\" y2=\"159.59418045775666\" stroke-linecap=\"round\" style=\"stroke:blue;stroke-width:4\"/><line x1=\"415.1180093244633\" y1=\"159.59418045775666\" x2=\"410.4949298678086\" y2=\"155.76963651926448\" stroke-linecap=\"round\" style=\"stroke:blue;stroke-width:4\"/><line x1=\"410.4949298678086\" y1=\"155.76963651926448\" x2=\"405.42896231479654\" y2=\"152.55467574939044\" stroke-linecap=\"round\" style=\"stroke:blue;stroke-width:4\"/><line x1=\"405.42896231479654\" y1=\"152.55467574939044\" x2=\"400.00000000000045\" y2=\"149.99999999999994\" stroke-linecap=\"round\" style=\"stroke:blue;stroke-width:4\"/><line x1=\"400.00000000000045\" y1=\"149.99999999999994\" x2=\"405.19615242270703\" y2=\"153.0\" stroke-linecap=\"round\" style=\"stroke:blue;stroke-width:4\"/><line x1=\"405.19615242270703\" y1=\"153.0\" x2=\"410.727331332238\" y2=\"155.32509351871266\" stroke-linecap=\"round\" style=\"stroke:blue;stroke-width:4\"/><line x1=\"410.727331332238\" y1=\"155.32509351871266\" x2=\"416.50630673302396\" y2=\"156.93861244240432\" stroke-linecap=\"round\" style=\"stroke:blue;stroke-width:4\"/><line x1=\"416.50630673302396\" y1=\"156.93861244240432\" x2=\"422.4419407308019\" y2=\"157.81511061377884\" stroke-linecap=\"round\" style=\"stroke:blue;stroke-width:4\"/><line x1=\"422.4419407308019\" y1=\"157.81511061377884\" x2=\"428.44062483165095\" y2=\"157.94076513307905\" stroke-linecap=\"round\" style=\"stroke:blue;stroke-width:4\"/><line x1=\"428.44062483165095\" y1=\"157.94076513307905\" x2=\"434.4077562038606\" y2=\"157.31359435347318\" stroke-linecap=\"round\" style=\"stroke:blue;stroke-width:4\"/><line x1=\"434.4077562038606\" y1=\"157.31359435347318\" x2=\"440.2492296210996\" y2=\"155.9434891328093\" stroke-linecap=\"round\" style=\"stroke:blue;stroke-width:4\"/><line x1=\"440.2492296210996\" y1=\"155.9434891328093\" x2=\"445.87292155805096\" y2=\"153.85205684887848\" stroke-linecap=\"round\" style=\"stroke:blue;stroke-width:4\"/><line x1=\"445.87292155805096\" y1=\"153.85205684887848\" x2=\"451.1901430334383\" y2=\"151.07228063815936\" stroke-linecap=\"round\" style=\"stroke:blue;stroke-width:4\"/><line x1=\"451.1901430334383\" y1=\"151.07228063815936\" x2=\"456.11703828824056\" y2=\"147.64799923205283\" stroke-linecap=\"round\" style=\"stroke:blue;stroke-width:4\"/><line x1=\"456.11703828824056\" y1=\"147.64799923205283\" x2=\"450.920885865534\" y2=\"144.64799923205277\" stroke-linecap=\"round\" style=\"stroke:blue;stroke-width:4\"/><line x1=\"450.920885865534\" y1=\"144.64799923205277\" x2=\"445.389706956003\" y2=\"142.32290571334008\" stroke-linecap=\"round\" style=\"stroke:blue;stroke-width:4\"/><line x1=\"445.389706956003\" y1=\"142.32290571334008\" x2=\"439.61073155521706\" y2=\"140.70938678964842\" stroke-linecap=\"round\" style=\"stroke:blue;stroke-width:4\"/><line x1=\"439.61073155521706\" y1=\"140.70938678964842\" x2=\"433.67509755743913\" y2=\"139.83288861827387\" stroke-linecap=\"round\" style=\"stroke:blue;stroke-width:4\"/><line x1=\"433.67509755743913\" y1=\"139.83288861827387\" x2=\"427.67641345659007\" y2=\"139.70723409897366\" stroke-linecap=\"round\" style=\"stroke:blue;stroke-width:4\"/><line x1=\"427.67641345659007\" y1=\"139.70723409897366\" x2=\"421.70928208438045\" y2=\"140.3344048785795\" stroke-linecap=\"round\" style=\"stroke:blue;stroke-width:4\"/><line x1=\"421.70928208438045\" y1=\"140.3344048785795\" x2=\"415.86780866714145\" y2=\"141.70451009924338\" stroke-linecap=\"round\" style=\"stroke:blue;stroke-width:4\"/><line x1=\"415.86780866714145\" y1=\"141.70451009924338\" x2=\"410.24411673019006\" y2=\"143.7959423831742\" stroke-linecap=\"round\" style=\"stroke:blue;stroke-width:4\"/><line x1=\"410.24411673019006\" y1=\"143.7959423831742\" x2=\"404.92689525480273\" y2=\"146.5757185938933\" stroke-linecap=\"round\" style=\"stroke:blue;stroke-width:4\"/><line x1=\"404.92689525480273\" y1=\"146.5757185938933\" x2=\"400.00000000000045\" y2=\"149.99999999999983\" stroke-linecap=\"round\" style=\"stroke:blue;stroke-width:4\"/><line x1=\"400.00000000000045\" y1=\"149.99999999999983\" x2=\"405.19615242270714\" y2=\"146.9999999999999\" stroke-linecap=\"round\" style=\"stroke:blue;stroke-width:4\"/><line x1=\"405.19615242270714\" y1=\"146.9999999999999\" x2=\"409.97533193085235\" y2=\"143.37240531082568\" stroke-linecap=\"round\" style=\"stroke:blue;stroke-width:4\"/><line x1=\"409.97533193085235\" y1=\"143.37240531082568\" x2=\"414.2621680086492\" y2=\"139.17442526774556\" stroke-linecap=\"round\" style=\"stroke:blue;stroke-width:4\"/><line x1=\"414.2621680086492\" y1=\"139.17442526774556\" x2=\"417.9890546903191\" y2=\"134.47226452379059\" stroke-linecap=\"round\" style=\"stroke:blue;stroke-width:4\"/><line x1=\"417.9890546903191\" y1=\"134.47226452379059\" x2=\"421.09721674655793\" y2=\"129.3400789628276\" stroke-linecap=\"round\" style=\"stroke:blue;stroke-width:4\"/><line x1=\"421.09721674655793\" y1=\"129.3400789628276\" x2=\"423.53763660501284\" y2=\"123.85880621697201\" stroke-linecap=\"round\" style=\"stroke:blue;stroke-width:4\"/><line x1=\"423.53763660501284\" y1=\"123.85880621697201\" x2=\"425.2718273866798\" y2=\"118.11488923177963\" stroke-linecap=\"round\" style=\"stroke:blue;stroke-width:4\"/><line x1=\"425.2718273866798\" y1=\"118.11488923177963\" x2=\"426.27243986697647\" y2=\"112.19891300935662\" stroke-linecap=\"round\" style=\"stroke:blue;stroke-width:4\"/><line x1=\"426.27243986697647\" y1=\"112.19891300935662\" x2=\"426.52369378935174\" y2=\"106.20417602876347\" stroke-linecap=\"round\" style=\"stroke:blue;stroke-width:4\"/><line x1=\"426.52369378935174\" y1=\"106.20417602876347\" x2=\"426.02162672935793\" y2=\"100.22521887326644\" stroke-linecap=\"round\" style=\"stroke:blue;stroke-width:4\"/><line x1=\"426.02162672935793\" y1=\"100.22521887326644\" x2=\"420.82547430665124\" y2=\"103.22521887326637\" stroke-linecap=\"round\" style=\"stroke:blue;stroke-width:4\"/><line x1=\"420.82547430665124\" y1=\"103.22521887326637\" x2=\"416.04629479850604\" y2=\"106.85281356244055\" stroke-linecap=\"round\" style=\"stroke:blue;stroke-width:4\"/><line x1=\"416.04629479850604\" y1=\"106.85281356244055\" x2=\"411.7594587207092\" y2=\"111.05079360552067\" stroke-linecap=\"round\" style=\"stroke:blue;stroke-width:4\"/><line x1=\"411.7594587207092\" y1=\"111.05079360552067\" x2=\"408.0325720390392\" y2=\"115.75295434947564\" stroke-linecap=\"round\" style=\"stroke:blue;stroke-width:4\"/><line x1=\"408.0325720390392\" y1=\"115.75295434947564\" x2=\"404.92440998280034\" y2=\"120.88513991043864\" stroke-linecap=\"round\" style=\"stroke:blue;stroke-width:4\"/><line x1=\"404.92440998280034\" y1=\"120.88513991043864\" x2=\"402.48399012434544\" y2=\"126.3664126562942\" stroke-linecap=\"round\" style=\"stroke:blue;stroke-width:4\"/><line x1=\"402.48399012434544\" y1=\"126.3664126562942\" x2=\"400.7497993426785\" y2=\"132.11032964148657\" stroke-linecap=\"round\" style=\"stroke:blue;stroke-width:4\"/><line x1=\"400.7497993426785\" y1=\"132.11032964148657\" x2=\"399.7491868623818\" y2=\"138.02630586390958\" stroke-linecap=\"round\" style=\"stroke:blue;stroke-width:4\"/><line x1=\"399.7491868623818\" y1=\"138.02630586390958\" x2=\"399.49793294000654\" y2=\"144.02104284450274\" stroke-linecap=\"round\" style=\"stroke:blue;stroke-width:4\"/><line x1=\"399.49793294000654\" y1=\"144.02104284450274\" x2=\"400.00000000000034\" y2=\"149.99999999999977\" stroke-linecap=\"round\" style=\"stroke:blue;stroke-width:4\"/>\n",
              "        \n",
              "      <g visibility=visible transform=\"rotate(180.00000000000085,400.00000000000034,149.99999999999977) translate(400.00000000000034, 149.99999999999977)\">\n",
              "        <circle stroke=\"blue\" stroke-width=\"3\" fill=\"transparent\" r=\"12\" cx=\"0\" cy=\"0\"/>\n",
              "        <polygon points=\"0,19 3,16 -3,16\" style=\"fill:blue;stroke:blue;stroke-width:2\"/>\n",
              "      </g>\n",
              "    \n",
              "      </svg>\n",
              "    "
            ],
            "text/plain": [
              "<IPython.core.display.HTML object>"
            ]
          },
          "metadata": {
            "tags": []
          }
        }
      ]
    },
    {
      "cell_type": "markdown",
      "metadata": {
        "id": "rK8p3-a9BPbc"
      },
      "source": [
        "Exercício 4: As letras do alfabeto podem ser construídas a partir de um número moderado de elementos básicos, como linhas verticais e horizontais e algumas curvas. Projete um alfabeto que possa ser desenhado com um número mínimo de elementos básicos e depois escreva funções que desenhem as letras.\n",
        "\n",
        "A) Você deve escrever uma função para cada letra, com os nomes draw_a_, _draw_b_, etc., e colocar suas funções em um arquivo chamado letters.py. Você pode baixar uma “turtle typewriter” de http://thinkpython2.com/code/typewriter.py para ajudá-lo a testar seu código.\n",
        "\n",
        "B) Você pode obter uma solução em http://thinkpython2.com/code/letters.py; também requer http://thinkpython2.com/code/polygon.py."
      ]
    },
    {
      "cell_type": "code",
      "metadata": {
        "id": "q4jViVkNBdvP"
      },
      "source": [
        "import math\n",
        "import ColabTurtle.Turtle\n",
        "bob = ColabTurtle.Turtle\n",
        "bob.initializeTurtle()\n",
        "bob.speed(10)\n",
        "bob.bgcolor(\"white\")\n",
        "bob.color(\"black\")\n",
        "\n",
        "def polygon(turtle, length, n, circle_fraction):\n",
        "    alfa = 360*circle_fraction/n\n",
        "    for i in range(n):\n",
        "        turtle.forward(length)\n",
        "        turtle.left(alfa)\n",
        "\n",
        "def circle(turtle, r, circle_fraction = 1):\n",
        "    circumference = 2*math.pi*r\n",
        "    n = 10\n",
        "    length = int(circumference/n)\n",
        "    polygon(turtle, length, n, circle_fraction)\n",
        "\n",
        "# LEVEL 0 PRIMITIVES \n",
        "# fd, bk, lt, rt, pu, pd\n",
        "\n",
        "def fd(t, length):\n",
        "    t.fd(length)\n",
        "\n",
        "def bk(t, length):\n",
        "    t.bk(length)\n",
        "\n",
        "def lt(t, angle=90):\n",
        "    t.lt(angle)\n",
        "\n",
        "def rt(t, angle=90):\n",
        "    t.rt(angle)\n",
        "\n",
        "def pd(t):\n",
        "    t.pd()\n",
        "\n",
        "def pu(t):\n",
        "    t.pu()\n",
        "\n",
        "\n",
        "# LEVEL 1 PRIMITIVES are simple combinations of Level 0 primitives.\n",
        "# They have no pre- or post-conditions.\n",
        "\n",
        "def fdlt(t, n, angle=90):\n",
        "    \"\"\"forward and left\"\"\"\n",
        "    fd(t, n)\n",
        "    lt(t, angle)\n",
        "\n",
        "def fdbk(t, n):\n",
        "    \"\"\"forward and back, ending at the original position\"\"\"\n",
        "    fd(t, n)\n",
        "    bk(t, n)\n",
        "\n",
        "def skip(t, n):\n",
        "    \"\"\"lift the pen and move\"\"\"\n",
        "    pu(t)\n",
        "    fd(t, n)\n",
        "    pd(t)\n",
        "\n",
        "def stump(t, n, angle=90):\n",
        "    \"\"\"Makes a vertical line and leave the turtle at the top, facing right\"\"\"\n",
        "    lt(t)\n",
        "    fd(t, n)\n",
        "    rt(t, angle)\n",
        "\n",
        "def hollow(t, n):\n",
        "    \"\"\"move the turtle vertically and leave it at the top, facing right\"\"\"\n",
        "    lt(t)\n",
        "    skip(t, n)\n",
        "    rt(t)\n",
        "\n",
        "def post(t, n):\n",
        "    \"\"\"Makes a vertical line and return to the original position\"\"\"\n",
        "    lt(t)\n",
        "    fdbk(t, n)\n",
        "    rt(t)\n",
        "\n",
        "def beam(t, n, height):\n",
        "    \"\"\"Makes a horizontal line at the given height and return.\"\"\"\n",
        "    hollow(t, n*height)\n",
        "    fdbk(t, n)\n",
        "    hollow(t, -n*height)\n",
        "\n",
        "def hangman(t, n, height):\n",
        "    \"\"\"Makes a vertical line to the given height and a horizontal line\n",
        "    at the given height and then return.\n",
        "    This is efficient to implement, and turns out to be useful, but\n",
        "    it's not so semantically clean.\"\"\"\n",
        "    stump(t, n * height)\n",
        "    fdbk(t, n)\n",
        "    lt(t)\n",
        "    bk(t, n*height)\n",
        "    rt(t)\n",
        "\n",
        "def diagonal(t, x, y):\n",
        "    \"\"\"Makes a diagonal line to the given x, y offsets and return\"\"\"\n",
        "    from math import atan2, sqrt, pi\n",
        "    angle = atan2(y, x) * 180 / pi\n",
        "    dist = sqrt(x**2 + y**2)\n",
        "    lt(t, angle)\n",
        "    fdbk(t, dist)\n",
        "    rt(t, angle)\n",
        "\n",
        "def vshape(t, n, height):\n",
        "    diagonal(t, -n/2, height*n)\n",
        "    diagonal(t, n/2, height*n)\n",
        "\n",
        "def bump(t, n, height):\n",
        "    \"\"\"Makes a bump with radius n at height*n \n",
        "    \"\"\"\n",
        "    stump(t, n*height)\n",
        "    arc(t, n/2.0, 180)\n",
        "    lt(t)\n",
        "    fdlt(t, n*height+n)\n",
        "\n",
        "def draw_e(t, n):\n",
        "    draw_ef(t, n)\n",
        "    fd(t, n)\n",
        "\n",
        "def draw_h(t, n):\n",
        "    post(t, 2*n)\n",
        "    hangman(t, n, 1)\n",
        "    skip(t, n)\n",
        "    post(t, 2*n)\n",
        "\n",
        "def draw_l(t, n):\n",
        "    post(t, 2*n)\n",
        "    fd(t, n)\n",
        "\n",
        "def draw_o(t, n):\n",
        "    skip(t, n)\n",
        "    circle(t, n)\n",
        "    skip(t, n)\n",
        "\n",
        "def draw_(t, n):\n",
        "    #espaçamento\n",
        "    skip(t, n)\n",
        "\n",
        "    for f in [draw_h, draw_e, draw_l, draw_l, draw_o]:\n",
        "        f(bob, size)\n",
        "        skip(bob, size)\n",
        "\n",
        "draw_h(bob, 1)\n",
        "draw_e(bob, 1)\n",
        "draw_l(bob, 2)\n",
        "draw_o(bob, 1)"
      ],
      "execution_count": null,
      "outputs": []
    },
    {
      "cell_type": "markdown",
      "metadata": {
        "id": "Cb18GYoSDCvl"
      },
      "source": [
        "Exercício 5: Leia sobre espirais em http://en.wikipedia.org/wiki/Spiral; em seguida, escreva um programa que desenhe uma espiral arquimediana (ou um dos outros tipos). Solução: http://thinkpython2.com/code/spiral.py."
      ]
    },
    {
      "cell_type": "code",
      "metadata": {
        "id": "oo18-BWpDHAH"
      },
      "source": [
        "import math\n",
        "import ColabTurtle.Turtle\n",
        "luisa = ColabTurtle.Turtle\n",
        "luisa.initializeTurtle()\n",
        "luisa.speed(10)\n",
        "luisa.bgcolor(\"white\")\n",
        "luisa.color(\"black\")\n",
        "\n",
        "def polygon(turtle, length, n, circle_fraction):\n",
        "    alfa = 360*circle_fraction/n\n",
        "    for i in range(n):\n",
        "        turtle.forward(length)\n",
        "        turtle.left(alfa)\n",
        "\n",
        "def circle(turtle, r, circle_fraction):\n",
        "    circumference = 2*math.pi*r\n",
        "    n = 5\n",
        "    length = int(circumference/n)\n",
        "    polygon(turtle, length, n, circle_fraction)\n",
        "\n",
        "def espiral(turtle, size, circle_fraction):\n",
        "    for i in range(size):\n",
        "        circle(turtle, i, circle_fraction)\n",
        "\n",
        "\n",
        "espiral(luisa, 50, 1/6)"
      ],
      "execution_count": null,
      "outputs": []
    }
  ]
}