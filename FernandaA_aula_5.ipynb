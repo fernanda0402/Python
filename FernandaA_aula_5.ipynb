{
  "nbformat": 4,
  "nbformat_minor": 0,
  "metadata": {
    "colab": {
      "name": "FernandaA_aula_5.ipynb",
      "provenance": [],
      "collapsed_sections": [],
      "authorship_tag": "ABX9TyOwatitOqvlTQN946ezbG+b",
      "include_colab_link": true
    },
    "kernelspec": {
      "name": "python3",
      "display_name": "Python 3"
    }
  },
  "cells": [
    {
      "cell_type": "markdown",
      "metadata": {
        "id": "view-in-github",
        "colab_type": "text"
      },
      "source": [
        "<a href=\"https://colab.research.google.com/github/fernanda0402/Python/blob/master/FernandaA_aula_5.ipynb\" target=\"_parent\"><img src=\"https://colab.research.google.com/assets/colab-badge.svg\" alt=\"Open In Colab\"/></a>"
      ]
    },
    {
      "cell_type": "markdown",
      "metadata": {
        "id": "hikrz_E1pGM9"
      },
      "source": [
        "### **Exercícios - Parte 1**"
      ]
    },
    {
      "cell_type": "markdown",
      "metadata": {
        "id": "u2yHCL0LgfpA"
      },
      "source": [
        "Exercício 2: Faça modificações similares para permitir que o usuário mude a cor da tartaruga durante a execução do programa.\n",
        "\n",
        "Faça o mesmo para a largura da caneta da tartaruga. Dica: seu diálogo com o usuário retornará uma string, mas o método pensize (width no Google Colab) espera que seu argumento seja um int. Então, você precisará converter a string em um int antes de passá-la para pensize."
      ]
    },
    {
      "cell_type": "code",
      "metadata": {
        "id": "NQeqSNu3gnvj"
      },
      "source": [
        "!pip3 install ColabTurtle\n",
        "import ColabTurtle"
      ],
      "execution_count": null,
      "outputs": []
    },
    {
      "cell_type": "code",
      "metadata": {
        "id": "twjMMjBIhHZa"
      },
      "source": [
        "import ColabTurtle.Turtle as pipa\n",
        "pipa.initializeTurtle()\n",
        "cor = input('Qual a cor da tartaruga? ')\n",
        "pipa.color(cor)\n",
        "largura = int(input('Qual a largura da tartaruga? '))\n",
        "pipa.width(largura)\n",
        "\n",
        "for i in range(4):\n",
        "    pipa.forward(200)\n",
        "    pipa.left(90)\n",
        "    pipa.speed(5)"
      ],
      "execution_count": null,
      "outputs": []
    },
    {
      "cell_type": "markdown",
      "metadata": {
        "id": "AeNBS5LwiosF"
      },
      "source": [
        "Exercício 4: Desenhe um quadrado, usando a forma de tartaruga, ao invés da flecha, para desenhar (caso esteja no Google Colab, não precisa mudar a forma). Mude a velocidade com que a tartaruga faz o desenho."
      ]
    },
    {
      "cell_type": "code",
      "metadata": {
        "id": "ZKlnRTiliwOr"
      },
      "source": [
        "import ColabTurtle.Turtle\n",
        "pipa = ColabTurtle.Turtle\n",
        "pipa.initializeTurtle()\n",
        "pipa.color(\"red\")\n",
        "pipa.width(15)\n",
        "pipa.bgcolor(\"white\")\n",
        "for i in range(4):\n",
        "    pipa.forward(200)\n",
        "    pipa.left(90)\n",
        "    pipa.speed(5)"
      ],
      "execution_count": null,
      "outputs": []
    },
    {
      "cell_type": "markdown",
      "metadata": {
        "id": "C07ZsEJhlJEv"
      },
      "source": [
        "Exercício 5: Sabendo que o ângulo interno da ponta de uma estrela de 5 pontas é de 36 graus, desenhe uma estrela."
      ]
    },
    {
      "cell_type": "code",
      "metadata": {
        "id": "Lupk0-87lOAd"
      },
      "source": [
        "import ColabTurtle.Turtle\n",
        "star = ColabTurtle.Turtle\n",
        "star.initializeTurtle()\n",
        "\n",
        "star.left(36)\n",
        "star.forward(200)\n",
        "star.left(144)\n",
        "star.forward(200)\n",
        "star.left(144)\n",
        "star.forward(200)\n",
        "star.left(144)\n",
        "star.forward(200)\n",
        "star.left(144)\n",
        "star.forward(200)\n",
        "star.left(144)\n",
        "\n",
        "star.speed(10)"
      ],
      "execution_count": null,
      "outputs": []
    },
    {
      "cell_type": "code",
      "metadata": {
        "id": "Tw3e6pM5e67d"
      },
      "source": [
        "import ColabTurtle.Turtle\n",
        "estrela = ColabTurtle.Turtle\n",
        "estrela.initializeTurtle()\n",
        "estrela.color(\"yellow\")\n",
        "\n",
        "estrela.left(18)\n",
        "for i in range(5):\n",
        "    estrela.forward(200)\n",
        "    estrela.left(144)\n"
      ],
      "execution_count": null,
      "outputs": []
    },
    {
      "cell_type": "markdown",
      "metadata": {
        "id": "MxFlDde4fwrW"
      },
      "source": [
        "Exercício 6: Sabendo o ângulo interno da ponta de uma estrela, desenhe quatro estrelas em uma janela, com uma certa distância entre elas. Dica: use a função penup() e pendown() do módulo turtle."
      ]
    },
    {
      "cell_type": "code",
      "metadata": {
        "id": "6K4S67tAf5lE"
      },
      "source": [
        "import ColabTurtle.Turtle\n",
        "leo = ColabTurtle.Turtle\n",
        "leo.initializeTurtle()\n",
        "leo.color(\"blue\")\n",
        "\n",
        "leo.left(36)\n",
        "for i in range(5):\n",
        "    leo.forward(100)\n",
        "    leo.left(144)\n",
        "\n",
        "leo.penup()\n",
        "leo.goto(200,250) #mudar posicao de inicio \n",
        "leo.pendown()\n",
        "leo.left(36)\n",
        "for i in range(5):\n",
        "    leo.forward(100)\n",
        "    leo.left(144)\n",
        "\n",
        "leo.penup()\n",
        "leo.goto(550,250) #mudar posicao de inicio \n",
        "leo.pendown()\n",
        "leo.left(36)\n",
        "for i in range(5):\n",
        "    leo.forward(100)\n",
        "    leo.left(144)\n",
        "\n",
        "leo.penup()\n",
        "leo.goto(700,250) #mudar posicao de inicio \n",
        "leo.pendown()\n",
        "leo.left(36)\n",
        "for i in range(5):\n",
        "    leo.forward(100)\n",
        "    leo.left(144)"
      ],
      "execution_count": null,
      "outputs": []
    },
    {
      "cell_type": "markdown",
      "metadata": {
        "id": "aaJ98sp28Dkn"
      },
      "source": [
        "## **Exercícios - Parte 2**"
      ]
    },
    {
      "cell_type": "markdown",
      "metadata": {
        "id": "VK8TxaGt8H2W"
      },
      "source": [
        "Exercício 1: Escreva um conjunto apropriadamente geral de funções que possam desenhar flores."
      ]
    },
    {
      "cell_type": "code",
      "metadata": {
        "id": "VgTR_grx8_Wp"
      },
      "source": [
        "import math\n",
        "import ColabTurtle.Turtle\n",
        "alice = ColabTurtle.Turtle\n",
        "alice.initializeTurtle()\n",
        "alice.speed(10)\n",
        "alice.bgcolor(\"white\")\n",
        "alice.color(\"red\")\n",
        "\n",
        "def polygon(turtle, length, n, circle_fraction):\n",
        "    alfa = 360*circle_fraction/n\n",
        "    for i in range(n):\n",
        "        turtle.forward(length)\n",
        "        turtle.left(alfa)\n",
        "\n",
        "def circle(turtle, r, circle_fraction = 1):\n",
        "    circumference = 2*math.pi*r\n",
        "    n = 10\n",
        "    length = int(circumference/n)\n",
        "    polygon(turtle, length, n, circle_fraction)\n",
        "\n",
        "def petala(turtle, circle_fraction):\n",
        "    r = 15\n",
        "    angle = 180 - circle_fraction*360\n",
        "\n",
        "    circle(turtle, r, circle_fraction)\n",
        "    turtle.left(angle)\n",
        "    circle(turtle, r, circle_fraction)\n",
        "    turtle.left(angle)\n",
        "\n",
        "def flor(turtle, petalas, circle_fraction):\n",
        "    for i in range(petalas):\n",
        "        petala(turtle, circle_fraction)\n",
        "        turtle.left(360/petalas)\n",
        "\n",
        "#Flor da esquerda (5 pétalas)\n",
        "alice.penup()\n",
        "alice.left(90)\n",
        "alice.forward(200)\n",
        "alice.pendown()\n",
        "flor(alice, 5, 1/5)\n",
        "\n",
        "#Flor do meio (10 pétalas)\n",
        "alice.penup()\n",
        "alice.left(180)\n",
        "alice.forward(200)\n",
        "alice.pendown()\n",
        "flor(alice, 10, 1/5)\n",
        "\n",
        "#Flor da direita (15 pétalas)\n",
        "alice.penup()\n",
        "alice.forward(200)\n",
        "alice.pendown()\n",
        "flor(alice, 15, 1/10)"
      ],
      "execution_count": null,
      "outputs": []
    },
    {
      "cell_type": "markdown",
      "metadata": {
        "id": "qdV0Q4GW6Lxs"
      },
      "source": [
        "Exercício 2: Escreva um conjunto apropriadamente geral de funções que podem desenhar formas como na figura."
      ]
    },
    {
      "cell_type": "code",
      "metadata": {
        "id": "ZBSYbHPK6QZr"
      },
      "source": [
        "import math\n",
        "import ColabTurtle.Turtle\n",
        "bia = ColabTurtle.Turtle\n",
        "bia.initializeTurtle()\n",
        "bia.speed(10)\n",
        "bia.bgcolor(\"white\")\n",
        "bia.color(\"black\")\n",
        "\n",
        "def isosceles(turtle, angulo, tamanho):\n",
        "    ang = 180 - (180 - angulo)/2\n",
        "    base = int(math.tan(math.radians(angulo/2))*tamanho)*2\n",
        "    cateto = int(tamanho/math.cos(math.radians(angulo/2)))\n",
        "\n",
        "    turtle.forward(cateto)\n",
        "    turtle.left(ang)\n",
        "    turtle.forward(base)\n",
        "    turtle.left(ang)\n",
        "    turtle.forward(cateto)\n",
        "    turtle.left(180)\n",
        "\n",
        "def forma(lados, tamanho):\n",
        "    for i in range(lados):\n",
        "        isosceles(bia, 360/lados, tamanho)\n",
        "\n",
        "#Esquerda\n",
        "bia.penup()\n",
        "bia.left(90)\n",
        "bia.forward(200)\n",
        "bia.pendown()\n",
        "forma(5, 45)\n",
        "\n",
        "#Meio\n",
        "bia.penup()\n",
        "bia.left(180)\n",
        "bia.forward(200)\n",
        "bia.left(90)\n",
        "bia.pendown()\n",
        "forma(6, 65)\n",
        "\n",
        "#Direita\n",
        "bia.penup()\n",
        "bia.right(90)\n",
        "bia.forward(200)\n",
        "bia.pendown()\n",
        "forma(7, 85)"
      ],
      "execution_count": null,
      "outputs": []
    },
    {
      "cell_type": "markdown",
      "metadata": {
        "id": "bqVT77Vx8xFU"
      },
      "source": [
        "Exercício 3: Adicione instruções para desenhar o talo e folha da flor. Faça a refatoração apropriada para a interface da flor completa ficar \"limpa\"."
      ]
    },
    {
      "cell_type": "code",
      "metadata": {
        "id": "fSrDrQOo82-l"
      },
      "source": [
        "import math\n",
        "import ColabTurtle.Turtle\n",
        "joana = ColabTurtle.Turtle\n",
        "joana.initializeTurtle()\n",
        "joana.speed(10)\n",
        "joana.bgcolor(\"white\")\n",
        "joana.color(\"blue\")\n",
        "\n",
        "def polygon(turtle, length, n, circle_fraction):\n",
        "    alfa = 360*circle_fraction/n\n",
        "    for i in range(n):\n",
        "        turtle.forward(length)\n",
        "        turtle.left(alfa)\n",
        "\n",
        "def circle(turtle, r, circle_fraction = 1):\n",
        "    circumference = 2*math.pi*r\n",
        "    n = 10\n",
        "    length = int(circumference/n)\n",
        "    polygon(turtle, length, n, circle_fraction)\n",
        "\n",
        "def petala(turtle, circle_fraction):\n",
        "    r = 20\n",
        "    angle = 180 - circle_fraction*360\n",
        "\n",
        "    circle(turtle, r, circle_fraction)\n",
        "    turtle.left(angle)\n",
        "    circle(turtle, r, circle_fraction)\n",
        "    turtle.left(angle)\n",
        "\n",
        "def flor(turtle, petalas, circle_fraction):\n",
        "    for i in range(petalas):\n",
        "        petala(turtle, circle_fraction)\n",
        "        turtle.left(360/petalas)\n",
        "\n",
        "def talo(turtle, height):\n",
        "    turtle.forward(int(height*2/3))\n",
        "    joana.left(100)\n",
        "    petala(turtle, 1/5)\n",
        "    joana.right(100)\n",
        "    turtle.forward(int(height*1/3))\n",
        "\n",
        "#Flor com caule\n",
        "joana.left(180)\n",
        "talo(joana, 150)\n",
        "joana.backward(250)\n",
        "joana.left(180)\n",
        "\n",
        "flor(joana, 6, 1/5)"
      ],
      "execution_count": null,
      "outputs": []
    },
    {
      "cell_type": "markdown",
      "metadata": {
        "id": "rK8p3-a9BPbc"
      },
      "source": [
        "Exercício 4: As letras do alfabeto podem ser construídas a partir de um número moderado de elementos básicos, como linhas verticais e horizontais e algumas curvas. Projete um alfabeto que possa ser desenhado com um número mínimo de elementos básicos e depois escreva funções que desenhem as letras.\n",
        "\n",
        "A) Você deve escrever uma função para cada letra, com os nomes draw_a_, _draw_b_, etc., e colocar suas funções em um arquivo chamado letters.py. Você pode baixar uma “turtle typewriter” de http://thinkpython2.com/code/typewriter.py para ajudá-lo a testar seu código.\n",
        "\n",
        "B) Você pode obter uma solução em http://thinkpython2.com/code/letters.py; também requer http://thinkpython2.com/code/polygon.py."
      ]
    },
    {
      "cell_type": "code",
      "metadata": {
        "id": "q4jViVkNBdvP"
      },
      "source": [
        "import math\n",
        "import ColabTurtle.Turtle\n",
        "bob = ColabTurtle.Turtle\n",
        "bob.initializeTurtle()\n",
        "bob.speed(10)\n",
        "bob.bgcolor(\"white\")\n",
        "bob.color(\"black\")\n",
        "\n",
        "def a():\n",
        "    bob.penup()\n",
        "    bob.goto(400,300)\n",
        "    bob.pendown()\n",
        "    bob.right(30)\n",
        "    bob.forward(50)\n",
        "    bob.right(120)\n",
        "    bob.forward(50)\n",
        "    bob.right(180)\n",
        "    bob.forward(25)\n",
        "    bob.left(60)\n",
        "    bob.forward(25)\n",
        "    bob.left(180)\n",
        "    bob.forward(25)\n",
        "    bob.right(60)\n",
        "    bob.forward(25)\n",
        "    bob.left(150)\n",
        "\n",
        "def f():\n",
        "    bob.penup()\n",
        "    bob.goto(100,300)\n",
        "    bob.pendown()\n",
        "    bob.forward(35)\n",
        "    bob.right(90)\n",
        "    bob.forward(15)\n",
        "    bob.right(180)\n",
        "    bob.forward(15)\n",
        "    bob.right(90)\n",
        "    bob.forward(30)\n",
        "    bob.right(90)\n",
        "    bob.forward(25)\n",
        "    \n",
        "\n",
        "def i():\n",
        "    bob.penup()\n",
        "    bob.goto(200, 300)\n",
        "    bob.pendown()\n",
        "    bob.left(90)\n",
        "    bob.forward(60)\n",
        "    \n",
        "\n",
        "def l():\n",
        "    bob.penup()\n",
        "    bob.goto(300, 300)\n",
        "    bob.pendown()\n",
        "    bob.right(90)\n",
        "    bob.forward(40)\n",
        "    bob.right(180)\n",
        "    bob.forward(40)\n",
        "    bob.right(90)\n",
        "    bob.forward(60)\n",
        "\n",
        "\n",
        "def inicio():\n",
        "    bob.penup()\n",
        "    bob.left(90)\n",
        "    bob.forward(380)\n",
        "    bob.right(90)\n",
        "    bob.pendown()\n",
        "\n",
        "inicio()\n",
        "f()\n",
        "i()\n",
        "l()\n",
        "a()\n"
      ],
      "execution_count": null,
      "outputs": []
    },
    {
      "cell_type": "markdown",
      "metadata": {
        "id": "Cb18GYoSDCvl"
      },
      "source": [
        "Exercício 5: Leia sobre espirais em http://en.wikipedia.org/wiki/Spiral; em seguida, escreva um programa que desenhe uma espiral arquimediana (ou um dos outros tipos). Solução: http://thinkpython2.com/code/spiral.py."
      ]
    },
    {
      "cell_type": "code",
      "metadata": {
        "id": "oo18-BWpDHAH"
      },
      "source": [
        "import math\n",
        "import ColabTurtle.Turtle\n",
        "luisa = ColabTurtle.Turtle\n",
        "luisa.initializeTurtle()\n",
        "luisa.speed(10)\n",
        "luisa.bgcolor(\"white\")\n",
        "luisa.color(\"black\")\n",
        "\n",
        "def polygon(turtle, length, n, circle_fraction):\n",
        "    alfa = 360*circle_fraction/n\n",
        "    for i in range(n):\n",
        "        turtle.forward(length)\n",
        "        turtle.left(alfa)\n",
        "\n",
        "def circle(turtle, r, circle_fraction):\n",
        "    circumference = 2*math.pi*r\n",
        "    n = 5\n",
        "    length = int(circumference/n)\n",
        "    polygon(turtle, length, n, circle_fraction)\n",
        "\n",
        "def espiral(turtle, size, circle_fraction):\n",
        "    for i in range(size):\n",
        "        circle(turtle, i, circle_fraction)\n",
        "\n",
        "\n",
        "espiral(luisa, 50, 1/6)"
      ],
      "execution_count": null,
      "outputs": []
    }
  ]
}