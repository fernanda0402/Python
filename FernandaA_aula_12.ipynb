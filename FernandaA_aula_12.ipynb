{
  "nbformat": 4,
  "nbformat_minor": 0,
  "metadata": {
    "colab": {
      "name": "FernandaA_aula_12.ipynb",
      "provenance": [],
      "authorship_tag": "ABX9TyNUnYGuRbTXX5S58AhUd6Gh",
      "include_colab_link": true
    },
    "kernelspec": {
      "name": "python3",
      "display_name": "Python 3"
    }
  },
  "cells": [
    {
      "cell_type": "markdown",
      "metadata": {
        "id": "view-in-github",
        "colab_type": "text"
      },
      "source": [
        "<a href=\"https://colab.research.google.com/github/fernanda0402/Python/blob/master/FernandaA_aula_12.ipynb\" target=\"_parent\"><img src=\"https://colab.research.google.com/assets/colab-badge.svg\" alt=\"Open In Colab\"/></a>"
      ]
    },
    {
      "cell_type": "markdown",
      "metadata": {
        "id": "tsdxyBatYBde"
      },
      "source": [
        "### **Exercícios**:\n",
        "\n",
        "Exercício 1: Escreva uma função que calcula a distância entre dois pontos, usando a classe Ponto que fizemos nessa aula."
      ]
    },
    {
      "cell_type": "code",
      "metadata": {
        "id": "Uko9sNbZY6W5"
      },
      "source": [
        "import numpy as np"
      ],
      "execution_count": 1,
      "outputs": []
    },
    {
      "cell_type": "code",
      "metadata": {
        "id": "GHwl3DBcYMhg"
      },
      "source": [
        "class Ponto:\n",
        "    def __init__(self, x=0, y=0):\n",
        "        \"\"\" Inicializa em x, y o novo ponto criado pela classe \"\"\"\n",
        "        self.x = x\n",
        "        self.y = y\n",
        "\n",
        "    def distancia_pontos(self,alvo):\n",
        "        d = (((self.x) - (alvo.x))**2 + ((self.y) - (alvo.y))**2) ** 0.5\n",
        "        return d\n",
        "\n",
        "    def __str__(self):\n",
        "        return \"({0}, {1})\".format(self.x, self.y)"
      ],
      "execution_count": 2,
      "outputs": []
    },
    {
      "cell_type": "code",
      "metadata": {
        "colab": {
          "base_uri": "https://localhost:8080/"
        },
        "id": "3V7Lc3DzZ00g",
        "outputId": "834a0fde-053d-49c9-93f3-cede9688cfdc"
      },
      "source": [
        "print(round(Ponto(0,2).distancia_pontos(Ponto(5,0)),3))"
      ],
      "execution_count": 3,
      "outputs": [
        {
          "output_type": "stream",
          "text": [
            "5.385\n"
          ],
          "name": "stdout"
        }
      ]
    },
    {
      "cell_type": "markdown",
      "metadata": {
        "id": "B2hg2S47c4zt"
      },
      "source": [
        "Exercício 2: Adicione um método reflexao_x à classe Ponto que retorna uma instância de Ponto, que é o reflexo do Ponto sobre o eixo x. Por exemplo, Point (3, 5) .reflexao_x () é (3, -5)"
      ]
    },
    {
      "cell_type": "code",
      "metadata": {
        "id": "VxIRIwaEc9df"
      },
      "source": [
        "class Ponto:\n",
        "    def __init__(self, x=0, y=0):\n",
        "        \"\"\" Inicializa em x, y o novo ponto criado pela classe \"\"\"\n",
        "        self.x = x\n",
        "        self.y = y\n",
        "\n",
        "    def reflexao_x(self):\n",
        "        \"\"\" Retorna o ponto refletido no eixo x \"\"\"\n",
        "        return Ponto(self.x, -self.y)\n",
        "    \n",
        "    def __str__(self):\n",
        "        return \"({0}, {1})\".format(self.x, self.y)"
      ],
      "execution_count": 4,
      "outputs": []
    },
    {
      "cell_type": "code",
      "metadata": {
        "colab": {
          "base_uri": "https://localhost:8080/"
        },
        "id": "FwY-IL9JtCG2",
        "outputId": "c16e4b27-2272-4ab9-dd3b-a19074dcc0e0"
      },
      "source": [
        "print(Ponto(3,5).reflexao_x())"
      ],
      "execution_count": 8,
      "outputs": [
        {
          "output_type": "stream",
          "text": [
            "(3, -5)\n"
          ],
          "name": "stdout"
        }
      ]
    },
    {
      "cell_type": "markdown",
      "metadata": {
        "id": "TLbBfxxFc9nP"
      },
      "source": [
        "Exercício 3: Adicione um método inclinacao_da_origem à classe Ponto, que retorne a inclinação da linha que une a origem ao Ponto. Por exemplo:"
      ]
    },
    {
      "cell_type": "code",
      "metadata": {
        "id": "bHc6UjyWdDhB"
      },
      "source": [
        "from Ponto import *\n",
        "Ponto(4, 10).inclinacao_origem()\n",
        "2.5"
      ],
      "execution_count": null,
      "outputs": []
    },
    {
      "cell_type": "code",
      "metadata": {
        "id": "N6PR6-NGtfRn"
      },
      "source": [
        "class Ponto:\n",
        "    def __init__(self, x=0, y=0):\n",
        "        \"\"\" Inicializa em x, y o novo ponto criado pela classe \"\"\"\n",
        "        self.x = x\n",
        "        self.y = y\n",
        "\n",
        "    def inclinacao_origem(self):\n",
        "        \"\"\" Retorna a inclinação da linha que une a origem ao Ponto \"\"\"\n",
        "        if self.x == 0:\n",
        "            return False\n",
        "        return self.y/self.x\n",
        "    \n",
        "    def __str__(self):\n",
        "        return \"({0}, {1})\".format(self.x, self.y)"
      ],
      "execution_count": 16,
      "outputs": []
    },
    {
      "cell_type": "code",
      "metadata": {
        "colab": {
          "base_uri": "https://localhost:8080/"
        },
        "id": "aWtxo1wstmPS",
        "outputId": "1138e1f6-25cf-4b67-ae01-15cde074eb0c"
      },
      "source": [
        "print(Ponto(4,10).inclinacao_origem())\n",
        "print(Ponto(3,9).inclinacao_origem())"
      ],
      "execution_count": 17,
      "outputs": [
        {
          "output_type": "stream",
          "text": [
            "2.5\n",
            "3.0\n"
          ],
          "name": "stdout"
        }
      ]
    },
    {
      "cell_type": "markdown",
      "metadata": {
        "id": "n-rVvBDqdIyc"
      },
      "source": [
        "O que pode dar errado com esse programa?\n",
        "\n",
        "O que pode dar errado é se x = 0, já que não existe divisão por zero. Por isso, há um \"if self.x == 0 return False\" para evitar este problema."
      ]
    },
    {
      "cell_type": "markdown",
      "metadata": {
        "id": "2_6QiyG1dJ-M"
      },
      "source": [
        "Exercício 4: A equação de uma linha reta é “y = ax + b”. Os coeficientes a e b descrevem completamente a reta. Escreva um método na classe Ponto para que, se uma instância Ponto receber outro Ponto, calcule a equação da linha reta que une os dois pontos. Deve retornar os dois coeficientes como uma tupla de dois valores. Por exemplo:"
      ]
    },
    {
      "cell_type": "code",
      "metadata": {
        "id": "D8m5W_qwdNQI"
      },
      "source": [
        "from Ponto import *\n",
        "print(Ponto(4,11).parametros_reta(Ponto(6,15)))"
      ],
      "execution_count": null,
      "outputs": []
    },
    {
      "cell_type": "code",
      "metadata": {
        "id": "GsuFLz8OuhdM"
      },
      "source": [
        "class Ponto:\n",
        "    \"\"\" Cria um novo Ponto, com coordenadas x, y \"\"\"\n",
        "\n",
        "    def __init__(self, x=0, y=0):\n",
        "        \"\"\" Inicializa em x, y o novo ponto criado pela classe \"\"\"\n",
        "        self.x = x\n",
        "        self.y = y\n",
        "\n",
        "    def parametros_reta(self, alvo):\n",
        "        \"\"\" Retorna em tupla os coeficientes de uma reta dado um segundo ponto alvo \"\"\"\n",
        "        a = (alvo.y - self.y)/(alvo.x - self.x)\n",
        "        if (alvo.x - self.x) == 0:\n",
        "          return False\n",
        "        b = self.y - (self.x)*a\n",
        "        return (a, b)\n",
        "\n",
        "    def __str__(self):\n",
        "        return \"({0}, {1})\".format(self.x, self.y)"
      ],
      "execution_count": 25,
      "outputs": []
    },
    {
      "cell_type": "code",
      "metadata": {
        "colab": {
          "base_uri": "https://localhost:8080/"
        },
        "id": "pBkAkHtjuyFh",
        "outputId": "e932edcd-7e07-47fe-d96c-c9eb96168cbe"
      },
      "source": [
        "print(Ponto(4,11).parametros_reta(Ponto(6,15)))"
      ],
      "execution_count": 26,
      "outputs": [
        {
          "output_type": "stream",
          "text": [
            "(2.0, 3.0)\n"
          ],
          "name": "stdout"
        }
      ]
    },
    {
      "cell_type": "markdown",
      "metadata": {
        "id": "YGG_35DddTLI"
      },
      "source": [
        "O resultado acima nos diz que a equação da reta é y = 2x + 3. Quando esse método falha?\n",
        "\n",
        "Esse método falha se a posição inicial for igual a posição final na coordenada x, pois assim não haverá coeficiente angular já que não há divisão por zero.\n",
        "\n",
        "Por isso, há um \"if (alvo.x - self.x) == 0 return False\" para evitar este problema."
      ]
    }
  ]
}