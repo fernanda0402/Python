{
  "nbformat": 4,
  "nbformat_minor": 0,
  "metadata": {
    "colab": {
      "name": "FernandaA_aula_7_fractais_de_Koch.ipynb",
      "provenance": [],
      "authorship_tag": "ABX9TyNGJjr4lE5ySrefGOWad244",
      "include_colab_link": true
    },
    "kernelspec": {
      "name": "python3",
      "display_name": "Python 3"
    }
  },
  "cells": [
    {
      "cell_type": "markdown",
      "metadata": {
        "id": "view-in-github",
        "colab_type": "text"
      },
      "source": [
        "<a href=\"https://colab.research.google.com/github/fernanda0402/Python/blob/master/FernandaA_aula_7_fractais_de_Koch.ipynb\" target=\"_parent\"><img src=\"https://colab.research.google.com/assets/colab-badge.svg\" alt=\"Open In Colab\"/></a>"
      ]
    },
    {
      "cell_type": "markdown",
      "metadata": {
        "id": "xxBK-JPpDori"
      },
      "source": [
        "Exercício: A curva de Koch é um fractal que parece com o da figura abaixo. Para desenhar uma curva de Koch com o comprimento x, tudo o que você tem que fazer é:\n",
        "\n",
        "1. Desenhe uma curva de Koch com o comprimento x/3.\n",
        "\n",
        "2. Vire 60 graus à esquerda.\n",
        "\n",
        "3. Desenhe uma curva de Koch com o comprimento x/3.\n",
        "\n",
        "4. Vire 120 graus à direita.\n",
        "\n",
        "5. Desenhe uma curva de Koch com o comprimento x/3.\n",
        "\n",
        "6. Vire 60 graus à esquerda.\n",
        "\n",
        "7. Desenhe uma curva de Koch com o comprimento x/3.\n",
        "\n",
        "A exceção é se x for menor que 3: neste caso, você pode desenhar apenas uma linha reta com o comprimento x.\n",
        "\n",
        "a) Escreva uma função chamada koch que receba um ColabTurtle (ou turtle) e um comprimento como parâmetros, e use o ColabTurtle para desenhar uma curva de Koch com o comprimento dado.\n",
        "\n",
        "b) Escreva uma função chamada snowflake que desenhe três curvas de Koch para fazer o traçado de um floco de neve.\n",
        "\n",
        "c) A curva de Koch pode ser generalizada de vários modos. Veja exemplos em http://en.wikipedia.org/wiki/Koch_snowflake e implemente o seu favorito."
      ]
    },
    {
      "cell_type": "code",
      "metadata": {
        "id": "K7IWBTH7DvEM"
      },
      "source": [
        "!pip3 install ColabTurtle\n",
        "import ColabTurtle"
      ],
      "execution_count": null,
      "outputs": []
    },
    {
      "cell_type": "code",
      "metadata": {
        "id": "2Z4FcMwjD1jm"
      },
      "source": [
        "import ColabTurtle.Turtle as bey\n",
        "bey.initializeTurtle()\n",
        "bey.color(\"blue\")\n",
        "bey.bgcolor(\"white\")\n",
        "\n",
        "def koch(bey, x):\n",
        "    if x < 10:\n",
        "      bey.forward(5)\n",
        "      return\n",
        "    n = x/3\n",
        "    koch(bey, n)\n",
        "    bey.left(60)\n",
        "    koch(bey, n)\n",
        "    bey.right(120)\n",
        "    koch(bey, n)\n",
        "    bey.left(60)\n",
        "    koch(bey, n)\n",
        "\n",
        "def snowflake(bey, n):\n",
        "    for i in range(3):\n",
        "        koch(bey, n)\n",
        "        bey.right(120)\n",
        "\n",
        "bey.penup()\n",
        "bey.goto(300, 450)\n",
        "bey.pendown()\n",
        "snowflake(bey, 300)\n",
        "bey.speed(10)"
      ],
      "execution_count": null,
      "outputs": []
    }
  ]
}