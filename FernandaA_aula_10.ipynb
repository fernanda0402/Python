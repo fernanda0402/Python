{
  "nbformat": 4,
  "nbformat_minor": 0,
  "metadata": {
    "colab": {
      "name": "FernandaA_aula_10.ipynb",
      "provenance": [],
      "authorship_tag": "ABX9TyNr5b36qHQpsc0IzY9u4XvP",
      "include_colab_link": true
    },
    "kernelspec": {
      "name": "python3",
      "display_name": "Python 3"
    }
  },
  "cells": [
    {
      "cell_type": "markdown",
      "metadata": {
        "id": "view-in-github",
        "colab_type": "text"
      },
      "source": [
        "<a href=\"https://colab.research.google.com/github/fernanda0402/Python/blob/master/FernandaA_aula_10.ipynb\" target=\"_parent\"><img src=\"https://colab.research.google.com/assets/colab-badge.svg\" alt=\"Open In Colab\"/></a>"
      ]
    },
    {
      "cell_type": "markdown",
      "metadata": {
        "id": "r9Z0bTS3lhPg"
      },
      "source": [
        "## **Exercícios:**"
      ]
    },
    {
      "cell_type": "markdown",
      "metadata": {
        "id": "qfbQPyDYlmlK"
      },
      "source": [
        "Exercício 1: Quantos intervalos (ou qual largura de intervalo) é preciso implementar para ter uma precisão de 1% no resultado numérico na integração de $f(x)$ de 0 a 10?\n",
        "\n",
        "$\\dfrac{R_{num}-R_{an}}{R_{an}} \\leq 10\\% $"
      ]
    },
    {
      "cell_type": "code",
      "metadata": {
        "id": "lBj5RPfplg-7",
        "outputId": "8a2f866d-8385-40ed-b5d8-2c1672bdff36",
        "colab": {
          "base_uri": "https://localhost:8080/"
        }
      },
      "source": [
        "import numpy as np\n",
        "\n",
        "a = np.exp(0) - np.exp(-10)\n",
        "x_i = 0\n",
        "x_f = 10\n",
        "dx = 1\n",
        "por = 1\n",
        "\n",
        "while por >= 0.01:\n",
        "  n_steps = round((x_f - x_i)/dx)\n",
        "  x = np.arange(x_i,x_f,dx)\n",
        "  S1 = 0\n",
        "  for xi in x:\n",
        "    S1 = S1 + np.exp(-xi)*dx\n",
        "\n",
        "  por = abs(S1 - a)/a\n",
        "  print(\"Aproximação: \", S1, \"Número de Caixas: \", n_steps, \"Erro: \",por*100,\"%\")\n",
        "  dx = dx*0.1"
      ],
      "execution_count": null,
      "outputs": [
        {
          "output_type": "stream",
          "text": [
            "Aproximação:  1.5819048852379485 Número de Caixas:  10 Erro:  58.197670686932625 %\n",
            "Aproximação:  1.0507854867242843 Número de Caixas:  100 Erro:  5.083319447750567 %\n",
            "Aproximação:  1.004962706011702 Número de Caixas:  1000 Erro:  0.5008333319445322 %\n"
          ],
          "name": "stdout"
        }
      ]
    },
    {
      "cell_type": "markdown",
      "metadata": {
        "id": "DeT-4RE3ndrN"
      },
      "source": [
        "Exercício 2: Faça a integração numérica pela esquerda da mesma função. Compare o resultado com a integração pela direita."
      ]
    },
    {
      "cell_type": "code",
      "metadata": {
        "id": "5LsTWi0cngDF",
        "outputId": "6022769b-1b03-4b7d-8989-b8aa176a492c",
        "colab": {
          "base_uri": "https://localhost:8080/"
        }
      },
      "source": [
        "import numpy as np\n",
        "\n",
        "def f(x):\n",
        "    return np.exp(-x)\n",
        "\n",
        "def integral_direita(f,a,b,dx):\n",
        "    x = np.arange(a,b,dx)\n",
        "    sum = 0\n",
        "    for i in range(len(x) - 1):\n",
        "        sum = sum + f(x[i])*dx\n",
        "    print(f\"Soma pela esquerda = {sum}\")\n",
        "\n",
        "def integral_esquerda(f,a,b,dx):\n",
        "    x = np.arange(a,b,dx)\n",
        "    sum = 0\n",
        "    for i in range(1, len(x)):\n",
        "        sum = sum + f(x[i])*dx\n",
        "    print(f\"Soma pela direita = {sum}\")\n",
        "\n",
        "integral_direita(f,a = 0, b = 10, dx = 0.01)\n",
        "integral_esquerda(f,a = 0, b = 10, dx = 0.01)"
      ],
      "execution_count": null,
      "outputs": [
        {
          "output_type": "stream",
          "text": [
            "Soma pela esquerda = 1.0049622474496354\n",
            "Soma pela direita = 0.9949627060117006\n"
          ],
          "name": "stdout"
        }
      ]
    },
    {
      "cell_type": "markdown",
      "metadata": {
        "id": "xO914skgpGaS"
      },
      "source": [
        "Exercício 3: Faça a integração por trapézios. Lembre que a área de um trapézio é dada por: $A=\\frac{(a + b)h}{2}$"
      ]
    },
    {
      "cell_type": "code",
      "metadata": {
        "id": "gI7LKbVUpLTg"
      },
      "source": [
        ""
      ],
      "execution_count": null,
      "outputs": []
    },
    {
      "cell_type": "markdown",
      "metadata": {
        "id": "d91tJtaSpLk4"
      },
      "source": [
        "Exercício 4: Faça a integração numérica das funções trigonométricas $\\sin(x)$ e $\\cos(x)$ num período 0 < x < 2$\\pi$."
      ]
    },
    {
      "cell_type": "code",
      "metadata": {
        "id": "4a_wFadFpYjd",
        "outputId": "48616e34-66f9-4ac7-8298-b4dcac7243bd",
        "colab": {
          "base_uri": "https://localhost:8080/",
          "height": 265
        }
      },
      "source": [
        "#Função sin(x)\n",
        "import numpy as np\n",
        "import matplotlib.pyplot as plt\n",
        "\n",
        "x1 = np.linspace(0,2*np.pi, 1000)   #intervalo de 0 a 10, com 1000 divisões\n",
        "\n",
        "sin = [np.sin(xi) for xi in x1]\n",
        "plt.plot(x1,sin)\n",
        "plt.show()"
      ],
      "execution_count": null,
      "outputs": [
        {
          "output_type": "display_data",
          "data": {
            "image/png": "[encoded data removed]",
            "text/plain": [
              "<Figure size 432x288 with 1 Axes>"
            ]
          },
          "metadata": {
            "tags": [],
            "needs_background": "light"
          }
        }
      ]
    },
    {
      "cell_type": "code",
      "metadata": {
        "id": "4Ic5cEAau0UR",
        "outputId": "15cc68ac-325a-4eef-ac92-71e9a0adb675",
        "colab": {
          "base_uri": "https://localhost:8080/",
          "height": 265
        }
      },
      "source": [
        "#Função cos(x)\n",
        "import numpy as np\n",
        "import matplotlib.pyplot as plt\n",
        "\n",
        "x1 = np.linspace(0,2*np.pi, 1000)   #intervalo de 0 a 10, com 1000 divisões\n",
        "\n",
        "cos = [np.cos(xi) for xi in x1]\n",
        "plt.plot(x1,cos)\n",
        "plt.show()"
      ],
      "execution_count": null,
      "outputs": [
        {
          "output_type": "display_data",
          "data": {
            "image/png": "[encoded data removed]",
            "text/plain": [
              "<Figure size 432x288 with 1 Axes>"
            ]
          },
          "metadata": {
            "tags": [],
            "needs_background": "light"
          }
        }
      ]
    },
    {
      "cell_type": "markdown",
      "metadata": {
        "id": "xvtzFjCSpZBm"
      },
      "source": [
        "Exercício 5: Faça a integração das funções hiperbólicas $\\sinh(x)$ e $\\cosh(x)$ no intervalo $0-10$."
      ]
    },
    {
      "cell_type": "code",
      "metadata": {
        "id": "ya24twdlqWQu",
        "outputId": "b6d9fbbe-0c52-4091-d80f-5f4268e9c906",
        "colab": {
          "base_uri": "https://localhost:8080/",
          "height": 265
        }
      },
      "source": [
        "#Função sinh(x)\n",
        "import numpy as np\n",
        "import matplotlib.pyplot as plt\n",
        "\n",
        "x1 = np.linspace(0,10, 1000)   #intervalo de 0 a 10, com 1000 divisões\n",
        "\n",
        "sh = [np.sinh(xi) for xi in x1]\n",
        "plt.plot(x1,sh)\n",
        "plt.show()"
      ],
      "execution_count": null,
      "outputs": [
        {
          "output_type": "display_data",
          "data": {
            "image/png": "[encoded data removed]",
            "text/plain": [
              "<Figure size 432x288 with 1 Axes>"
            ]
          },
          "metadata": {
            "tags": [],
            "needs_background": "light"
          }
        }
      ]
    },
    {
      "cell_type": "code",
      "metadata": {
        "id": "lU3FrGR-rgmX",
        "outputId": "cf6c6464-dd10-4ea4-ec9c-78539b324348",
        "colab": {
          "base_uri": "https://localhost:8080/",
          "height": 265
        }
      },
      "source": [
        "#Função cosh(x)\n",
        "import numpy as np\n",
        "import matplotlib.pyplot as plt\n",
        "\n",
        "x1 = np.linspace(0,10, 1000)    #intervalo de 0 a 10, com 1000 divisões\n",
        "\n",
        "ch = [np.cosh(xi) for xi in x1]\n",
        "plt.plot(x1,ch)\n",
        "plt.show()"
      ],
      "execution_count": null,
      "outputs": [
        {
          "output_type": "display_data",
          "data": {
            "image/png": "[encoded data removed]",
            "text/plain": [
              "<Figure size 432x288 with 1 Axes>"
            ]
          },
          "metadata": {
            "tags": [],
            "needs_background": "light"
          }
        }
      ]
    }
  ]
}