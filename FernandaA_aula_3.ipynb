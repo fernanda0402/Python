{
  "nbformat": 4,
  "nbformat_minor": 0,
  "metadata": {
    "colab": {
      "name": "FernandaA_aula_3.ipynb",
      "provenance": [],
      "include_colab_link": true
    },
    "kernelspec": {
      "name": "python3",
      "display_name": "Python 3"
    }
  },
  "cells": [
    {
      "cell_type": "markdown",
      "metadata": {
        "id": "view-in-github",
        "colab_type": "text"
      },
      "source": [
        "<a href=\"https://colab.research.google.com/github/fernanda0402/Python/blob/master/FernandaA_aula_3.ipynb\" target=\"_parent\"><img src=\"https://colab.research.google.com/assets/colab-badge.svg\" alt=\"Open In Colab\"/></a>"
      ]
    },
    {
      "cell_type": "markdown",
      "metadata": {
        "id": "6WDtaElMN2xr"
      },
      "source": [
        "Exercício 1: Crie uma função que tome um argumento e imprima o valor e o tipo dele."
      ]
    },
    {
      "cell_type": "code",
      "metadata": {
        "id": "1G5C71JcN7ss",
        "outputId": "3d2476be-68b0-4bc8-9319-f0b02c7a6594",
        "colab": {
          "base_uri": "https://localhost:8080/",
          "height": 51
        }
      },
      "source": [
        "def verso(poema) :\n",
        "    print(poema)\n",
        "    print('tipo de argumento', type(poema))\n",
        "\n",
        "verso('Na minha terra tem palmeiras')"
      ],
      "execution_count": null,
      "outputs": [
        {
          "output_type": "stream",
          "text": [
            "Na minha terra tem palmeiras\n",
            "tipo de argumento <class 'str'>\n"
          ],
          "name": "stdout"
        }
      ]
    },
    {
      "cell_type": "code",
      "metadata": {
        "id": "gaQ6AI0eR-ve",
        "outputId": "cc731c12-aff9-4a06-8664-b3927aa9608a",
        "colab": {
          "base_uri": "https://localhost:8080/",
          "height": 34
        }
      },
      "source": [
        "type(verso_poema)"
      ],
      "execution_count": null,
      "outputs": [
        {
          "output_type": "execute_result",
          "data": {
            "text/plain": [
              "function"
            ]
          },
          "metadata": {
            "tags": []
          },
          "execution_count": 4
        }
      ]
    },
    {
      "cell_type": "markdown",
      "metadata": {
        "id": "pNubs5j8SEhs"
      },
      "source": [
        "Exercício 2: Crie uma função que calcule e imprima velocidade média de um objeto a partir de uma posição inicial, a final e o tempo transcorrido para um objeto em MRU. Também crie uma funcão que calcule e imprima a velocidade de um objeto a partir da aceleração constante e o tempo (MRUA) (p.ex. queda livre)."
      ]
    },
    {
      "cell_type": "code",
      "metadata": {
        "id": "JkEUyiA5SITe",
        "outputId": "4bdff703-de8f-4eac-a157-5147e5acf89e",
        "colab": {
          "base_uri": "https://localhost:8080/",
          "height": 85
        }
      },
      "source": [
        "#MRU\n",
        "def posicaoi() : #posição inicial\n",
        "    x = input('Digite a posição inicial em metros: ')\n",
        "    p_i = float(x)\n",
        "    return p_i\n",
        "\n",
        "def posicaof() : #posição final\n",
        "    y = input('Digite a posição final em metros: ')\n",
        "    p_f = float(y)\n",
        "    return p_f\n",
        "\n",
        "def tempo() : #tempo transcorrido\n",
        "    z = input('Digite o tempo transcorrido em segundos: ')\n",
        "    t = int(z)\n",
        "    return t\n",
        "\n",
        "def equacao(p_i,p_f,t) : #velocidade média\n",
        "    velocidade = (p_f - p_i)/t\n",
        "    return velocidade\n",
        "\n",
        "p_i = posicaoi()\n",
        "p_f = posicaof()\n",
        "t = tempo()\n",
        "velocidade = equacao(p_i,p_f,t) \n",
        "print('A velocidade média é', velocidade, 'm/s')\n",
        "\n"
      ],
      "execution_count": 5,
      "outputs": [
        {
          "output_type": "stream",
          "text": [
            "Digite a posição inicial em metros: 0\n",
            "Digite a posição final em metros: 100\n",
            "Digite o tempo transcorrido em segundos: 10\n",
            "A velocidade média é 10.0 m/s\n"
          ],
          "name": "stdout"
        }
      ]
    },
    {
      "cell_type": "code",
      "metadata": {
        "id": "Zc_guqa9W5NA",
        "outputId": "9b6a5196-ee5b-4be0-ee92-397696050c20",
        "colab": {
          "base_uri": "https://localhost:8080/",
          "height": 85
        }
      },
      "source": [
        "#MRU\n",
        "def entrada(x) :\n",
        "    return input(x)\n",
        "\n",
        "def equacao(p_i,p_f,t) : #velocidade média\n",
        "    velocidade = (p_f - p_i)/t\n",
        "    return velocidade\n",
        "\n",
        "p_i = float(entrada('Digite a posição inicial: '))\n",
        "p_f = float(entrada('Digite a posição final: '))\n",
        "t = float(entrada('Digite o tempo transcorrido: '))\n",
        "velocidade = equacao(p_i,p_f,t) \n",
        "print('A velocidade média é', velocidade, 'm/s')"
      ],
      "execution_count": 6,
      "outputs": [
        {
          "output_type": "stream",
          "text": [
            "Digite a posição inicial: 0\n",
            "Digite a posição final: 100\n",
            "Digite o tempo transcorrido: 10\n",
            "A velocidade média é 10.0 m/s\n"
          ],
          "name": "stdout"
        }
      ]
    },
    {
      "cell_type": "code",
      "metadata": {
        "id": "jF6IMqCfchcK",
        "outputId": "ff979735-4e2d-492e-f924-24677f52f863",
        "colab": {
          "base_uri": "https://localhost:8080/",
          "height": 68
        }
      },
      "source": [
        "#MRUA\n",
        "def entrada(y) :\n",
        "    return input(y)\n",
        "\n",
        "def formula(a,T) :\n",
        "    v = a*T\n",
        "    return v\n",
        "\n",
        "a = float(entrada('Digite a aceleração: '))\n",
        "T = float(entrada('Digite o tempo transcorrido: '))\n",
        "v = formula(a,T)\n",
        "print('A velocidade é', v, 'm/s')"
      ],
      "execution_count": 7,
      "outputs": [
        {
          "output_type": "stream",
          "text": [
            "Digite a aceleração: 5\n",
            "Digite o tempo transcorrido: 20\n",
            "A velocidade é 100.0 m/s\n"
          ],
          "name": "stdout"
        }
      ]
    },
    {
      "cell_type": "markdown",
      "metadata": {
        "id": "8b5bEHGudvL-"
      },
      "source": [
        "Exercício 3: Crie uma função para calcular o ângulo zenital do sol (da semana passada) tomando como argumento as medidas da altura e o comprimento da sombra."
      ]
    },
    {
      "cell_type": "code",
      "metadata": {
        "id": "MG8pZqi1dyxV",
        "outputId": "d1b4e538-9b9f-4016-db1f-98f03860ac72",
        "colab": {
          "base_uri": "https://localhost:8080/",
          "height": 68
        }
      },
      "source": [
        "import math\n",
        "def entrada(z): \n",
        "    return input(z)\n",
        "\n",
        "def theta(h,d) : #h é a altura e d é o comprimento da sombra\n",
        "     angulo = round(math.degrees(math.atan(h/d)),2)\n",
        "     return angulo\n",
        "\n",
        "h = float(entrada('Digite a altura em metros: '))\n",
        "d = float(entrada('Digite o comprimento da sombra em metros: '))\n",
        "angulo = theta(h,d)\n",
        "print('O ângulo zenital do sol é ', angulo)"
      ],
      "execution_count": 9,
      "outputs": [
        {
          "output_type": "stream",
          "text": [
            "Digite a altura em metros: 10\n",
            "Digite o comprimento da sombra em metros: 5\n",
            "O ângulo zenital do sol é  63.43\n"
          ],
          "name": "stdout"
        }
      ]
    },
    {
      "cell_type": "markdown",
      "metadata": {
        "id": "HFKOD73AfSzA"
      },
      "source": [
        "Exercício 4: Crie uma função que faça a conversão de uma medida inicialmente em milhas para m, e outra para o inverso; uma de horas para segundos, e o inverso.  Se uma pessoa demora 30 minutos em 4 milhas, qual velocidade média em km/h? E o tempo medio por kilômetro?"
      ]
    },
    {
      "cell_type": "code",
      "metadata": {
        "id": "UHdSfxiRfcjQ",
        "outputId": "1c44e77e-934c-4171-f0fe-b2bce7e685ff",
        "colab": {
          "base_uri": "https://localhost:8080/",
          "height": 153
        }
      },
      "source": [
        "def entrada(x) :\n",
        "    return input(x)\n",
        "\n",
        "def conversao_espacial1(m) :\n",
        "    milha = 1.61*m\n",
        "    return milha\n",
        "\n",
        "def conversao_espacial2(milha) :\n",
        "    m = milha/1.61\n",
        "    return m\n",
        "\n",
        "def conversao_temporal1(t_s) :\n",
        "    t_h = 3600*t_s\n",
        "    return t_h\n",
        "\n",
        "def conversao_temporal2(t_h) :\n",
        "    t_s = t_h/3600\n",
        "    return t_s\n",
        "\n",
        "milha = float(entrada('Digite a medida em metros: ')) #Colocar o valor em metros pra converter pra milha\n",
        "m = float(entrada('Digite a medida em milhas: ')) #Colocar o valor em milhas pra converter pra metros\n",
        "t_h = float(entrada('Digite a tempo em segundos: ')) #Colocar\n",
        "t_s = float(entrada('Digite a tempo em horas: '))\n",
        "print('A medida em milhas é', conversao_espacial1(milha))\n",
        "print('A medida em metros é', conversao_espacial2(m))\n",
        "print('O tempo em horas é', conversao_temporal1(t_h))\n",
        "print('O tempo em segundos é', conversao_temporal2(t_s))"
      ],
      "execution_count": 2,
      "outputs": [
        {
          "output_type": "stream",
          "text": [
            "Digite a medida em metros: 100\n",
            "Digite a medida em milhas: 10\n",
            "Digite a tempo em segundos: 40\n",
            "Digite a tempo em horas: 2\n",
            "A medida em milhas é 161.0\n",
            "A medida em metros é 6.211180124223602\n",
            "O tempo em horas é 144000.0\n",
            "O tempo em segundos é 0.0005555555555555556\n"
          ],
          "name": "stdout"
        }
      ]
    },
    {
      "cell_type": "markdown",
      "metadata": {
        "id": "MSmFghWIkaTx"
      },
      "source": [
        "Exercício 5: Crie funções para calcular os outros exemplos das aulas anteriores: IMC, volume de uma esfera, distancia entre pontos de máximos de difração. Decida quais serão os argumentos e o valor retornado."
      ]
    },
    {
      "cell_type": "code",
      "metadata": {
        "id": "xISK0966kdnz",
        "outputId": "15db889b-0028-4aa8-ea4f-bb0fd5f5a223",
        "colab": {
          "base_uri": "https://localhost:8080/",
          "height": 68
        }
      },
      "source": [
        "#IMC\n",
        "def entrada(x) :\n",
        "    return input(x)\n",
        "\n",
        "def equacao(M,A):\n",
        "    imc = round(M/(A)**2,2)\n",
        "    return imc\n",
        "\n",
        "M = float(entrada('Digite a massa em kg: '))\n",
        "A = float(entrada('Digite a altura em metros: '))\n",
        "imc = equacao(M,A)\n",
        "print('O IMC é', imc)"
      ],
      "execution_count": 10,
      "outputs": [
        {
          "output_type": "stream",
          "text": [
            "Digite a massa em kg: 65\n",
            "Digite a altura em metros: 1.65\n",
            "O IMC é 23.88\n"
          ],
          "name": "stdout"
        }
      ]
    },
    {
      "cell_type": "code",
      "metadata": {
        "id": "r2Y0n8l6mjjo",
        "outputId": "b56b9e2e-edd6-4471-b108-5892847d2665",
        "colab": {
          "base_uri": "https://localhost:8080/",
          "height": 51
        }
      },
      "source": [
        "#Volume de uma esfera\n",
        "import math\n",
        "def entrada(x) :\n",
        "    return input(x)\n",
        "\n",
        "def equacao(r) :\n",
        "    volume = round((4*math.pi*r**3)/3,2)\n",
        "    return volume\n",
        "\n",
        "r = float(entrada('Digite aqui o raio em centímetros: '))\n",
        "volume = equacao(r)\n",
        "print('O volume da esfera é', volume)"
      ],
      "execution_count": 11,
      "outputs": [
        {
          "output_type": "stream",
          "text": [
            "Digite aqui o raio em centímetros: 5\n",
            "O volume da esfera é 523.6\n"
          ],
          "name": "stdout"
        }
      ]
    },
    {
      "cell_type": "code",
      "metadata": {
        "id": "KNw2AGFgodt5",
        "outputId": "02ddfb7d-ec62-41be-d61e-0e28e6a4ab2f",
        "colab": {
          "base_uri": "https://localhost:8080/",
          "height": 68
        }
      },
      "source": [
        "#Distância entre máximos consecutivos de difração\n",
        "def entrada(x) :\n",
        "    return input(x)\n",
        "\n",
        "def delta(D,d) :\n",
        "    c = 632.8*(10**(-9))\n",
        "    y = (c*D)/d\n",
        "    return y\n",
        "\n",
        "D = float(entrada('Digite a distância até o anteparo em metros: '))\n",
        "d = float(entrada('Digite o espaçamento entre as fendas em metros: '))\n",
        "y = delta(D,d)\n",
        "print('A distância entre dois máximos consecutivos é', y, 'metros')"
      ],
      "execution_count": 4,
      "outputs": [
        {
          "output_type": "stream",
          "text": [
            "Digite a distância até o anteparo em metros: 1.98\n",
            "Digite o espaçamento entre as fendas em metros: 0.00025\n",
            "A distância entre dois máximos consecutivos é 0.005011776 metros\n"
          ],
          "name": "stdout"
        }
      ]
    }
  ]
}