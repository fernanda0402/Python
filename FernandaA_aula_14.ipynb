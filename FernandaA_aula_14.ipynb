{
  "nbformat": 4,
  "nbformat_minor": 0,
  "metadata": {
    "colab": {
      "name": "FernandaA_aula_14.ipynb",
      "provenance": [],
      "authorship_tag": "ABX9TyOOAOsaXpn2jlCuZauUcgCl",
      "include_colab_link": true
    },
    "kernelspec": {
      "name": "python3",
      "display_name": "Python 3"
    }
  },
  "cells": [
    {
      "cell_type": "markdown",
      "metadata": {
        "id": "view-in-github",
        "colab_type": "text"
      },
      "source": [
        "<a href=\"https://colab.research.google.com/github/fernanda0402/Python/blob/master/FernandaA_aula_14.ipynb\" target=\"_parent\"><img src=\"https://colab.research.google.com/assets/colab-badge.svg\" alt=\"Open In Colab\"/></a>"
      ]
    },
    {
      "cell_type": "markdown",
      "metadata": {
        "id": "JVvF_GZXaHpM"
      },
      "source": [
        "## **Exercícios feitos em aula:**"
      ]
    },
    {
      "cell_type": "markdown",
      "metadata": {
        "id": "ovtUkHbubJVO"
      },
      "source": [
        "Exercício 1: Adicionar um método __str__ para que os objetos MeuTempo possam se imprimir decentemente."
      ]
    },
    {
      "cell_type": "code",
      "metadata": {
        "colab": {
          "base_uri": "https://localhost:8080/"
        },
        "id": "IrwzrxJvbOEG",
        "outputId": "f3991d22-b2f0-4e51-a185-58ee99805d5b"
      },
      "source": [
        "class  MeuTempo :\r\n",
        "\r\n",
        "    def  __init__ (self , hrs = 0 , mins = 0 , segs = 0): \r\n",
        "        \"\" \"Criar um objeto MeuTempo inicializado para hrs, mins, segs\" \"\" \r\n",
        "        self.horas  =  hrs \r\n",
        "        self.minutos  =  mins\r\n",
        "        self.segundos  =  segs\r\n",
        "\r\n",
        "    def __str__(self):\r\n",
        "        return str(self.horas) + \":\" + str(self.minutos) + \":\" + str(self.segundos)\r\n",
        "\r\n",
        "tempo = MeuTempo(11 , 59, 30)\r\n",
        "print(tempo)"
      ],
      "execution_count": 2,
      "outputs": [
        {
          "output_type": "stream",
          "text": [
            "11:59:30\n"
          ],
          "name": "stdout"
        }
      ]
    },
    {
      "cell_type": "markdown",
      "metadata": {
        "id": "zL2zgso8bnj4"
      },
      "source": [
        "Exercício 2: Adicione um método __sub __ (self, other) que sobrecarrega o operador de subtração e teste-o."
      ]
    },
    {
      "cell_type": "code",
      "metadata": {
        "colab": {
          "base_uri": "https://localhost:8080/"
        },
        "id": "aYuXVWKrbriD",
        "outputId": "5c07fadb-4a77-4fd8-f812-d8429a004afa"
      },
      "source": [
        "class  MeuTempo : \r\n",
        "    def  __init__ (self , hrs = 0 , mins = 0 , segs = 0 ): \r\n",
        "        \"\"\" Criar um novo objeto MeuTempo inicializado para hrs, min, segs. \r\n",
        "           Os valores de mins e segs podem estar fora do intervalo de 0-59, \r\n",
        "           mas o objecto MeuTempo resultante será normalizado.  \"\"\" \r\n",
        "        #Calcular total de segundos para representar \r\n",
        "        self.totalsegs =  hrs * 3600  +  mins * 60  +  segs \r\n",
        "        self.horas =  self.totalsegs  //  3600         # Divisão em h, m, s \r\n",
        "        restosegs =  self.totalsegs  %  3600 \r\n",
        "        self.minutos  =  restosegs  //  60 \r\n",
        "        self.segundos  =  restosegs  %  60\r\n",
        "        if self.horas >=24:\r\n",
        "            self.horas = self.horas%24\r\n",
        "\r\n",
        "    def  to_seconds ( self ): \r\n",
        "        \"\" \"Retorna o número de segundos representados por esta instância \" \"\" \r\n",
        "        return  self.totalsegs\r\n",
        "    \r\n",
        "    def  __add__ ( self ,  other ): \r\n",
        "        \"\"\" Retorna a soma do tempo atual e outro, para utilizar com o simbolo + \"\"\"\r\n",
        "        return  MeuTempo ( 0 ,  0 ,  self.to_seconds()  +  other.to_seconds())\r\n",
        "\r\n",
        "    def  __sub__ ( self ,  other ): \r\n",
        "        \"\"\" Retorna a soma do tempo atual e outro, para utilizar com o simbolo + \"\"\"\r\n",
        "        return  MeuTempo (0 , 0 , self.to_seconds() - other.to_seconds())\r\n",
        "    \r\n",
        "    def __str__(self):\r\n",
        "        \"\"\"Retorna uma representação do objeto como string, legível para humanos.\"\"\"\r\n",
        "        return '%.2d:%.2d:%.2d' % (self.horas, self.minutos, self.segundos)\r\n",
        "\r\n",
        "a=MeuTempo(1,40,30)\r\n",
        "b=MeuTempo(12,55,15)\r\n",
        "print(a,b) #os dois tempos iniciais a e b\r\n",
        "print(b - a)"
      ],
      "execution_count": 3,
      "outputs": [
        {
          "output_type": "stream",
          "text": [
            "01:40:30 12:55:15\n",
            "11:14:45\n"
          ],
          "name": "stdout"
        }
      ]
    },
    {
      "cell_type": "markdown",
      "metadata": {
        "id": "MxbABTSKbGO2"
      },
      "source": [
        "## **Exercícios para casa:**"
      ]
    },
    {
      "cell_type": "markdown",
      "metadata": {
        "id": "zdWixEOdaL6t"
      },
      "source": [
        "Exercício 1: Escreva uma função booleana chamada \"entre\" que tome dois objetos MeuTempo, t1 e t2 , como argumentos, e retorne True se um terceiro objeto MeuTempo invocado estiver entre os dois tempos. Suponha que o tempo t1 <= t2 , e faça o teste fechado no limite inferior e abra no limite superior, isto é, retorne True se t1 <= obj < t2."
      ]
    },
    {
      "cell_type": "code",
      "metadata": {
        "colab": {
          "base_uri": "https://localhost:8080/"
        },
        "id": "Rz7tJv-sdzvw",
        "outputId": "ba6b23f0-2949-475a-fc6e-f86115edfd1a"
      },
      "source": [
        "def entre(t, t1, t2):\r\n",
        "    if t.to_seconds() >= t1.to_seconds() and t.to_seconds() < t2.to_seconds():\r\n",
        "        return True\r\n",
        "    return False\r\n",
        "\r\n",
        "a = MeuTempo(1,40,30)\r\n",
        "b = MeuTempo(12,55,15)\r\n",
        "c = MeuTempo(10,45,15)\r\n",
        "d = MeuTempo(13,32,57)\r\n",
        "print(c.entre(a,b))\r\n",
        "print(d.entre(a,b))"
      ],
      "execution_count": 10,
      "outputs": [
        {
          "output_type": "stream",
          "text": [
            "True\n",
            "False\n"
          ],
          "name": "stdout"
        }
      ]
    },
    {
      "cell_type": "markdown",
      "metadata": {
        "id": "JxMKMoXodx6I"
      },
      "source": [
        "Exercício 2: Transforme a função acima em um método na classe MeuTempo."
      ]
    },
    {
      "cell_type": "code",
      "metadata": {
        "colab": {
          "base_uri": "https://localhost:8080/"
        },
        "id": "-oRMAewyaFw_",
        "outputId": "eb4b76de-24d0-4cb6-9212-29f07c75eccb"
      },
      "source": [
        "class  MeuTempo : \r\n",
        "    def  __init__ (self , hrs = 0 , mins = 0 , segs = 0 ): \r\n",
        "        \"\"\" Criar um novo objeto MeuTempo inicializado para hrs, min, segs. \r\n",
        "           Os valores de mins e segs podem estar fora do intervalo de 0-59, \r\n",
        "           mas o objecto MeuTempo resultante será normalizado.  \"\"\" \r\n",
        "        #Calcular total de segundos para representar \r\n",
        "        self.totalsegs =  hrs * 3600  +  mins * 60  +  segs \r\n",
        "        self.horas =  self.totalsegs  //  3600         # Divisão em h, m, s \r\n",
        "        restosegs =  self.totalsegs  %  3600 \r\n",
        "        self.minutos  =  restosegs  //  60 \r\n",
        "        self.segundos  =  restosegs  %  60\r\n",
        "        if self.horas >=24:\r\n",
        "            self.horas = self.horas%24\r\n",
        "\r\n",
        "    def  to_seconds ( self ): \r\n",
        "        \"\" \"Retorna o número de segundos representados por esta instância \" \"\" \r\n",
        "        return  self.totalsegs\r\n",
        "    \r\n",
        "    def  __add__ ( self ,  other ): \r\n",
        "        \"\"\" Retorna a soma do tempo atual e outro, para utilizar com o simbolo + \"\"\"\r\n",
        "        return  MeuTempo ( 0 ,  0 ,  self.to_seconds()  +  other.to_seconds())\r\n",
        "\r\n",
        "    def  __sub__ ( self ,  other ): \r\n",
        "        \"\"\" Retorna a soma do tempo atual e outro, para utilizar com o simbolo + \"\"\"\r\n",
        "        return  MeuTempo (0 , 0 , self.to_seconds() - other.to_seconds())\r\n",
        "    \r\n",
        "    def __str__(self):\r\n",
        "        \"\"\"Retorna uma representação do objeto como string, legível para humanos.\"\"\"\r\n",
        "        return '%.2d:%.2d:%.2d' % (self.horas, self.minutos, self.segundos)\r\n",
        "\r\n",
        "    def entre(t, t1, t2):\r\n",
        "        if t.to_seconds() >= t1.to_seconds() and t.to_seconds() < t2.to_seconds():\r\n",
        "          return True\r\n",
        "        return False\r\n",
        "\r\n",
        "a = MeuTempo(1,40,30)\r\n",
        "b = MeuTempo(12,55,15)\r\n",
        "c = MeuTempo(10,45,15)\r\n",
        "d = MeuTempo(13,32,57)\r\n",
        "print(c.entre(a,b))\r\n",
        "print(d.entre(a,b))"
      ],
      "execution_count": 11,
      "outputs": [
        {
          "output_type": "stream",
          "text": [
            "True\n",
            "False\n"
          ],
          "name": "stdout"
        }
      ]
    },
    {
      "cell_type": "markdown",
      "metadata": {
        "id": "D8SykV2leD41"
      },
      "source": [
        "Exercício 3: Sobrecarregue o(s) operador(es) necessário(s) --ver a lista de métodos especiais em https://docs.python.org/3/reference/datamodel.html#special-method-names -- para que, em vez de ter que escrever :\r\n",
        "\r\n",
        "if t1.depois( t2 ):  \r\n",
        "  ...\r\n",
        "\r\n",
        "possamos usar o mais conveniente:\r\n",
        "\r\n",
        "if t1  >  t2 :  \r\n",
        "  ..."
      ]
    },
    {
      "cell_type": "code",
      "metadata": {
        "colab": {
          "base_uri": "https://localhost:8080/"
        },
        "id": "EGDkWWwxeIJt",
        "outputId": "c234b7e2-69aa-427f-9b20-06e26d004dc8"
      },
      "source": [
        "class  MeuTempo : \r\n",
        "    # Métodos previamente definidos aqui ... \r\n",
        "    def  __init__ ( self ,  hrs = 0 ,  mins = 0 ,  segs = 0 ): \r\n",
        "        \"\"\" Criar um novo objeto MeuTempo inicializado para hrs, min, segs. \r\n",
        "           Os valores de mins e segs podem estar fora do intervalo de 0-59, \r\n",
        "           mas o objecto MeuTempo resultante será normalizado.  \"\"\" \r\n",
        "        # Calcular total de segundos para representar \r\n",
        "        self.totalsegs =  hrs * 3600  +  mins * 60  +  segs \r\n",
        "        self.horas =  self.totalsegs  //  3600         # Divisão em h, m, s \r\n",
        "        restosegs =  self.totalsegs  %  3600 \r\n",
        "        self.minutos  =  restosegs  //  60 \r\n",
        "        self.segundos  =  restosegs  %  60\r\n",
        "        if self.horas >=24:\r\n",
        "            self.horas = self.horas%24\r\n",
        "    \r\n",
        "    def  to_seconds ( self ): \r\n",
        "        \"\" \"Retorna o número de segundos representados por esta instância \" \"\" \r\n",
        "        return  self.totalsegs\r\n",
        "\r\n",
        "    def __gt__(self, other):\r\n",
        "        if self.to_seconds() > other.to_seconds():\r\n",
        "            return True\r\n",
        "        return False\r\n",
        "    \r\n",
        "    def __str__(self):\r\n",
        "        return str(self.horas) + \":\" + str(self.minutos) + \":\" + str(self.segundos)\r\n",
        "\r\n",
        "a = MeuTempo(1,40,30)\r\n",
        "b = MeuTempo(12,55,15)\r\n",
        "\r\n",
        "print(b > a)\r\n",
        "print(a > b)"
      ],
      "execution_count": 15,
      "outputs": [
        {
          "output_type": "stream",
          "text": [
            "True\n",
            "False\n"
          ],
          "name": "stdout"
        }
      ]
    },
    {
      "cell_type": "markdown",
      "metadata": {
        "id": "PzQAJqpXfZM3"
      },
      "source": [
        "Exercício 4: Defina um novo tipo de tartaruga, TurtleGTX, que venha com alguns recursos extras: ela pode saltar para uma determinada distância, e tem um odômetro que rastreia até onde a tartaruga viajou desde que saiu da linha de produção. (A classe base tem vários sinônimos como fd e forward ; back , backward e bk : para este exercício, concentre-se apenas em colocar essa funcionalidade no método forward.) Pense cuidadosamente sobre como contar a distância se a tartaruga for solicitada a avançar por um valor negativo. (Não gostaríamos de comprar uma tartaruga de segunda mão cuja leitura do odômetro foi falsificada porque seu proprietário anterior a levou para trás ao redor do quarteirão com muita frequência. Tente isso em um carro perto de você e veja se o odômetro do carro conta para cima ou para baixo quando você marcha ré.)"
      ]
    },
    {
      "cell_type": "code",
      "metadata": {
        "id": "gqlwkgB4fbGQ"
      },
      "source": [
        "!pip3 install ColabTurtle\r\n",
        "import ColabTurtle"
      ],
      "execution_count": null,
      "outputs": []
    },
    {
      "cell_type": "code",
      "metadata": {
        "id": "HHVPtWjUfiW7"
      },
      "source": [
        ""
      ],
      "execution_count": null,
      "outputs": []
    },
    {
      "cell_type": "markdown",
      "metadata": {
        "id": "Lt3nC4B2fbQg"
      },
      "source": [
        "Exercício 5: Depois de percorrer uma distância aleatória, sua tartaruga deve quebrar com um pneu furado. Depois disso, aumente uma exceção sempre que forward for chamado. Também forneça um método trocar_pneu que possa consertar o pneu furado e eliminar a exceção para a tartaruga continuar seu percorso."
      ]
    }
  ]
}