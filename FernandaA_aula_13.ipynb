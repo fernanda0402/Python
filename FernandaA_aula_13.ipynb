{
  "nbformat": 4,
  "nbformat_minor": 0,
  "metadata": {
    "colab": {
      "name": "FernandaA_aula_13.ipynb",
      "provenance": [],
      "authorship_tag": "ABX9TyN48V5IoaAnGtxa8fQeJxNI",
      "include_colab_link": true
    },
    "kernelspec": {
      "name": "python3",
      "display_name": "Python 3"
    }
  },
  "cells": [
    {
      "cell_type": "markdown",
      "metadata": {
        "id": "view-in-github",
        "colab_type": "text"
      },
      "source": [
        "<a href=\"https://colab.research.google.com/github/fernanda0402/Python/blob/master/FernandaA_aula_13.ipynb\" target=\"_parent\"><img src=\"https://colab.research.google.com/assets/colab-badge.svg\" alt=\"Open In Colab\"/></a>"
      ]
    },
    {
      "cell_type": "markdown",
      "metadata": {
        "id": "XC6J_1e7tutC"
      },
      "source": [
        "Exercício 5: Usando a classe Ponto criada na última aula escreva uma classe Retangulo. A definição da classe Retangulo é: Dica: use o método criado no exercício (1)."
      ]
    },
    {
      "cell_type": "code",
      "metadata": {
        "id": "GUYbTKMdwmnC"
      },
      "source": [
        "class Ponto:\n",
        "    \"\"\" Cria um novo Ponto, com coordenadas x, y \"\"\"\n",
        "\n",
        "    def __init__(self, x=0, y=0):\n",
        "        \"\"\" Inicializa em x, y o novo ponto criado pela classe \"\"\"\n",
        "        self.x = x\n",
        "        self.y = y\n",
        "\n",
        "    def __str__(self):\n",
        "        return \"({0}, {1})\".format(self.x, self.y)"
      ],
      "execution_count": 12,
      "outputs": []
    },
    {
      "cell_type": "code",
      "metadata": {
        "id": "oB-xch2Tt0uc"
      },
      "source": [
        "class Rectangle:\n",
        "    \"\"\"Representa um retângulo. \n",
        "\n",
        "    atributos: \n",
        "    - largura, do tipo float\n",
        "    - altura, do tipo float \n",
        "    - canto, do tipo Ponto.\n",
        "    \"\"\"\n",
        "    def __init__(self,l = 0,a = 0, ponto = Ponto(0,0)):\n",
        "        self.l = l\n",
        "        self.a = a\n",
        "        self.c = ponto\n",
        "\n",
        "    def __str__(self):\n",
        "        return  \"({0}, {1}, {2})\".format(self.l, self.a, self.c)"
      ],
      "execution_count": 2,
      "outputs": []
    },
    {
      "cell_type": "code",
      "metadata": {
        "colab": {
          "base_uri": "https://localhost:8080/"
        },
        "id": "TGZ-62zuuRY7",
        "outputId": "18609373-5397-4e64-d01a-70dea55509c1"
      },
      "source": [
        "p = Rectangle(5,2,Ponto(1,3))\n",
        "print(p)"
      ],
      "execution_count": 3,
      "outputs": [
        {
          "output_type": "stream",
          "text": [
            "(5, 2, (1, 3))\n"
          ],
          "name": "stdout"
        }
      ]
    },
    {
      "cell_type": "markdown",
      "metadata": {
        "id": "dAUZX1wtx1VU"
      },
      "source": [
        "Exercício 6: Escreva uma definição para uma classe chamada Circulo com atributos centro e raio, em que centro é um objeto do tipo Ponto e raio é um número.\n",
        "\n",
        "\n",
        "*   Instancie um objeto Circulo que represente um círculo com seu centro em (150, 100) e raio 75 e imprima na tela as coordenadas (x,y) do centro do círculo.\n",
        "*   Escreva uma função chamada ponto_no_circulo que use um Circulo e um Ponto e retorne True se o Ponto estiver dentro do círculo ou no limite do mesmo.\n"
      ]
    },
    {
      "cell_type": "code",
      "metadata": {
        "id": "3zzKKVHfx_xB"
      },
      "source": [
        "class Circulo:\n",
        "    \"\"\"Representa um círculo. \n",
        "\n",
        "    atributos: \n",
        "    - centro, do tipo Ponto\n",
        "    - raio, do tipo float \n",
        "    \"\"\"\n",
        "\n",
        "    def __init__(self, r = 0, ponto = Ponto(0,0)):\n",
        "        self.r = r\n",
        "        self.centro = ponto\n",
        "\n",
        "    def ponto_no_circulo(self,alvo):\n",
        "        d = (((self.centro.x) - (alvo.x))**2 + ((self.centro.y) - (alvo.y))**2) ** 0.5\n",
        "        if d <= self.r:\n",
        "            return True\n",
        "        else:\n",
        "            return False\n",
        "\n",
        "    def __str__(self):\n",
        "        return \"({0}, {1})\".format(self.r, self.centro)"
      ],
      "execution_count": 4,
      "outputs": []
    },
    {
      "cell_type": "code",
      "metadata": {
        "colab": {
          "base_uri": "https://localhost:8080/"
        },
        "id": "hrSo9XUgzB4d",
        "outputId": "6794834e-59e4-43b7-f2c2-10e33c86ae6a"
      },
      "source": [
        "p = Ponto(150,100)\n",
        "circulo = Circulo(75, p)\n",
        "print('As coordenadas (x,y) do centro do círculo são: ', p)\n",
        "print('O ponto', p, 'está contido no círculo', circulo, '?', circulo.ponto_no_circulo(p))"
      ],
      "execution_count": 5,
      "outputs": [
        {
          "output_type": "stream",
          "text": [
            "As coordenadas (x,y) do centro do círculo são:  (150, 100)\n",
            "O ponto (150, 100) está contido no círculo (75, (150, 100)) ? True\n"
          ],
          "name": "stdout"
        }
      ]
    },
    {
      "cell_type": "markdown",
      "metadata": {
        "id": "-EXTelr-3nKr"
      },
      "source": [
        "Exercício 7: Escreva uma função chamada desenhar_ret que use um objeto Turtle e um Retangulo e use o Turtle para desenhar o retângulo."
      ]
    },
    {
      "cell_type": "code",
      "metadata": {
        "id": "oGyv1wFZ31ML"
      },
      "source": [
        "!pip3 install ColabTurtle\n",
        "from ColabTurtle import Turtle as joanne\n",
        "joanne.initializeTurtle() \n",
        "joanne.color('red')\n",
        "joanne.bgcolor('white')"
      ],
      "execution_count": null,
      "outputs": []
    },
    {
      "cell_type": "code",
      "metadata": {
        "id": "SzVz4jSyzh0Y"
      },
      "source": [
        "class Rectangle:\n",
        "    \"\"\"Representa um retangulo. \n",
        "\n",
        "    atributos: \n",
        "    - largura, do tipo float\n",
        "    - altura, do tipo float \n",
        "    - canto, do tipo Ponto.\n",
        "    \"\"\"\n",
        "\n",
        "    def __init__(self, ponto = Ponto(20,20), l=0, a=0):\n",
        "        \"\"\" Inicializa o novo retângulo no ponto \"\"\"\n",
        "        self.c = ponto\n",
        "        self.l = l\n",
        "        self.a = a\n",
        "        \n",
        "    def desenhar_ret(self):\n",
        "        joanne.penup()\n",
        "        joanne.goto(self.c.x, self.c.y)\n",
        "        joanne.pendown()\n",
        "        joanne.left(180)\n",
        "        for i in range(4):\n",
        "            if i%2:\n",
        "                joanne.forward(self.l)\n",
        "            else:\n",
        "                joanne.forward(self.a)\n",
        "            joanne.left(90)\n",
        "\n",
        "    def __str__(self):\n",
        "        return \"(({0}, {1}), {2}, {3})\".format(self.c.x, self.c.y, self.l, self.a)"
      ],
      "execution_count": 28,
      "outputs": []
    },
    {
      "cell_type": "code",
      "metadata": {
        "id": "Gf_FkkMr0KGP"
      },
      "source": [
        "Rectangle(Ponto(5,8), 500, 300).desenhar_ret()"
      ],
      "execution_count": null,
      "outputs": []
    },
    {
      "cell_type": "markdown",
      "metadata": {
        "id": "lRqPGR-k8KKY"
      },
      "source": [
        "Exercício 8: Escreva uma função chamada desenhar_circulo que use uma Turtle e um Circulo e desenhe o Circulo."
      ]
    },
    {
      "cell_type": "code",
      "metadata": {
        "id": "Sc9WMfgl8Mle"
      },
      "source": [
        "import numpy as np"
      ],
      "execution_count": 20,
      "outputs": []
    },
    {
      "cell_type": "code",
      "metadata": {
        "id": "bRKShWii0mnA"
      },
      "source": [
        "class Circle:\n",
        "    \"\"\"Representa um círculo. \n",
        "\n",
        "    atributos: \n",
        "    - centro, do tipo Ponto\n",
        "    - raio, do tipo float\n",
        "    \"\"\"\n",
        "\n",
        "    def __init__(self, c, r=0):\n",
        "        \"\"\" Inicializa o novo círculo no ponto \"\"\"\n",
        "        self.c = c\n",
        "        self.r = r\n",
        "\n",
        "    def desenhar_circulo(self):\n",
        "        joanne.penup()\n",
        "        joanne.goto(self.c.x, self.c.y)\n",
        "        joanne.forward(self.r)\n",
        "        joanne.left(90)\n",
        "        joanne.pendown()\n",
        "\n",
        "        circunferencia = 2*np.pi*self.r\n",
        "        n = 50\n",
        "        comprimento = int(circunferencia/n)\n",
        "        angulo = 360/n\n",
        "        for i in range(n):\n",
        "            joanne.forward(comprimento)\n",
        "            joanne.left(angulo)\n",
        "\n",
        "    def __str__(self):\n",
        "        return \"(({0}, {1}), {2})\".format(self.c.x, self.c.y, self.r)"
      ],
      "execution_count": 23,
      "outputs": []
    },
    {
      "cell_type": "code",
      "metadata": {
        "id": "YmrvCPDz2Ahy"
      },
      "source": [
        "Circle(Ponto(250,200), 100).desenhar_circulo()"
      ],
      "execution_count": null,
      "outputs": []
    }
  ]
}