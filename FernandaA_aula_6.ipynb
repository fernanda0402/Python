{
  "nbformat": 4,
  "nbformat_minor": 0,
  "metadata": {
    "colab": {
      "name": "FernandaA_aula_6.ipynb",
      "provenance": [],
      "authorship_tag": "ABX9TyN3EqKcIaii8FrrvuO6UXNy",
      "include_colab_link": true
    },
    "kernelspec": {
      "name": "python3",
      "display_name": "Python 3"
    }
  },
  "cells": [
    {
      "cell_type": "markdown",
      "metadata": {
        "id": "view-in-github",
        "colab_type": "text"
      },
      "source": [
        "<a href=\"https://colab.research.google.com/github/fernanda0402/Python/blob/master/FernandaA_aula_6.ipynb\" target=\"_parent\"><img src=\"https://colab.research.google.com/assets/colab-badge.svg\" alt=\"Open In Colab\"/></a>"
      ]
    },
    {
      "cell_type": "markdown",
      "metadata": {
        "id": "fHY1eM4UGTpL"
      },
      "source": [
        "Exercício 1: Considere o seguinte script abaixo."
      ]
    },
    {
      "cell_type": "code",
      "metadata": {
        "id": "jUTfwQ5WGZVE"
      },
      "source": [
        "!pip3 install ColabTurtle"
      ],
      "execution_count": null,
      "outputs": []
    },
    {
      "cell_type": "code",
      "metadata": {
        "id": "oQxGLsZCGd-1",
        "outputId": "99c1ae07-156b-4d23-cd5a-ba1edab8c60e",
        "colab": {
          "base_uri": "https://localhost:8080/",
          "height": 521
        }
      },
      "source": [
        "import ColabTurtle.Turtle as tess\n",
        "\n",
        "def draw_bar(t, height):\n",
        "    \"\"\" Get turtle t to draw one bar, of height. \"\"\"\n",
        "    t.forward(height)\n",
        "    t.right(90)\n",
        "    t.forward(40)\n",
        "    t.right(90)\n",
        "    t.forward(height)\n",
        "    t.left(90)\n",
        "    t.forward(10)\n",
        "    t.left(90)\n",
        "\n",
        "tess.initializeTurtle()   # inicialização\n",
        "\n",
        "tess.color(\"blue\")\n",
        "tess.bgcolor(\"white\")\n",
        "tess.penup() #levantar a caneta\n",
        "tess.goto(10,450) #mudar posicao de inicio \n",
        "tess.pendown() #abaixar a caneta\n",
        "\n",
        "xs = [48,117,200,240,160,260,220]\n",
        "\n",
        "for a in xs:\n",
        "    draw_bar(tess, a)"
      ],
      "execution_count": null,
      "outputs": [
        {
          "output_type": "display_data",
          "data": {
            "text/html": [
              "\n",
              "      <svg width=\"800\" height=\"500\">\n",
              "        <rect width=\"100%\" height=\"100%\" fill=\"white\"/>\n",
              "        <line x1=\"10\" y1=\"450\" x2=\"9.999999999999991\" y2=\"402.0\" stroke-linecap=\"round\" style=\"stroke:blue;stroke-width:4\"/><line x1=\"9.999999999999991\" y1=\"402.0\" x2=\"49.99999999999999\" y2=\"402.0\" stroke-linecap=\"round\" style=\"stroke:blue;stroke-width:4\"/><line x1=\"49.99999999999999\" y1=\"402.0\" x2=\"49.99999999999999\" y2=\"450.0\" stroke-linecap=\"round\" style=\"stroke:blue;stroke-width:4\"/><line x1=\"49.99999999999999\" y1=\"450.0\" x2=\"59.99999999999999\" y2=\"450.0\" stroke-linecap=\"round\" style=\"stroke:blue;stroke-width:4\"/><line x1=\"59.99999999999999\" y1=\"450.0\" x2=\"59.99999999999997\" y2=\"333.0\" stroke-linecap=\"round\" style=\"stroke:blue;stroke-width:4\"/><line x1=\"59.99999999999997\" y1=\"333.0\" x2=\"99.99999999999997\" y2=\"333.0\" stroke-linecap=\"round\" style=\"stroke:blue;stroke-width:4\"/><line x1=\"99.99999999999997\" y1=\"333.0\" x2=\"99.99999999999999\" y2=\"450.0\" stroke-linecap=\"round\" style=\"stroke:blue;stroke-width:4\"/><line x1=\"99.99999999999999\" y1=\"450.0\" x2=\"109.99999999999999\" y2=\"450.0\" stroke-linecap=\"round\" style=\"stroke:blue;stroke-width:4\"/><line x1=\"109.99999999999999\" y1=\"450.0\" x2=\"109.99999999999994\" y2=\"250.0\" stroke-linecap=\"round\" style=\"stroke:blue;stroke-width:4\"/><line x1=\"109.99999999999994\" y1=\"250.0\" x2=\"149.99999999999994\" y2=\"250.0\" stroke-linecap=\"round\" style=\"stroke:blue;stroke-width:4\"/><line x1=\"149.99999999999994\" y1=\"250.0\" x2=\"149.99999999999994\" y2=\"450.0\" stroke-linecap=\"round\" style=\"stroke:blue;stroke-width:4\"/><line x1=\"149.99999999999994\" y1=\"450.0\" x2=\"159.99999999999994\" y2=\"450.0\" stroke-linecap=\"round\" style=\"stroke:blue;stroke-width:4\"/><line x1=\"159.99999999999994\" y1=\"450.0\" x2=\"159.9999999999999\" y2=\"210.0\" stroke-linecap=\"round\" style=\"stroke:blue;stroke-width:4\"/><line x1=\"159.9999999999999\" y1=\"210.0\" x2=\"199.9999999999999\" y2=\"210.0\" stroke-linecap=\"round\" style=\"stroke:blue;stroke-width:4\"/><line x1=\"199.9999999999999\" y1=\"210.0\" x2=\"199.99999999999991\" y2=\"450.0\" stroke-linecap=\"round\" style=\"stroke:blue;stroke-width:4\"/><line x1=\"199.99999999999991\" y1=\"450.0\" x2=\"209.99999999999991\" y2=\"450.0\" stroke-linecap=\"round\" style=\"stroke:blue;stroke-width:4\"/><line x1=\"209.99999999999991\" y1=\"450.0\" x2=\"209.9999999999999\" y2=\"290.0\" stroke-linecap=\"round\" style=\"stroke:blue;stroke-width:4\"/><line x1=\"209.9999999999999\" y1=\"290.0\" x2=\"249.9999999999999\" y2=\"290.0\" stroke-linecap=\"round\" style=\"stroke:blue;stroke-width:4\"/><line x1=\"249.9999999999999\" y1=\"290.0\" x2=\"249.9999999999999\" y2=\"450.0\" stroke-linecap=\"round\" style=\"stroke:blue;stroke-width:4\"/><line x1=\"249.9999999999999\" y1=\"450.0\" x2=\"259.9999999999999\" y2=\"450.0\" stroke-linecap=\"round\" style=\"stroke:blue;stroke-width:4\"/><line x1=\"259.9999999999999\" y1=\"450.0\" x2=\"259.99999999999983\" y2=\"190.0\" stroke-linecap=\"round\" style=\"stroke:blue;stroke-width:4\"/><line x1=\"259.99999999999983\" y1=\"190.0\" x2=\"299.99999999999983\" y2=\"190.0\" stroke-linecap=\"round\" style=\"stroke:blue;stroke-width:4\"/><line x1=\"299.99999999999983\" y1=\"190.0\" x2=\"299.99999999999983\" y2=\"450.0\" stroke-linecap=\"round\" style=\"stroke:blue;stroke-width:4\"/><line x1=\"299.99999999999983\" y1=\"450.0\" x2=\"309.99999999999983\" y2=\"450.0\" stroke-linecap=\"round\" style=\"stroke:blue;stroke-width:4\"/><line x1=\"309.99999999999983\" y1=\"450.0\" x2=\"309.9999999999998\" y2=\"230.0\" stroke-linecap=\"round\" style=\"stroke:blue;stroke-width:4\"/><line x1=\"309.9999999999998\" y1=\"230.0\" x2=\"349.9999999999998\" y2=\"230.0\" stroke-linecap=\"round\" style=\"stroke:blue;stroke-width:4\"/><line x1=\"349.9999999999998\" y1=\"230.0\" x2=\"349.9999999999998\" y2=\"450.0\" stroke-linecap=\"round\" style=\"stroke:blue;stroke-width:4\"/><line x1=\"349.9999999999998\" y1=\"450.0\" x2=\"359.9999999999998\" y2=\"450.0\" stroke-linecap=\"round\" style=\"stroke:blue;stroke-width:4\"/>\n",
              "        \n",
              "      <g visibility=visible transform=\"rotate(180,359.9999999999998,450.0) translate(359.9999999999998, 450.0)\">\n",
              "        <circle stroke=\"blue\" stroke-width=\"3\" fill=\"transparent\" r=\"12\" cx=\"0\" cy=\"0\"/>\n",
              "        <polygon points=\"0,19 3,16 -3,16\" style=\"fill:blue;stroke:blue;stroke-width:2\"/>\n",
              "      </g>\n",
              "    \n",
              "      </svg>\n",
              "    "
            ],
            "text/plain": [
              "<IPython.core.display.HTML object>"
            ]
          },
          "metadata": {
            "tags": []
          }
        }
      ]
    },
    {
      "cell_type": "markdown",
      "metadata": {
        "id": "WYMkTTvXHD14"
      },
      "source": [
        "Modifique-o para que o resultado seja um histograma, como o mostrado na figura abaixo. Amplie seu script para que seja possível passar ao programa dados (frequência), com o valor do bin (classe de frequência) e cores determinados pelo usuário.\n",
        "\n",
        "Adicione declarações condicionais à função para casos passíveis de gerar erros, como por exemplo, se alguma variável do argumento da função não for definida.\n",
        "\n",
        "Exemplo: amplie sua função para tomar como argumento uma lista que contenha as frequências do histograma e verifique que o argumento realmente é uma lista. Caso não seja, imprima uma mensagem de erro."
      ]
    },
    {
      "cell_type": "code",
      "metadata": {
        "id": "8JA1z8p5HIrf",
        "outputId": "165aba29-e592-49c9-f1e7-794d74ccdec0",
        "colab": {
          "base_uri": "https://localhost:8080/",
          "height": 521
        }
      },
      "source": [
        "import ColabTurtle.Turtle as tess\n",
        "\n",
        "def draw_bar(t, height, width, color):\n",
        "    t.color(color)\n",
        "    t.forward(height)\n",
        "    t.right(90)\n",
        "    t.forward(width)\n",
        "    t.right(90)\n",
        "    t.forward(height)\n",
        "    t.left(90)\n",
        "    t.forward(10)\n",
        "    t.left(90)\n",
        "\n",
        "tess.initializeTurtle() \n",
        "tess.speed(10)\n",
        "tess.color(\"blue\")\n",
        "tess.bgcolor(\"white\")\n",
        "\n",
        "def histograma(turtle, xcont, xbins, color = \"blue\"):\n",
        "    tess.penup()\n",
        "    tess.goto(50,450)\n",
        "    tess.pendown()\n",
        "\n",
        "    if (len(xcont) != len(xbins)-1):\n",
        "        print(\"ERROR: number of bins and bins contents does not match.\")\n",
        "        return\n",
        "\n",
        "    for i in range(1, len(xbins)):\n",
        "        if (xbins[i] < xbins[i-1]):\n",
        "            print(\"ERROR: bins must be in order.\")\n",
        "            return\n",
        "        if (xbins[i] == xbins[i-1]):\n",
        "            print(\"ERROR: bins should not have 0 size.\")\n",
        "            return\n",
        "\n",
        "    for i in range(len(xcont)):\n",
        "        draw_bar(turtle, xcont[i], xbins[i+1] - xbins[i], color)\n",
        "\n",
        "xcont = [50,100,150,200,250,300]\n",
        "xbins = [10,50,100,150,200,250,300]\n",
        "\n",
        "histograma(tess, xcont, xbins, \"blue\")"
      ],
      "execution_count": null,
      "outputs": [
        {
          "output_type": "display_data",
          "data": {
            "text/html": [
              "\n",
              "      <svg width=\"800\" height=\"500\">\n",
              "        <rect width=\"100%\" height=\"100%\" fill=\"white\"/>\n",
              "        <line x1=\"50\" y1=\"450\" x2=\"49.99999999999999\" y2=\"400.0\" stroke-linecap=\"round\" style=\"stroke:blue;stroke-width:4\"/><line x1=\"49.99999999999999\" y1=\"400.0\" x2=\"90.0\" y2=\"400.0\" stroke-linecap=\"round\" style=\"stroke:blue;stroke-width:4\"/><line x1=\"90.0\" y1=\"400.0\" x2=\"90.0\" y2=\"450.0\" stroke-linecap=\"round\" style=\"stroke:blue;stroke-width:4\"/><line x1=\"90.0\" y1=\"450.0\" x2=\"100.0\" y2=\"450.0\" stroke-linecap=\"round\" style=\"stroke:blue;stroke-width:4\"/><line x1=\"100.0\" y1=\"450.0\" x2=\"99.99999999999999\" y2=\"350.0\" stroke-linecap=\"round\" style=\"stroke:blue;stroke-width:4\"/><line x1=\"99.99999999999999\" y1=\"350.0\" x2=\"150.0\" y2=\"350.0\" stroke-linecap=\"round\" style=\"stroke:blue;stroke-width:4\"/><line x1=\"150.0\" y1=\"350.0\" x2=\"150.0\" y2=\"450.0\" stroke-linecap=\"round\" style=\"stroke:blue;stroke-width:4\"/><line x1=\"150.0\" y1=\"450.0\" x2=\"160.0\" y2=\"450.0\" stroke-linecap=\"round\" style=\"stroke:blue;stroke-width:4\"/><line x1=\"160.0\" y1=\"450.0\" x2=\"159.99999999999997\" y2=\"300.0\" stroke-linecap=\"round\" style=\"stroke:blue;stroke-width:4\"/><line x1=\"159.99999999999997\" y1=\"300.0\" x2=\"209.99999999999997\" y2=\"300.0\" stroke-linecap=\"round\" style=\"stroke:blue;stroke-width:4\"/><line x1=\"209.99999999999997\" y1=\"300.0\" x2=\"209.99999999999997\" y2=\"450.0\" stroke-linecap=\"round\" style=\"stroke:blue;stroke-width:4\"/><line x1=\"209.99999999999997\" y1=\"450.0\" x2=\"219.99999999999997\" y2=\"450.0\" stroke-linecap=\"round\" style=\"stroke:blue;stroke-width:4\"/><line x1=\"219.99999999999997\" y1=\"450.0\" x2=\"219.99999999999994\" y2=\"250.0\" stroke-linecap=\"round\" style=\"stroke:blue;stroke-width:4\"/><line x1=\"219.99999999999994\" y1=\"250.0\" x2=\"269.99999999999994\" y2=\"250.0\" stroke-linecap=\"round\" style=\"stroke:blue;stroke-width:4\"/><line x1=\"269.99999999999994\" y1=\"250.0\" x2=\"269.99999999999994\" y2=\"450.0\" stroke-linecap=\"round\" style=\"stroke:blue;stroke-width:4\"/><line x1=\"269.99999999999994\" y1=\"450.0\" x2=\"279.99999999999994\" y2=\"450.0\" stroke-linecap=\"round\" style=\"stroke:blue;stroke-width:4\"/><line x1=\"279.99999999999994\" y1=\"450.0\" x2=\"279.9999999999999\" y2=\"200.0\" stroke-linecap=\"round\" style=\"stroke:blue;stroke-width:4\"/><line x1=\"279.9999999999999\" y1=\"200.0\" x2=\"329.9999999999999\" y2=\"200.0\" stroke-linecap=\"round\" style=\"stroke:blue;stroke-width:4\"/><line x1=\"329.9999999999999\" y1=\"200.0\" x2=\"329.9999999999999\" y2=\"450.0\" stroke-linecap=\"round\" style=\"stroke:blue;stroke-width:4\"/><line x1=\"329.9999999999999\" y1=\"450.0\" x2=\"339.9999999999999\" y2=\"450.0\" stroke-linecap=\"round\" style=\"stroke:blue;stroke-width:4\"/><line x1=\"339.9999999999999\" y1=\"450.0\" x2=\"339.99999999999983\" y2=\"150.0\" stroke-linecap=\"round\" style=\"stroke:blue;stroke-width:4\"/><line x1=\"339.99999999999983\" y1=\"150.0\" x2=\"389.99999999999983\" y2=\"150.0\" stroke-linecap=\"round\" style=\"stroke:blue;stroke-width:4\"/><line x1=\"389.99999999999983\" y1=\"150.0\" x2=\"389.99999999999983\" y2=\"450.0\" stroke-linecap=\"round\" style=\"stroke:blue;stroke-width:4\"/><line x1=\"389.99999999999983\" y1=\"450.0\" x2=\"399.99999999999983\" y2=\"450.0\" stroke-linecap=\"round\" style=\"stroke:blue;stroke-width:4\"/>\n",
              "        \n",
              "      <g visibility=visible transform=\"rotate(180,399.99999999999983,450.0) translate(399.99999999999983, 450.0)\">\n",
              "        <circle stroke=\"blue\" stroke-width=\"3\" fill=\"transparent\" r=\"12\" cx=\"0\" cy=\"0\"/>\n",
              "        <polygon points=\"0,19 3,16 -3,16\" style=\"fill:blue;stroke:blue;stroke-width:2\"/>\n",
              "      </g>\n",
              "    \n",
              "      </svg>\n",
              "    "
            ],
            "text/plain": [
              "<IPython.core.display.HTML object>"
            ]
          },
          "metadata": {
            "tags": []
          }
        }
      ]
    },
    {
      "cell_type": "markdown",
      "metadata": {
        "id": "ycs_3ZYluzHt"
      },
      "source": [
        "Exercício 2:  Repita o exercício (1) usando Manipulação de exceção em Python (pesquisem!!!!), com as cláusulas try e except. "
      ]
    },
    {
      "cell_type": "code",
      "metadata": {
        "id": "013MUBzYu8bh"
      },
      "source": [
        "import ColabTurtle.Turtle as tess\n",
        "\n",
        "def draw_bar(t, height, width, color):\n",
        "    t.color(color)\n",
        "    t.forward(height)\n",
        "    t.right(90)\n",
        "    t.forward(width)\n",
        "    t.right(90)\n",
        "    t.forward(height)\n",
        "    t.left(90)\n",
        "    t.forward(10)\n",
        "    t.left(90)\n",
        "\n",
        "tess.initializeTurtle()   # inicialização\n",
        "tess.speed(10)\n",
        "tess.bgcolor(\"white\")\n",
        "\n",
        "def create_hist(turtle, xcont, xbins, color):\n",
        "    tess.penup()\n",
        "    tess.goto(10,450)\n",
        "    tess.pendown()\n",
        "\n",
        "    if (len(xcont) != len(xbins)-1):\n",
        "        print(\"ERROR: number of bins and bins contents does not match.\")\n",
        "        return\n",
        "\n",
        "    for i in range(1, len(xbins)):\n",
        "        if (xbins[i] < xbins[i-1]):\n",
        "            print(\"ERROR: bins must be in order.\")\n",
        "            return\n",
        "        if (xbins[i] == xbins[i-1]):\n",
        "            print(\"ERROR: bins should not have 0 size.\")\n",
        "            return\n",
        "\n",
        "    for i in range(len(xcont)):\n",
        "        draw_bar(turtle, xcont[i], xbins[i+1] - xbins[i], color)\n",
        "\n",
        "xcont = [50,100,150,200,250,300]\n",
        "xbins = [10,50,100,150,200,250,300]\n",
        "\n",
        "create_hist(tess, xcont, xbins, \"black\")"
      ],
      "execution_count": null,
      "outputs": []
    }
  ]
}