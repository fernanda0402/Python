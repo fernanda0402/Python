{
  "nbformat": 4,
  "nbformat_minor": 0,
  "metadata": {
    "colab": {
      "name": "FernandaA_aula_11.ipynb",
      "provenance": [],
      "authorship_tag": "ABX9TyO5K6cBRQu/YfgVsTMWPKUZ",
      "include_colab_link": true
    },
    "kernelspec": {
      "name": "python3",
      "display_name": "Python 3"
    }
  },
  "cells": [
    {
      "cell_type": "markdown",
      "metadata": {
        "id": "view-in-github",
        "colab_type": "text"
      },
      "source": [
        "<a href=\"https://colab.research.google.com/github/fernanda0402/Python/blob/master/FernandaA_aula_11.ipynb\" target=\"_parent\"><img src=\"https://colab.research.google.com/assets/colab-badge.svg\" alt=\"Open In Colab\"/></a>"
      ]
    },
    {
      "cell_type": "markdown",
      "metadata": {
        "id": "u2-LTc8RPHWC"
      },
      "source": [
        "# **Exercícios:**"
      ]
    },
    {
      "cell_type": "markdown",
      "metadata": {
        "id": "9xlW61VGPNDE"
      },
      "source": [
        "Exercício 1: Utilizando dicionários e o método get, contrua a seguinte matriz em python e acesse os valores de índices (0,3), (2,1), (4,3) e (2,2)."
      ]
    },
    {
      "cell_type": "code",
      "metadata": {
        "id": "XYIFnSJjPQNl",
        "outputId": "786b0c55-8646-4c7f-a6c4-4f2cad23e6ad",
        "colab": {
          "base_uri": "https://localhost:8080/"
        }
      },
      "source": [
        "matriz = {(0,0): 0, (0,1): 0, (0,2): 0, (0,3): 1, (0,4): 0, (1,0): 0, (1,1): 0, (1,2): 0, (1,3): 0, (1,4): 0, (2,0): 0, (2,1): 2, (2,2): 0, (2,3): 1, (2,4): 0, (3,0): 0, (3,1): 0, (3,2): 0, (3,0): 1, (3,4): 0, (4,0): 0, (4,1): 0, (4,2): 0, (4,3): 3, (4,4): 0}\n",
        "print(matriz.get((0,3)))\n",
        "print(matriz.get((2,1)))\n",
        "print(matriz.get((4,3)))\n",
        "print(matriz.get((2,2)))"
      ],
      "execution_count": 17,
      "outputs": [
        {
          "output_type": "stream",
          "text": [
            "1\n",
            "2\n",
            "3\n",
            "0\n"
          ],
          "name": "stdout"
        }
      ]
    },
    {
      "cell_type": "markdown",
      "metadata": {
        "id": "AGB5AthpQylp"
      },
      "source": [
        "\n",
        "Exercício 2: Contagem de Letras.\n",
        "\n",
        "a) Utilizando dicionários, escreva uma função que tome como argumento uma palavra (string) e retorne um dicionário que tem como key a letra da palavra e como valor o número de vezes que ela aparece na palavra. Tal dicionário é chamado de tabela de frequência. Dica: Utilize o método get dos dicionários.\n",
        "\n",
        "b) Utilizando os métodos sort() (referente a listas) e items() (referente a dicionários), imprima na tela uma lista ordenada alfabeticamente da tabela de frequência obtida no item a)."
      ]
    },
    {
      "cell_type": "code",
      "metadata": {
        "id": "Gvu2HWSnRHZf",
        "outputId": "89ab0452-93b1-4c1d-f074-455bd98f5365",
        "colab": {
          "base_uri": "https://localhost:8080/"
        }
      },
      "source": [
        "def tabela_de_frequencia(palavra):\n",
        "\t  count_letras = {}\n",
        "\t  for i in palavra:\n",
        "\t\t  count_letras[i] = count_letras.get(i, 0) + 1\n",
        "\t  return count_letras\n",
        "\n",
        "palavra = input('Qual a palavra que você deseja imprimir uma tabela de frequência? ')\n",
        "dicio = tabela_de_frequencia(palavra)\n",
        "print(dicio)\n",
        "\n",
        "def ordenação(dicio):\n",
        "\t  dicio = list(dicio.items())\n",
        "\t  dicio.sort()\n",
        "\t  return dicio\n",
        "\n",
        "print(ordenação(dicio))"
      ],
      "execution_count": 15,
      "outputs": [
        {
          "output_type": "stream",
          "text": [
            "Qual a palavra que você deseja imprimir uma tabela de frequência? palavra\n",
            "{'p': 1, 'a': 3, 'l': 1, 'v': 1, 'r': 1}\n",
            "[('a', 3), ('l', 1), ('p', 1), ('r', 1), ('v', 1)]\n"
          ],
          "name": "stdout"
        }
      ]
    },
    {
      "cell_type": "markdown",
      "metadata": {
        "id": "zLo6x8GPQ_Pi"
      },
      "source": [
        "Exercício 3: Escreva um programa que leia uma string e retorne uma tabela das letras do alfabeto em ordem alfabética que ocorrem na string junto com o número de vezes que cada letra ocorre. Letras maiúsculas devem deve ser ignoradas. "
      ]
    },
    {
      "cell_type": "code",
      "metadata": {
        "id": "eC6F6PgHRHBn",
        "outputId": "5625f728-07c9-419a-ee3e-3a7ba732fd90",
        "colab": {
          "base_uri": "https://localhost:8080/"
        }
      },
      "source": [
        "def tabela_ordenada(palavra):\n",
        "\t  count = {}\n",
        "\t  for i in palavra:\n",
        "\t  \tcount[i] = count.get(i,0) + 1\n",
        "\t  return count\n",
        "\n",
        "palavra = input('Qual string que você deseja ordenar em uma tabela de frequência? ')\n",
        "\n",
        "dicionario = tabela_ordenada(palavra)\n",
        "\n",
        "for (i,j) in sorted(dicionario.items()):\n",
        "\t  print(i,j)"
      ],
      "execution_count": 16,
      "outputs": [
        {
          "output_type": "stream",
          "text": [
            "Qual string que você deseja ordenar em uma tabela de frequência? FeRnaNdA\n",
            "A 1\n",
            "F 1\n",
            "N 1\n",
            "R 1\n",
            "a 1\n",
            "d 1\n",
            "e 1\n",
            "n 1\n"
          ],
          "name": "stdout"
        }
      ]
    }
  ]
}