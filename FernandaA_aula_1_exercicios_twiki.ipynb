{
  "nbformat": 4,
  "nbformat_minor": 0,
  "metadata": {
    "colab": {
      "name": "FernandaA_aula_1_exercicios_twiki.ipynb",
      "provenance": [],
      "authorship_tag": "ABX9TyMdIQ4YRp5ZeCrhXG89wFvi",
      "include_colab_link": true
    },
    "kernelspec": {
      "name": "python3",
      "display_name": "Python 3"
    }
  },
  "cells": [
    {
      "cell_type": "markdown",
      "metadata": {
        "id": "view-in-github",
        "colab_type": "text"
      },
      "source": [
        "<a href=\"https://colab.research.google.com/github/fernanda0402/Python/blob/master/FernandaA_aula_1_exercicios_twiki.ipynb\" target=\"_parent\"><img src=\"https://colab.research.google.com/assets/colab-badge.svg\" alt=\"Open In Colab\"/></a>"
      ]
    },
    {
      "cell_type": "code",
      "metadata": {
        "id": "_qIhHLtqu7-k",
        "colab_type": "code",
        "colab": {}
      },
      "source": [
        ""
      ],
      "execution_count": null,
      "outputs": []
    },
    {
      "cell_type": "markdown",
      "metadata": {
        "id": "7w1yaFzHvFsT",
        "colab_type": "text"
      },
      "source": [
        "Exercício 1: Se você fizer uma corrida de 10 quilômetros em 43 minutos e 30 segundos, qual será seu tempo médio por milha? Qual é a sua velocidade média em milhas por hora? (Dica: há 1,61 quilômetros em uma milha)."
      ]
    },
    {
      "cell_type": "code",
      "metadata": {
        "id": "UkaubuZyvNqD",
        "colab_type": "code",
        "colab": {
          "base_uri": "https://localhost:8080/",
          "height": 34
        },
        "outputId": "2d5805b6-fa50-466a-8bb5-3211656fd177"
      },
      "source": [
        "#Encontrar a distância d em milhas\n",
        "S = 10\n",
        "milha = 1.61\n",
        "d = S/milha\n",
        "print(d, 'milhas')"
      ],
      "execution_count": null,
      "outputs": [
        {
          "output_type": "stream",
          "text": [
            "6.211180124223602 milhas\n"
          ],
          "name": "stdout"
        }
      ]
    },
    {
      "cell_type": "code",
      "metadata": {
        "id": "zBJwt9qWvWnd",
        "colab_type": "code",
        "colab": {
          "base_uri": "https://localhost:8080/",
          "height": 34
        },
        "outputId": "8c3ef8b1-bbf4-4c28-b02e-ef35d42858c7"
      },
      "source": [
        "#Encontrar o tempo em horas\n",
        "tempo = 43.5\n",
        "hora = 60\n",
        "t = tempo/hora\n",
        "print(t, 'horas')"
      ],
      "execution_count": null,
      "outputs": [
        {
          "output_type": "stream",
          "text": [
            "0.725 horas\n"
          ],
          "name": "stdout"
        }
      ]
    },
    {
      "cell_type": "code",
      "metadata": {
        "id": "ayXc5IyUwW4i",
        "colab_type": "code",
        "colab": {
          "base_uri": "https://localhost:8080/",
          "height": 34
        },
        "outputId": "e875647f-03fb-4a27-e96c-e5cd3399c22e"
      },
      "source": [
        "#Encontrar o tempo médio por milha\n",
        "T = t/d\n",
        "print(T, 'h/milha')"
      ],
      "execution_count": null,
      "outputs": [
        {
          "output_type": "stream",
          "text": [
            "0.11672500000000001 h/milha\n"
          ],
          "name": "stdout"
        }
      ]
    },
    {
      "cell_type": "code",
      "metadata": {
        "id": "It09ryZ9zVz-",
        "colab_type": "code",
        "colab": {
          "base_uri": "https://localhost:8080/",
          "height": 34
        },
        "outputId": "c4795a6f-b11f-46e3-9294-abef053d7472"
      },
      "source": [
        "#Encontrar velocidade em milhas por hora\n",
        "v = d/t\n",
        "print(v,'milhas por hora')"
      ],
      "execution_count": null,
      "outputs": [
        {
          "output_type": "stream",
          "text": [
            "8.567144998929106 milhas por hora\n"
          ],
          "name": "stdout"
        }
      ]
    },
    {
      "cell_type": "markdown",
      "metadata": {
        "id": "zyaMQUQ4z2JO",
        "colab_type": "text"
      },
      "source": [
        "Exercício 2: Desde sua varanda você escuta o som do primeiro fogo artificial do reveillon 3 segundos depois de ver a luz, qual a distância?"
      ]
    },
    {
      "cell_type": "code",
      "metadata": {
        "id": "CHt3szPvz7VQ",
        "colab_type": "code",
        "colab": {
          "base_uri": "https://localhost:8080/",
          "height": 34
        },
        "outputId": "05c8925c-ddc3-433a-b6d4-6c39b04633fd"
      },
      "source": [
        "tempo = 3\n",
        "c = 3*10**8 #velocidade da luz\n",
        "v = 343 #velocidade do som\n",
        "distancia = v*tempo\n",
        "print(distancia, 'm')"
      ],
      "execution_count": null,
      "outputs": [
        {
          "output_type": "stream",
          "text": [
            "1029 m\n"
          ],
          "name": "stdout"
        }
      ]
    },
    {
      "cell_type": "markdown",
      "metadata": {
        "id": "cCjfDkrM0_OD",
        "colab_type": "text"
      },
      "source": [
        "Exercício 3: Ache os zeros da função $y = 3x^2 - 4x -10$"
      ]
    },
    {
      "cell_type": "code",
      "metadata": {
        "id": "rnKgEnk_1Mp5",
        "colab_type": "code",
        "colab": {
          "base_uri": "https://localhost:8080/",
          "height": 34
        },
        "outputId": "60f4c968-94c5-426a-a76a-1a9accdf9d1e"
      },
      "source": [
        "import math\n",
        "delta = (-4)**2 - 4*3*(-10)\n",
        "x1 = (4 + delta**(1/2))/6\n",
        "x2 = (4 - delta**(1/2))/6\n",
        "print(x1, x2)"
      ],
      "execution_count": null,
      "outputs": [
        {
          "output_type": "stream",
          "text": [
            "2.610317298281767 -1.2769839649484336\n"
          ],
          "name": "stdout"
        }
      ]
    },
    {
      "cell_type": "markdown",
      "metadata": {
        "id": "0c3avoco2UKg",
        "colab_type": "text"
      },
      "source": [
        "Exercício 4: Se, ao meio dia, a sombra de um poste de 5 m de altura tem apenas 50 cm de comprimento no chão, qual o ângulo zenital do sol?"
      ]
    },
    {
      "cell_type": "code",
      "metadata": {
        "id": "SxS7CLNR2ZBn",
        "colab_type": "code",
        "colab": {
          "base_uri": "https://localhost:8080/",
          "height": 34
        },
        "outputId": "1e02770b-eb32-4fe5-a4e7-a40b72d1102b"
      },
      "source": [
        "import math\n",
        "poste = 5\n",
        "sombra = 0.5\n",
        "theta = math.atan(sombra/poste) #arcotangente do ângulo\n",
        "print('O ângulo zenital é',theta, 'radianos')"
      ],
      "execution_count": 2,
      "outputs": [
        {
          "output_type": "stream",
          "text": [
            "O ângulo zenital é 0.09966865249116204 radianos\n"
          ],
          "name": "stdout"
        }
      ]
    },
    {
      "cell_type": "markdown",
      "metadata": {
        "id": "hDE0k4qK3C2D",
        "colab_type": "text"
      },
      "source": [
        "Exercício 5: Calcule o seu IMC. Um valor saudável estará --em geral-- entre 20-25. Um bebê de 6 meses \"gorducho\" tem 70 cm de \"comprimento\" e 11 kg de massa, qual o IMC dele?"
      ]
    },
    {
      "cell_type": "code",
      "metadata": {
        "id": "BxrKh83s3MJj",
        "colab_type": "code",
        "colab": {
          "base_uri": "https://localhost:8080/",
          "height": 34
        },
        "outputId": "e8e101bb-bbba-4c04-d62e-040380dd9fce"
      },
      "source": [
        "#IMC = M/A**2\n",
        "massaf = 65\n",
        "alturaf = 1.65 \n",
        "IMC = massaf/(alturaf)**2\n",
        "print(IMC)"
      ],
      "execution_count": null,
      "outputs": [
        {
          "output_type": "stream",
          "text": [
            "23.875114784205696\n"
          ],
          "name": "stdout"
        }
      ]
    },
    {
      "cell_type": "code",
      "metadata": {
        "id": "TjS9tBx-3olW",
        "colab_type": "code",
        "colab": {
          "base_uri": "https://localhost:8080/",
          "height": 34
        },
        "outputId": "a28cd978-3873-4d55-b5b1-567f74fb7085"
      },
      "source": [
        "#IMC do bebê\n",
        "massab = 11\n",
        "alturab = 0.7\n",
        "IMCb = massab/(alturab)**2\n",
        "print(IMCb) "
      ],
      "execution_count": null,
      "outputs": [
        {
          "output_type": "stream",
          "text": [
            "22.44897959183674\n"
          ],
          "name": "stdout"
        }
      ]
    },
    {
      "cell_type": "markdown",
      "metadata": {
        "id": "HCzNzQHQ4AYw",
        "colab_type": "text"
      },
      "source": [
        "Exercício 6: Calcule a velocidade final de um objeto em queda livre a partir de 3 metros de altura (sem resistência do ar). Calcule o tempo que esse objeto demora para cair."
      ]
    },
    {
      "cell_type": "code",
      "metadata": {
        "id": "NTG6bpPL4XEB",
        "colab_type": "code",
        "colab": {
          "base_uri": "https://localhost:8080/",
          "height": 34
        },
        "outputId": "eec4ba34-1210-483b-c136-46068e8003f2"
      },
      "source": [
        "#Encontrar a velocidade final\n",
        "altura = 3\n",
        "gravidade = 9.8\n",
        "v0 = 0\n",
        "v = (v0**2 + 2*gravidade*altura)**(1/2)\n",
        "print(v, 'm/s')"
      ],
      "execution_count": null,
      "outputs": [
        {
          "output_type": "stream",
          "text": [
            "7.6681158050723255 m/s\n"
          ],
          "name": "stdout"
        }
      ]
    },
    {
      "cell_type": "code",
      "metadata": {
        "id": "3I4qKgpP5At5",
        "colab_type": "code",
        "colab": {
          "base_uri": "https://localhost:8080/",
          "height": 34
        },
        "outputId": "9664dd10-cd70-4cac-af5f-9ba8f30fdd09"
      },
      "source": [
        "#Encontrar o tempo de queda\n",
        "tempo = v/gravidade\n",
        "print(tempo, 'segundos')"
      ],
      "execution_count": null,
      "outputs": [
        {
          "output_type": "stream",
          "text": [
            "0.7824607964359516 segundos\n"
          ],
          "name": "stdout"
        }
      ]
    }
  ]
}