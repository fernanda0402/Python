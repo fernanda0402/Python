{
  "nbformat": 4,
  "nbformat_minor": 0,
  "metadata": {
    "colab": {
      "name": "FernandaA_aula_9.ipynb",
      "provenance": [],
      "authorship_tag": "ABX9TyPGisB+mDvtrTghUurDHLmH",
      "include_colab_link": true
    },
    "kernelspec": {
      "name": "python3",
      "display_name": "Python 3"
    }
  },
  "cells": [
    {
      "cell_type": "markdown",
      "metadata": {
        "id": "view-in-github",
        "colab_type": "text"
      },
      "source": [
        "<a href=\"https://colab.research.google.com/github/fernanda0402/Python/blob/master/FernandaA_aula_9.ipynb\" target=\"_parent\"><img src=\"https://colab.research.google.com/assets/colab-badge.svg\" alt=\"Open In Colab\"/></a>"
      ]
    },
    {
      "cell_type": "markdown",
      "metadata": {
        "id": "obZ_RNlhEwtT"
      },
      "source": [
        "**Exercícios feitos em aula:**\n",
        "\n",
        "Exercício 1: Considere a função abaixo. Esse tipo de função é considerada uma função modificadora pois modifica o objeto que é passado como argumento.\n",
        "\n",
        "a) Modifique a função para retornar uma nova lista, sem modificar a lista usada como parâmetro. Esse tipo de função é chamado de função pura.\n",
        "\n",
        "b) Modifique a documentação de ajuda da nova função, de tal forma que quando se chame a função help da nova função, se obtenha a descrição adequada."
      ]
    },
    {
      "cell_type": "code",
      "metadata": {
        "id": "NPgTvHOUE5QO",
        "outputId": "63049e9b-84c0-44f8-f5bd-ca28472069be",
        "colab": {
          "base_uri": "https://localhost:8080/",
          "height": 51
        }
      },
      "source": [
        "def dobrar_elementos(uma_lista):\n",
        "    \"\"\" Reescreve os elementos de uma_lista com o dobro de seus valores originais.\n",
        "    \"\"\"\n",
        "    for (i, valor) in enumerate(uma_lista):\n",
        "        novo_elem = 2 * valor\n",
        "        uma_lista[i] = novo_elem\n",
        "\n",
        "    return uma_lista\n",
        "\n",
        "minha_lista = [2, 4, 6]\n",
        "print(minha_lista)\n",
        "dobrar_elementos(minha_lista)\n",
        "print(minha_lista)"
      ],
      "execution_count": null,
      "outputs": [
        {
          "output_type": "stream",
          "text": [
            "[2, 4, 6]\n",
            "[4, 8, 12]\n"
          ],
          "name": "stdout"
        }
      ]
    },
    {
      "cell_type": "code",
      "metadata": {
        "id": "sq1WkokCFB6S",
        "outputId": "8159fdc1-6af1-4b5b-faee-ba7154148d23",
        "colab": {
          "base_uri": "https://localhost:8080/",
          "height": 51
        }
      },
      "source": [
        "#Letra a\n",
        "def dobrar_elementos(uma_lista):\n",
        "    \"\"\" Reescreve os elementos de uma_lista com o dobro de seus valores originais a partir da criação de uma nova lista.\n",
        "    \"\"\"\n",
        "    nova_lista = []\n",
        "    for (i, valor) in enumerate(uma_lista):\n",
        "        novo_elemento = 2*valor\n",
        "        nova_lista.append(novo_elemento)\n",
        "\n",
        "    return nova_lista\n",
        "\n",
        "minha_lista = [2,4,6]\n",
        "print(minha_lista)\n",
        "lista_nova = dobrar_elementos(minha_lista)\n",
        "print(minha_lista, 'e a nova lista é', lista_nova)"
      ],
      "execution_count": null,
      "outputs": [
        {
          "output_type": "stream",
          "text": [
            "[2, 4, 6]\n",
            "[2, 4, 6] e a nova lista é [4, 8, 12]\n"
          ],
          "name": "stdout"
        }
      ]
    },
    {
      "cell_type": "code",
      "metadata": {
        "id": "8ZAgbAkdF1G9",
        "outputId": "def3efea-5235-45d8-da73-1e2236d82abb",
        "colab": {
          "base_uri": "https://localhost:8080/",
          "height": 102
        }
      },
      "source": [
        "#Letra b\n",
        "help(dobrar_elementos)"
      ],
      "execution_count": null,
      "outputs": [
        {
          "output_type": "stream",
          "text": [
            "Help on function dobrar_elementos in module __main__:\n",
            "\n",
            "dobrar_elementos(uma_lista)\n",
            "    Reescreve os elementos de uma_lista com o dobro de seus valores originais a partir da criação de uma nova lista.\n",
            "\n"
          ],
          "name": "stdout"
        }
      ]
    },
    {
      "cell_type": "markdown",
      "metadata": {
        "id": "428WIvKrJL9e"
      },
      "source": [
        "**Exercícios para casa:**\n",
        "\n",
        "Exercício 1: Utilizando um arquivo de dados com várias colunas (por exemplo, o arquivo dados_alunos.txt), faça um histograma com os dados de cada uma das colunas. Dica: utilize o matplotlib para fazer os histogramas."
      ]
    },
    {
      "cell_type": "code",
      "metadata": {
        "id": "FD46ngOaJUCu",
        "outputId": "8f1014ab-e297-442f-9e6b-d3565975154f",
        "colab": {
          "base_uri": "https://localhost:8080/"
        }
      },
      "source": [
        "%%writefile dados_alunos.txt\n",
        "\n",
        "#Idade, altura e peso, respectivamente, dos alunos\n",
        "\n",
        "18\t1.68\t80\n",
        "18\t1.94\t60\n",
        "18\t1.7\t  80\n",
        "18\t1.76\t66\n",
        "19\t1.73\t87.5\n",
        "18\t1.66\t58\n",
        "21\t1.8\t  92\n",
        "18\t1.6\t  57\n",
        "18\t1.67\t64\n",
        "18\t1.73\t57\n",
        "17\t1.73\t75\n",
        "18\t1.61\t59\n",
        "18\t1.69\t90\n",
        "17\t1.71\t67\n",
        "19\t1.78\t60\n",
        "22\t1.68\t72\n",
        "18\t1.7\t  73\n",
        "19\t1.64\t86\n",
        "18\t1.64\t75\n",
        "20\t1.8\t  95\n",
        "17\t1.75\t60\n",
        "18\t1.78\t75\n",
        "18\t1.75\t65\n",
        "17\t1.69\t60\n",
        "19\t1.78\t73\n",
        "18\t1.7\t  63\n",
        "34\t1.75\t78\n",
        "18\t1.64\t64\n",
        "19\t1.75\t50\n",
        "18\t1.67\t61\n",
        "18\t1.7\t  70\n",
        "20\t1.8\t  60\n",
        "18\t1.63\t57\n",
        "23\t1.89\t110\n",
        "18\t1.71\t71\n",
        "18\t1.65\t65\n",
        "17\t1.72\t67\n",
        "19\t1.65\t58\n",
        "18\t1.75\t90\n",
        "18\t1.7\t  64\n",
        "19\t1.81\t70\n",
        "19\t1.65\t43\n",
        "28\t1.52\t50\n",
        "19\t1.79\t78\n",
        "26\t1.79\t82\n",
        "19\t1.75\t61\n",
        "19\t1.8\t  70\n",
        "20\t1.75\t70\n",
        "20\t1.73\t70\n",
        "19\t1.7\t  50\n",
        "22\t1.78\t72\n",
        "19\t1.77\t55\n",
        "18\t1.53\t58\n",
        "28\t1.54\t50\n",
        "20\t1.83\t70\n",
        "44\t1.85\t90\n",
        "18\t1.6\t  51"
      ],
      "execution_count": null,
      "outputs": [
        {
          "output_type": "stream",
          "text": [
            "Overwriting dados_alunos.txt\n"
          ],
          "name": "stdout"
        }
      ]
    },
    {
      "cell_type": "code",
      "metadata": {
        "id": "uTi3xHWYK4WS"
      },
      "source": [
        "%cat dados_alunos.txt"
      ],
      "execution_count": null,
      "outputs": []
    },
    {
      "cell_type": "code",
      "metadata": {
        "id": "bx5cJ6x2K9Do"
      },
      "source": [
        "fin = open('dados_alunos.txt')\n",
        "fin.readline()"
      ],
      "execution_count": null,
      "outputs": []
    },
    {
      "cell_type": "code",
      "metadata": {
        "id": "G4kxtkx9XwWP"
      },
      "source": [
        "linha = fin.readline()\n",
        "linha.strip()"
      ],
      "execution_count": null,
      "outputs": []
    },
    {
      "cell_type": "code",
      "metadata": {
        "id": "tYqvKoUxK_QB",
        "outputId": "28557d62-e2f4-43bd-eead-d777f82ca8a6",
        "colab": {
          "base_uri": "https://localhost:8080/",
          "height": 129
        }
      },
      "source": [
        "import matplotlib.pyplot as plt\n",
        "\n",
        "def histrograma(data,freq,title,x_label,y_label):\n",
        "\tplt.bar(data,freq)\n",
        "\tplt.suptitle(title, fontsize = 14)\n",
        "\tplt.xlabel(x_label, fontsize = 12)\n",
        "\tplt.ylabel(y_label, fontsize = 12)\n",
        "\tplt.show()\n",
        " \n",
        "fin = open('dados_alunos.txt')\n",
        "objeto = fin.readline()\n",
        "\n",
        "coluna_0 = []\n",
        "coluna_1 = []\n",
        "coluna_2 = []\n",
        "\n",
        "for i in objeto:\n",
        "\t\tcolumn = i.strip().split('\\t')\n",
        "\t\tcoluna_0.append(eval(column[0]))\n",
        "\t\tcoluna_1.append(eval(column[1]))\n",
        "\t\tcoluna_2.append(eval(column[2]))\n",
        "\n",
        "freq_0 = []\n",
        "data_0 = []\n",
        "\n",
        "for j in coluna_0:\n",
        "\t\tif j not in data_0:\n",
        "\t\t\tdata_0.append(j)\n",
        "\n",
        "for k in data_0:\n",
        "\t\tfreq_0.append(coluna_0.count(k))\n",
        "\n",
        "freq_1 = []\n",
        "data_1 = []\n",
        "\n",
        "for j in coluna_1:\n",
        "\t\tif j not in data_1:\n",
        "\t\t\tdata_1.append(j)\n",
        "\n",
        "for k in data_1:\n",
        "\t\tfreq_1.append(coluna_1.count(k))\n",
        "\n",
        "freq_2 = []\n",
        "data_2 = []\n",
        "\n",
        "for j in coluna_2:\n",
        "\t\tif j not in data_2:\n",
        "\t\t\tdata_2.append(j)\n",
        "\n",
        "for k in data_2:\n",
        "\t\tfreq_2.append(coluna_2.count(k))"
      ],
      "execution_count": null,
      "outputs": [
        {
          "output_type": "error",
          "ename": "SyntaxError",
          "evalue": "ignored",
          "traceback": [
            "\u001b[0;36m  File \u001b[0;32m\"<string>\"\u001b[0;36m, line \u001b[0;32munknown\u001b[0m\n\u001b[0;31m    \u001b[0m\n\u001b[0m    ^\u001b[0m\n\u001b[0;31mSyntaxError\u001b[0m\u001b[0;31m:\u001b[0m unexpected EOF while parsing\n"
          ]
        }
      ]
    },
    {
      "cell_type": "markdown",
      "metadata": {
        "id": "x4hTqVI_V6ED"
      },
      "source": [
        "Exercício 2: Estude os métodos do módulo os e faça um script que liste todos os arquivos de um dado diretório assim como de seus subdiretórios. Dica: use o método walk."
      ]
    },
    {
      "cell_type": "code",
      "metadata": {
        "id": "QUjnMsneV-sU"
      },
      "source": [
        "import os\n",
        "def diretorio():\n",
        "\tfor dirname, dirnames, filenames in os.walk('.'):\n",
        "\t\tfor subdirname in dirnames:\n",
        "\t\t\tprint(os.path.join(dirname,subdirname))\n",
        "\n",
        "\t\tfor filename in filenames:\n",
        "\t\t\tprint(os.path.join(dirname,filename))\n",
        "\n",
        "diretorio()"
      ],
      "execution_count": null,
      "outputs": []
    },
    {
      "cell_type": "markdown",
      "metadata": {
        "id": "nv1LGx8CWC78"
      },
      "source": [
        "Exercício 3*: Reescreva o script dessa aula, lcount.py na forma de uma módulo. Qual o valor da variável __name__ quando o módulo é importado?"
      ]
    },
    {
      "cell_type": "code",
      "metadata": {
        "id": "WwL2ShhKWQ-Y",
        "outputId": "b933a005-47fd-48a5-f2b6-de7c9a2e9bad",
        "colab": {
          "base_uri": "https://localhost:8080/",
          "height": 34
        }
      },
      "source": [
        "#Script da aula\n",
        "\n",
        "%%writefile lcount.py\n",
        "\n",
        "def linecount(filename):\n",
        "    count = 0\n",
        "    for line in open(filename):\n",
        "        count += 1\n",
        "    return count\n",
        "\n",
        "linecount('lcount.py')"
      ],
      "execution_count": null,
      "outputs": [
        {
          "output_type": "stream",
          "text": [
            "Overwriting lcount.py\n"
          ],
          "name": "stdout"
        }
      ]
    },
    {
      "cell_type": "code",
      "metadata": {
        "id": "znDwyBW5WWZ0"
      },
      "source": [
        "%cat lcount.py"
      ],
      "execution_count": null,
      "outputs": []
    },
    {
      "cell_type": "code",
      "metadata": {
        "id": "OENMlY3wXqud",
        "outputId": "dd174670-f7b9-4575-a222-d3e4b450e35f",
        "colab": {
          "base_uri": "https://localhost:8080/",
          "height": 34
        }
      },
      "source": [
        "#Resolução\n",
        "import lcount\n",
        "\n",
        "def linecount(filename):\n",
        "    count = 0\n",
        "    for line in open(filename):\n",
        "        count += 1\n",
        "    return count\n",
        "\n",
        "if __name__ == '__main__':\n",
        "    print(linecount('lcount.py'))"
      ],
      "execution_count": null,
      "outputs": [
        {
          "output_type": "stream",
          "text": [
            "8\n"
          ],
          "name": "stdout"
        }
      ]
    },
    {
      "cell_type": "markdown",
      "metadata": {
        "id": "4Add7AcAX6oR"
      },
      "source": [
        "Exercício 4: Escreva uma função chamada ler_arquivos que tome como argumento um nome de arquivo, leia um arquivo com um número qualquer de colunas e retorne um dicionário que tenha como keys os números das colunas e como valor uma lista dos valores associados a cada coluna do arquivo. Use o arquivo dados_alunos.txt. Caso o arquivo tiver o cabeçalho das colunas, p.ex. dados_alunos_cabecalho.txt, a key deve ser a palavra do cabeçalho.\n",
        "\n",
        "\n",
        "\n",
        "*   Caso não queria usar dicionários, você pode pensar em uma estrutura de dados alternativa para armazenar os dados do arquivo, como por exemplo uma ou mais listas.\n",
        "*   Também pode usar funções já existentes nos módulos de Python numpy ou pandas para ler arquivos de texto e armazenar nas estruturas desses módulos (DataFrames ou arrays).\n",
        "\n",
        "*   Adapte a função acima para, se ocorrer um erro ao abrir, ler ou fechar arquivos, o programa capturar a exceção, imprimir uma mensagem de erro e sair."
      ]
    },
    {
      "cell_type": "code",
      "metadata": {
        "id": "BPftk9K5YKqA"
      },
      "source": [
        "def ler_arquivos(arquivo):\n",
        "\ttry:\n",
        "\t\tfile = open(arquivo)\n",
        "\texcept:\n",
        "\t\tprint('O arquivo não pode ser lido.')\n",
        "\t\tprint('Verifique se o nome do arquivo está correto e se ele está no diretório que o script está sendo executado.')\n",
        "\t\texit()\n",
        "\n",
        "\task = input('O arquivo %s que você deseja ler possui cabeçalho? [sim/não] ' % arquivo)\n",
        "\twhile ask not in {'sim', 'não'}:\n",
        "\t\task = input('Essa não é uma resposta válida! Responda \"sim\" ou \"não\".')\n",
        "\n",
        "\tdata = {}\n",
        "\tlista_auxiliar = []\n",
        "\tlinhas = file.readlines()\n",
        "\n",
        "\tfor i in linhas:\n",
        "\t\tcolumn = i.strip().split('\\t')\n",
        "\t\tlista_auxiliar.append(column)\n",
        "\n",
        "\tif ask == 'sim':\n",
        "\t\tfor i in lista_auxiliar[0]:\n",
        "\t\t\tdata[i] = []\n",
        "\n",
        "\t\tfor i in range(1,len(lista_auxiliar)):\n",
        "\t\t\tfor j in range(len(lista_auxiliar[i])):\n",
        "\t\t\t\tdata[ lista_auxiliar[0][j] ].append(eval(lista_auxiliar[i][j]))\n",
        "\telse:\n",
        "\t\tfor i in range(len(column)):\n",
        "\t\t\tdata[i] = []\n",
        "\n",
        "\t\tfor i in range(len(column)):\n",
        "\t\t\tfor j in range(len(lista_auxiliar)):\n",
        "\t\t\t\tdata[i].append(eval(lista_auxiliar[j][i]))\n",
        "\n",
        "\treturn data, ask\n",
        "\n",
        "if __name__ == '__main__':\n",
        "\tfilename = input('Digite o nome do arquivo que você deseja ler sem a extensão .txt: ')\n",
        "\tler_arquivos(filename + '.txt')"
      ],
      "execution_count": null,
      "outputs": []
    },
    {
      "cell_type": "markdown",
      "metadata": {
        "id": "uaSVf-BHYLM4"
      },
      "source": [
        "Exercício 5*: Adapte o script acima para ser um módulo."
      ]
    },
    {
      "cell_type": "code",
      "metadata": {
        "id": "r6W7hJzlYOAB",
        "outputId": "fae8f789-e47c-4ad2-be50-a34d3598a912",
        "colab": {
          "base_uri": "https://localhost:8080/"
        }
      },
      "source": [
        "%%writefile lerarquivos.py\n",
        "\n",
        "def ler_arquivos(arquivo):\n",
        "\ttry:\n",
        "\t\tfile = open(arquivo)\n",
        "\texcept:\n",
        "\t\tprint('O arquivo não pode ser lido.')\n",
        "\t\tprint('Verifique se o nome do arquivo está correto e se ele está no diretório que o script está sendo executado.')\n",
        "\t\texit()\n",
        "  \n",
        "ler_arquivos('lerarquivos.py')"
      ],
      "execution_count": null,
      "outputs": [
        {
          "output_type": "stream",
          "text": [
            "Writing lerarquivos.py\n"
          ],
          "name": "stdout"
        }
      ]
    },
    {
      "cell_type": "code",
      "metadata": {
        "id": "qyuinxZpLz6g",
        "outputId": "7a3ba36b-f607-4ac4-9676-d63f445248c3",
        "colab": {
          "base_uri": "https://localhost:8080/"
        }
      },
      "source": [
        "%cat lerarquivos.py"
      ],
      "execution_count": null,
      "outputs": [
        {
          "output_type": "stream",
          "text": [
            "\n",
            "def ler_arquivos(arquivo):\n",
            "\ttry:\n",
            "\t\tfile = open(arquivo)\n",
            "\texcept:\n",
            "\t\tprint('O arquivo não pode ser lido.')\n",
            "\t\tprint('Verifique se o nome do arquivo está correto e se ele está no diretório que o script está sendo executado.')\n",
            "\t\texit()\n",
            "  \n",
            "ler_arquivos('lerarquivos.py')"
          ],
          "name": "stdout"
        }
      ]
    },
    {
      "cell_type": "markdown",
      "metadata": {
        "id": "6CSB2NTxYOvy"
      },
      "source": [
        "Exercício 6*: Escreva um script que importe o módulo criado acima e faça um histograma para cada coluna do arquivo, com seus respectivos valores. Use o dicionário ou a estrutura de dados criada em (1)."
      ]
    },
    {
      "cell_type": "code",
      "metadata": {
        "id": "U-KK5mAwYUmE"
      },
      "source": [
        "import lerarquivos\n",
        "import matplotlib.pyplot as plt\n",
        "\n",
        "def histograma(data,freq,title,x_label,y_label):\n",
        "\tplt.bar(data,freq)\n",
        "\tplt.suptitle(title, fontsize = 14)\n",
        "\tplt.xlabel(x_label, fontsize = 12)\n",
        "\tplt.ylabel(y_label, fontsize = 12)\n",
        "\n",
        "\n",
        "filename = input('Digite o nome do arquivo de texto que você deseja ler sem a extensão .txt: ')\n",
        "data, ask = open.ler_arquivos(filename + '.txt')\n",
        "\n",
        "valores = list(data.values())\n",
        "chaves = list(data.keys())\n",
        "\n",
        "frequencias = [[] for i in range(len(data))]\n",
        "classes = [[] for i in range(len(data))]\n",
        "\n",
        "if ask == 'yes':\n",
        "\tfor i in range(len(data)):\n",
        "\t\tfor j in list(set(valores[i])):\n",
        "\t\t\tclasses[i].append(j)\n",
        "\n",
        "\tfor i in range(len(data)):\n",
        "\t\tfor j in classes[i]:\n",
        "\t\t\tfrequencias[i].append(valores[i].count(j))\n",
        "   \n",
        "else:\n",
        "\tfor i in range(len(data)):\n",
        "\t\tfor j in list(set(valores[i])):\n",
        "\t\t\tclasses[i].append(j)\n",
        "\n",
        "\tfor i in range(len(data)):\n",
        "\t\tfor j in classes[i]:\n",
        "\t\t\tfrequencias[i].append(valores[i].count(j))"
      ],
      "execution_count": null,
      "outputs": []
    },
    {
      "cell_type": "markdown",
      "metadata": {
        "id": "Og7VJmDYYU2E"
      },
      "source": [
        "Exercício 7: Adicione uma função ao script criado em (6), que calcule o desvio padrão amostral, desvio padrão populacional e média de cada distribuição representada nos histogramas acima. Para tal, use o módulo statistics do Python ou outro módulo de Python (numpy, scipy)."
      ]
    },
    {
      "cell_type": "code",
      "metadata": {
        "id": "NHdroaJmamy8"
      },
      "source": [
        "import lerarquivos\n",
        "import statistics\n",
        "\n"
      ],
      "execution_count": null,
      "outputs": []
    }
  ]
}